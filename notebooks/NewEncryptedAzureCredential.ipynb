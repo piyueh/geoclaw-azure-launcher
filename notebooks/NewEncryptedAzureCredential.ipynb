{
 "cells": [
  {
   "cell_type": "markdown",
   "metadata": {},
   "source": [
    "# Create a new encrypted file for Azure credentials"
   ]
  },
  {
   "cell_type": "markdown",
   "metadata": {},
   "source": [
    "We'll need several user credentials to access Azure Batch and Storage resources:\n",
    "\n",
    "1. Batch account name, \n",
    "2. Batch account URL,\n",
    "3. Batch account key,\n",
    "4. Storage account name, and\n",
    "5. Storage account key.\n",
    "\n",
    "It'll be bothersome to copy and paste these credentials every time they are required. So the purpose of this tool is to create an encrypted file that contains all credential information. The file will be encrypted with an user-provide passcode. Whenever a user is asked to provide his/her Azure credentials, he/she can just give the path to the encrypted file and the passcode."
   ]
  },
  {
   "cell_type": "code",
   "execution_count": 1,
   "metadata": {},
   "outputs": [
    {
     "data": {
      "text/html": [
       "<link href='http://fonts.googleapis.com/css?family=Alegreya+Sans:100,300,400,500,700,800,900,100italic,300italic,400italic,500italic,700italic,800italic,900italic' rel='stylesheet' type='text/css'>\n",
       "<link href='http://fonts.googleapis.com/css?family=Arvo:400,700,400italic' rel='stylesheet' type='text/css'>\n",
       "<link href='http://fonts.googleapis.com/css?family=PT+Mono' rel='stylesheet' type='text/css'>\n",
       "<link href='https://fonts.googleapis.com/css?family=Droid+Sans+Mono' rel='stylesheet' type='text/css'>\n",
       "<link href='http://fonts.googleapis.com/css?family=Shadows+Into+Light' rel='stylesheet' type='text/css'>\n",
       "<link href='http://fonts.googleapis.com/css?family=Nixie+One' rel='stylesheet' type='text/css'>\n",
       "<link href='https://fonts.googleapis.com/css?family=Source+Code+Pro' rel='stylesheet' type='text/css'>\n",
       "<link href='https://fonts.googleapis.com/css?family=Source+Sans+Pro:400,300italic,300,200italic,200,400italic,600,600italic,700,700italic,900,900italic' rel='stylesheet' type='text/css'>\n",
       "<link href='https://fonts.googleapis.com/css?family=Roboto+Slab:400,100,300,700' rel='stylesheet' type='text/css'>\n",
       "<style>\n",
       "\n",
       "@font-face {\n",
       "    font-family: \"Computer Modern\";\n",
       "    src: url('http://mirrors.ctan.org/fonts/cm-unicode/fonts/otf/cmunss.otf');\n",
       "}\n",
       "\n",
       "#notebook_panel { /* main background */\n",
       "    background: rgb(245,245,245);\n",
       "}\n",
       "\n",
       ".widget-text input[type=\"password\"] {\n",
       "    box-sizing: border-box;\n",
       "    border: 1px solid #9E9E9E;\n",
       "    background-color: white;\n",
       "    color: rgba(0, 0, 0, .8);\n",
       "    font-size: 13px;\n",
       "    padding: 4px 8px;\n",
       "    -webkit-box-flex: 1;\n",
       "    flex-grow: 1;\n",
       "    min-width: 0;\n",
       "    flex-shrink: 1;\n",
       "    outline: none;\n",
       "    height: 28px;\n",
       "    line-height: 28px;\n",
       "}\n",
       "\n",
       ".label-wrapped {\n",
       "    white-space: normal;\n",
       "    line-height: 100%;\n",
       "}\n",
       "\n",
       "div.cell { /* set cell width */\n",
       "    width: 90%;\n",
       "}\n",
       "\n",
       "div #notebook { /* centre the content */\n",
       "    background: #fff; /* white background for content */\n",
       "    width: 100%;\n",
       "    margin: auto;\n",
       "    padding-left: 0em;\n",
       "}\n",
       "\n",
       "#notebook li { /* More space between bullet points */\n",
       "    margin-top:0.5em;\n",
       "}\n",
       "\n",
       "/* draw border around running cells */\n",
       "div.cell.border-box-sizing.code_cell.running { \n",
       "    border: 1px solid #111;\n",
       "}\n",
       "\n",
       "/* Put a solid color box around each cell and its output, visually linking them*/\n",
       "div.cell.code_cell {\n",
       "    background-color: rgb(256,256,256); \n",
       "    border-radius: 0px; \n",
       "    padding: 0.5em;\n",
       "    margin-left:1em;\n",
       "    margin-top: 1em;\n",
       "}\n",
       "\n",
       "div.text_cell_render{\n",
       "    font-family: 'Source Sans Pro' sans-serif;\n",
       "    line-height: 18pt;\n",
       "    font-size: 12pt;\n",
       "    font-weight: normal;\n",
       "    width: 90%;\n",
       "    margin-left:auto;\n",
       "    margin-right:auto;\n",
       "}\n",
       "\n",
       "\n",
       "/* Formatting for header cells */\n",
       ".text_cell_render h1 {\n",
       "    font-family: 'Roboto Slab', serif;\n",
       "    font-style:regular;\n",
       "    font-weight: 400;    \n",
       "    font-size: 26pt;\n",
       "    line-height: 110%;\n",
       "    color: rgb(17,102,172);\n",
       "    margin-bottom: 0.5em;\n",
       "    margin-top: 1.0em;\n",
       "    display: block;\n",
       "}\n",
       "\n",
       ".text_cell_render h2 {\n",
       "    font-family: 'Roboto Slab', serif;\n",
       "    font-weight: 400;\n",
       "    font-size: 22pt;\n",
       "    line-height: 110%;\n",
       "    color: rgb(102,172,17);\n",
       "    margin-bottom: 0.1em;\n",
       "    margin-top: 0.3em;\n",
       "    display: block;\n",
       "}\t\n",
       "\n",
       ".text_cell_render h3 {\n",
       "    font-family: 'Roboto Slab', serif;\n",
       "    margin-top:16px;\n",
       "    font-size: 18pt;\n",
       "    font-weight: 300;\n",
       "    line-height: 110%;\n",
       "    margin-bottom: 3px;\n",
       "    color: rgb(172,164,17);\n",
       "}\n",
       "\n",
       ".text_cell_render h4 {    /*Use this for small titles*/\n",
       "    font-family: 'Roboto Slab', sans-serif;\n",
       "    font-weight: 300;\n",
       "    font-size: 14pt;\n",
       "    line-height: 110%;\n",
       "    color: rgb(172,87,17);\n",
       "    margin-bottom: .1em;\n",
       "    margin-top: 1em;\n",
       "    display: block;\n",
       "}\n",
       "\n",
       ".text_cell_render h5 {  /*Use this for captions*/\n",
       "    font-family: 'Roboto Slab', serif;\n",
       "    font-size: 14pt;\n",
       "    font-weight: 200;\n",
       "    font-style: italic;\n",
       "    text-align: center;\n",
       "    margin-top: 3em;\n",
       "    margin-bottom: 2em;\n",
       "\n",
       "}\n",
       "\n",
       ".text_cell_render h6 { /*use this for copyright note*/\n",
       "    font-family: 'PT Mono', sans-serif;\n",
       "    font-weight: 300;\n",
       "    font-size: 9pt;\n",
       "    line-height: 100%;\n",
       "    color: grey;\n",
       "    margin-bottom: 1px;\n",
       "    margin-top: 1px;\n",
       "}\n",
       "\n",
       ".CodeMirror{\n",
       "    font-family: \"Source Code Pro\";\n",
       "    font-size: 12pt;\n",
       "}\n",
       "\n",
       ".alert-box {\n",
       "    padding:10px 10px 10px 36px;\n",
       "    margin:5px;\n",
       "}\n",
       "\n",
       ".success {\n",
       "    color:#666600;\n",
       "    background:rgb(240,242,229);\n",
       "}\n",
       "</style>\n",
       "<script>\n",
       "    MathJax.Hub.Config({\n",
       "                        TeX: {\n",
       "                           extensions: [\"AMSmath.js\"],\n",
       "                           equationNumbers: { autoNumber: \"AMS\", useLabelIds: true}\n",
       "                           },\n",
       "                tex2jax: {\n",
       "                    inlineMath: [ ['$','$'], [\"\\\\(\",\"\\\\)\"] ],\n",
       "                    displayMath: [ ['$$','$$'], [\"\\\\[\",\"\\\\]\"] ]\n",
       "                },\n",
       "                displayAlign: 'center', // Change this to 'center' to center equations.\n",
       "                \"HTML-CSS\": {\n",
       "                    styles: {'.MathJax_Display': {\"margin\": 4}}\n",
       "                }\n",
       "        });\n",
       "</script>\n"
      ],
      "text/plain": [
       "<IPython.core.display.HTML object>"
      ]
     },
     "metadata": {},
     "output_type": "display_data"
    },
    {
     "data": {
      "application/vnd.jupyter.widget-view+json": {
       "model_id": "e1c59433e17a4b269e6c60e87cd84643",
       "version_major": 2,
       "version_minor": 0
      },
      "text/plain": [
       "VBox(children=(HBox(children=(Label(value='Azure Batch account name', layout=Layout(width='25%')), Password(la…"
      ]
     },
     "metadata": {},
     "output_type": "display_data"
    }
   ],
   "source": [
    "import scripts.NewEncryptedAzureCredential\n",
    "scripts.NewEncryptedAzureCredential.display_tool_gui()"
   ]
  }
 ],
 "metadata": {
  "kernelspec": {
   "display_name": "Python 3",
   "language": "python",
   "name": "python3"
  },
  "language_info": {
   "codemirror_mode": {
    "name": "ipython",
    "version": 3
   },
   "file_extension": ".py",
   "mimetype": "text/x-python",
   "name": "python",
   "nbconvert_exporter": "python",
   "pygments_lexer": "ipython3",
   "version": "3.6.8"
  },
  "toc": {
   "base_numbering": 1,
   "nav_menu": {},
   "number_sections": true,
   "sideBar": true,
   "skip_h1_title": true,
   "title_cell": "Table of Contents",
   "title_sidebar": "Contents",
   "toc_cell": false,
   "toc_position": {
    "height": "calc(100% - 180px)",
    "left": "10px",
    "top": "150px",
    "width": "282px"
   },
   "toc_section_display": true,
   "toc_window_display": true
  },
  "varInspector": {
   "cols": {
    "lenName": 16,
    "lenType": 16,
    "lenVar": 40
   },
   "kernels_config": {
    "python": {
     "delete_cmd_postfix": "",
     "delete_cmd_prefix": "del ",
     "library": "var_list.py",
     "varRefreshCmd": "print(var_dic_list())"
    },
    "r": {
     "delete_cmd_postfix": ") ",
     "delete_cmd_prefix": "rm(",
     "library": "var_list.r",
     "varRefreshCmd": "cat(var_dic_list()) "
    }
   },
   "types_to_exclude": [
    "module",
    "function",
    "builtin_function_or_method",
    "instance",
    "_Feature"
   ],
   "window_display": false
  },
  "widgets": {
   "application/vnd.jupyter.widget-state+json": {
    "state": {
     "010d49a048b940399668c52c3c791d60": {
      "model_module": "@jupyter-widgets/base",
      "model_module_version": "1.1.0",
      "model_name": "LayoutModel",
      "state": {
       "width": "65%"
      }
     },
     "012f361aff0f43679c32d1a5689d8a12": {
      "model_module": "@jupyter-widgets/base",
      "model_module_version": "1.1.0",
      "model_name": "LayoutModel",
      "state": {
       "width": "65%"
      }
     },
     "01630de85f434e18ad2cbcc6072b4469": {
      "model_module": "@jupyter-widgets/controls",
      "model_module_version": "1.4.0",
      "model_name": "TextModel",
      "state": {
       "layout": "IPY_MODEL_7ac22c3c74e74a929cce5420d0c7519f",
       "placeholder": "The name of the resulting encrypted credential file",
       "style": "IPY_MODEL_5c3c6b9f547a4a859d5cf573673905d9"
      }
     },
     "02bb72dea11243c4b8f46ee6aeec2a36": {
      "model_module": "@jupyter-widgets/controls",
      "model_module_version": "1.4.0",
      "model_name": "DescriptionStyleModel",
      "state": {
       "description_width": ""
      }
     },
     "048c99b5da28406abe8beb18975ddf14": {
      "model_module": "@jupyter-widgets/controls",
      "model_module_version": "1.4.0",
      "model_name": "DescriptionStyleModel",
      "state": {
       "description_width": ""
      }
     },
     "0577c7fc217d43f496375869c781cade": {
      "model_module": "@jupyter-widgets/controls",
      "model_module_version": "1.4.0",
      "model_name": "PasswordModel",
      "state": {
       "layout": "IPY_MODEL_d7bf0f7abf4b492b8e95fa4505f91dfa",
       "placeholder": "Confirm passcode",
       "style": "IPY_MODEL_f988392795454bfca505ed11accea5ee"
      }
     },
     "08b5898dea2e46a7bbb9b21959c26a2e": {
      "model_module": "@jupyter-widgets/base",
      "model_module_version": "1.1.0",
      "model_name": "LayoutModel",
      "state": {
       "width": "90%"
      }
     },
     "0c3fb20259744602ad2a35af25bf0367": {
      "model_module": "@jupyter-widgets/base",
      "model_module_version": "1.1.0",
      "model_name": "LayoutModel",
      "state": {
       "width": "25%"
      }
     },
     "0e65c58468734d53bf5556a098467fd3": {
      "model_module": "@jupyter-widgets/controls",
      "model_module_version": "1.4.0",
      "model_name": "VBoxModel",
      "state": {
       "children": [
        "IPY_MODEL_50d66ef791b944748b721a2288aec1a8",
        "IPY_MODEL_7539efb477674b28ad28971761472eb3",
        "IPY_MODEL_a07d4559be9b4dae8f9dd8f67d42299e",
        "IPY_MODEL_dcb5eb41c42949ac9cb8725ced665830",
        "IPY_MODEL_1bc38ba3cfee4c84861ca5c7b434a854",
        "IPY_MODEL_7b0be9993aac4a589bc28d6b390c178a",
        "IPY_MODEL_e96fdeef44e546f88ee3c1536144f970",
        "IPY_MODEL_b28aa021f8e34adf9ed1f0c1146ebe26",
        "IPY_MODEL_436f60b4941440bc9cbb602410d36026",
        "IPY_MODEL_90d549646e5b4d96a86c12a72dfdce67",
        "IPY_MODEL_40a2f549c67b451b8d91d5d4ce5e0bc7"
       ],
       "layout": "IPY_MODEL_d018d70fa46d4a249e44e00ce9c777b9"
      }
     },
     "115c669eeb0a4e5381532066d0d1d89a": {
      "model_module": "@jupyter-widgets/controls",
      "model_module_version": "1.4.0",
      "model_name": "LabelModel",
      "state": {
       "layout": "IPY_MODEL_869d73473c1547178b4500b5d6d878ac",
       "style": "IPY_MODEL_c0f8089fc5ea4238b9ee81a74897de19",
       "value": "Azure Storage account name"
      }
     },
     "12497c254aea4b8fabf3d81e2ec0160f": {
      "model_module": "@jupyter-widgets/base",
      "model_module_version": "1.1.0",
      "model_name": "LayoutModel",
      "state": {
       "width": "25%"
      }
     },
     "1255cfd559794ade9066d5df91eac168": {
      "model_module": "@jupyter-widgets/controls",
      "model_module_version": "1.4.0",
      "model_name": "LabelModel",
      "state": {
       "layout": "IPY_MODEL_bfa7051f63b84841866cddb7bd0ac379",
       "style": "IPY_MODEL_1a3d00c939e348a2ab73ec9c8ddb460e",
       "value": "Azure Storage account key"
      }
     },
     "133da20d425143ef80a1bc4ab34ebf81": {
      "model_module": "@jupyter-widgets/controls",
      "model_module_version": "1.4.0",
      "model_name": "PasswordModel",
      "state": {
       "layout": "IPY_MODEL_986cc604c9a84271be5c28d6fb066ccb",
       "placeholder": "Azure Batch account key",
       "style": "IPY_MODEL_b738c199534849fe971d286ec41d5817"
      }
     },
     "14cb7f20b1124a3ca356dce300c0b282": {
      "model_module": "@jupyter-widgets/base",
      "model_module_version": "1.1.0",
      "model_name": "LayoutModel",
      "state": {
       "width": "90%"
      }
     },
     "19c242ac7fb24cdbbcc618f561507694": {
      "model_module": "@jupyter-widgets/controls",
      "model_module_version": "1.4.0",
      "model_name": "HBoxModel",
      "state": {
       "children": [
        "IPY_MODEL_4c7bc4748b0444e5bb469a4d6f6f4639",
        "IPY_MODEL_963efc247fe34d9286981587db4d27e3"
       ],
       "layout": "IPY_MODEL_8177ff4c335b4804a5f49f3b3445ed3d"
      }
     },
     "1a3d00c939e348a2ab73ec9c8ddb460e": {
      "model_module": "@jupyter-widgets/controls",
      "model_module_version": "1.4.0",
      "model_name": "DescriptionStyleModel",
      "state": {
       "description_width": ""
      }
     },
     "1bc38ba3cfee4c84861ca5c7b434a854": {
      "model_module": "@jupyter-widgets/controls",
      "model_module_version": "1.4.0",
      "model_name": "HBoxModel",
      "state": {
       "children": [
        "IPY_MODEL_1255cfd559794ade9066d5df91eac168",
        "IPY_MODEL_89ffadec18fb4373adf46d666b68eeb4"
       ],
       "layout": "IPY_MODEL_37a2824e6d4c45bf985b928d55b0bc01"
      }
     },
     "1bcfd23d7e6d4c689901687e4e92a051": {
      "model_module": "@jupyter-widgets/base",
      "model_module_version": "1.1.0",
      "model_name": "LayoutModel",
      "state": {
       "width": "25%"
      }
     },
     "1d835fdda5914b20a5c35e2b22b7ffaa": {
      "model_module": "@jupyter-widgets/controls",
      "model_module_version": "1.4.0",
      "model_name": "HBoxModel",
      "state": {
       "children": [
        "IPY_MODEL_6121d182f25e402ba7175db7c49df1f5",
        "IPY_MODEL_3fd4d62e78a242a8b6955929c2976c2d"
       ],
       "layout": "IPY_MODEL_7e9da2923c3049d0b4019c37d83695a2"
      }
     },
     "1ddb18ac6f234f6f9cf48998f66b9d76": {
      "model_module": "@jupyter-widgets/controls",
      "model_module_version": "1.4.0",
      "model_name": "ButtonModel",
      "state": {
       "description": "Run",
       "layout": "IPY_MODEL_f2c0382e21c04748a3421687a28c4d72",
       "style": "IPY_MODEL_674c4b39cfb44042b71b48b67c5d47bc",
       "tooltip": "Execute the tool"
      }
     },
     "1e20c2c23a6844fcbe26b2bf8a2b7ab8": {
      "model_module": "@jupyter-widgets/base",
      "model_module_version": "1.1.0",
      "model_name": "LayoutModel",
      "state": {
       "width": "90%"
      }
     },
     "1e2cb0ccc6164a699233888dc47f2461": {
      "model_module": "@jupyter-widgets/base",
      "model_module_version": "1.1.0",
      "model_name": "LayoutModel",
      "state": {
       "width": "25%"
      }
     },
     "1e3a1ee862ce4bca9b4a99b9cbeb8a15": {
      "model_module": "@jupyter-widgets/base",
      "model_module_version": "1.1.0",
      "model_name": "LayoutModel",
      "state": {
       "width": "65%"
      }
     },
     "1e4562cda24749479ca16d3e89b322a2": {
      "model_module": "@jupyter-widgets/controls",
      "model_module_version": "1.4.0",
      "model_name": "PasswordModel",
      "state": {
       "layout": "IPY_MODEL_012f361aff0f43679c32d1a5689d8a12",
       "placeholder": "Azure Batch account URL",
       "style": "IPY_MODEL_b137161213584b0eb2acc6278419a384"
      }
     },
     "23c28caa5ecd4ae4b98a2a25a2a4e8ed": {
      "model_module": "@jupyter-widgets/controls",
      "model_module_version": "1.4.0",
      "model_name": "LabelModel",
      "state": {
       "layout": "IPY_MODEL_77784d1bd11247d58b508022f6438285",
       "style": "IPY_MODEL_35bf3ea91dd445e191e9958288ffd6ae",
       "value": "Passcode"
      }
     },
     "25ad691746654a52a561201be69f9479": {
      "model_module": "@jupyter-widgets/controls",
      "model_module_version": "1.4.0",
      "model_name": "PasswordModel",
      "state": {
       "layout": "IPY_MODEL_d79c4a98ef134f60bc95aba68154759e",
       "placeholder": "Azure Storage account name",
       "style": "IPY_MODEL_d0c26df7e377489681e63369f46e4564"
      }
     },
     "25fca15bafeb46f79b2dc6c1a6657b56": {
      "model_module": "@jupyter-widgets/controls",
      "model_module_version": "1.4.0",
      "model_name": "TextModel",
      "state": {
       "layout": "IPY_MODEL_b21c020c059a43a1bb6527c77ededfd5",
       "placeholder": "The path to the output directory",
       "style": "IPY_MODEL_8bd8f8e8948243d29846850e92888a18"
      }
     },
     "271f9328a0954a44878a2ab693e06cd3": {
      "model_module": "@jupyter-widgets/base",
      "model_module_version": "1.1.0",
      "model_name": "LayoutModel",
      "state": {
       "width": "25%"
      }
     },
     "276b5356be2a4373b3cdda1c83a07714": {
      "model_module": "@jupyter-widgets/base",
      "model_module_version": "1.1.0",
      "model_name": "LayoutModel",
      "state": {
       "width": "25%"
      }
     },
     "2a424e0aba3546039767a496f87bc337": {
      "model_module": "@jupyter-widgets/controls",
      "model_module_version": "1.4.0",
      "model_name": "DescriptionStyleModel",
      "state": {
       "description_width": ""
      }
     },
     "2b433dba81844ea4a3768e9d1edaeb4c": {
      "model_module": "@jupyter-widgets/controls",
      "model_module_version": "1.4.0",
      "model_name": "DescriptionStyleModel",
      "state": {
       "description_width": ""
      }
     },
     "2c3fed39abc143669abd7cf3cfaf2d19": {
      "model_module": "@jupyter-widgets/controls",
      "model_module_version": "1.4.0",
      "model_name": "DescriptionStyleModel",
      "state": {
       "description_width": ""
      }
     },
     "2eed22911080468087cf70ca22e7d01f": {
      "model_module": "@jupyter-widgets/controls",
      "model_module_version": "1.4.0",
      "model_name": "LabelModel",
      "state": {
       "_dom_classes": [
        "label-wrapped"
       ],
       "layout": "IPY_MODEL_94be64401cd64351b0beaa26eabe7080",
       "style": "IPY_MODEL_2b433dba81844ea4a3768e9d1edaeb4c",
       "value": "The name of the resulting encrypted credential file"
      }
     },
     "31c3142069cb421896539da5589e71a4": {
      "model_module": "@jupyter-widgets/base",
      "model_module_version": "1.1.0",
      "model_name": "LayoutModel",
      "state": {
       "width": "90%"
      }
     },
     "31d6a8a13dce43e78ad44a7c47c11813": {
      "model_module": "@jupyter-widgets/controls",
      "model_module_version": "1.4.0",
      "model_name": "LabelModel",
      "state": {
       "layout": "IPY_MODEL_0c3fb20259744602ad2a35af25bf0367",
       "style": "IPY_MODEL_5a3c77a745444d319707ddd4aefe615b",
       "value": "Azure Storage account name"
      }
     },
     "35bf3ea91dd445e191e9958288ffd6ae": {
      "model_module": "@jupyter-widgets/controls",
      "model_module_version": "1.4.0",
      "model_name": "DescriptionStyleModel",
      "state": {
       "description_width": ""
      }
     },
     "360a06a4e78646deb39454b8597a75a7": {
      "model_module": "@jupyter-widgets/controls",
      "model_module_version": "1.4.0",
      "model_name": "PasswordModel",
      "state": {
       "layout": "IPY_MODEL_010d49a048b940399668c52c3c791d60",
       "placeholder": "Azure Batch account name",
       "style": "IPY_MODEL_2c3fed39abc143669abd7cf3cfaf2d19"
      }
     },
     "37a2824e6d4c45bf985b928d55b0bc01": {
      "model_module": "@jupyter-widgets/base",
      "model_module_version": "1.1.0",
      "model_name": "LayoutModel",
      "state": {
       "width": "90%"
      }
     },
     "393ea4d974b84aa6a5974b5bf51ff13a": {
      "model_module": "@jupyter-widgets/base",
      "model_module_version": "1.1.0",
      "model_name": "LayoutModel",
      "state": {
       "width": "30%"
      }
     },
     "3a10bc8a17a34d36807ba3142093901a": {
      "model_module": "@jupyter-widgets/base",
      "model_module_version": "1.1.0",
      "model_name": "LayoutModel",
      "state": {
       "width": "25%"
      }
     },
     "3b248dbf1a574a71b495413a639f5420": {
      "model_module": "@jupyter-widgets/base",
      "model_module_version": "1.1.0",
      "model_name": "LayoutModel",
      "state": {
       "width": "65%"
      }
     },
     "3e935b5cd5b94acfb77feafe62dd0a63": {
      "model_module": "@jupyter-widgets/controls",
      "model_module_version": "1.4.0",
      "model_name": "ButtonModel",
      "state": {
       "description": "Click to select",
       "layout": "IPY_MODEL_e9e7ee8f3aba485d92852a2a4fbfd126",
       "style": "IPY_MODEL_fdb5a2fa004848a3ab5903f5488d828a",
       "tooltip": "The directory where the encrypted file will be output to."
      }
     },
     "3fd4d62e78a242a8b6955929c2976c2d": {
      "model_module": "@jupyter-widgets/controls",
      "model_module_version": "1.4.0",
      "model_name": "PasswordModel",
      "state": {
       "layout": "IPY_MODEL_a228899dc0604f52a8a56ce33f700816",
       "placeholder": "Azure Batch account key",
       "style": "IPY_MODEL_048c99b5da28406abe8beb18975ddf14"
      }
     },
     "40a2f549c67b451b8d91d5d4ce5e0bc7": {
      "model_module": "@jupyter-widgets/output",
      "model_module_version": "1.0.0",
      "model_name": "OutputModel",
      "state": {
       "layout": "IPY_MODEL_f7223f409b7f49abb0f2b32d53e08f84"
      }
     },
     "4112b0dbd3554d39a69de765d87aa59f": {
      "model_module": "@jupyter-widgets/controls",
      "model_module_version": "1.4.0",
      "model_name": "DescriptionStyleModel",
      "state": {
       "description_width": ""
      }
     },
     "4123b21b00424488a27fc1123339b906": {
      "model_module": "@jupyter-widgets/base",
      "model_module_version": "1.1.0",
      "model_name": "LayoutModel",
      "state": {
       "width": "20%"
      }
     },
     "436f60b4941440bc9cbb602410d36026": {
      "model_module": "@jupyter-widgets/controls",
      "model_module_version": "1.4.0",
      "model_name": "HBoxModel",
      "state": {
       "children": [
        "IPY_MODEL_2eed22911080468087cf70ca22e7d01f",
        "IPY_MODEL_8b48246fd8b24bae8ba54e2fd9345183"
       ],
       "layout": "IPY_MODEL_5efb61bffea34e85adcd2cd8a31bfead"
      }
     },
     "44e48369f58b49b9894f9ffebafa0608": {
      "model_module": "@jupyter-widgets/base",
      "model_module_version": "1.1.0",
      "model_name": "LayoutModel",
      "state": {
       "width": "90%"
      }
     },
     "45459e9d30fd4c1abda07ea5a3081671": {
      "model_module": "@jupyter-widgets/controls",
      "model_module_version": "1.4.0",
      "model_name": "PasswordModel",
      "state": {
       "layout": "IPY_MODEL_5f0000919d804a86856570dc40af80d7",
       "placeholder": "Confirm passcode",
       "style": "IPY_MODEL_7e7b78e9c0ea41888f5ec25544fe5d80"
      }
     },
     "4595b9e268f54f869fea5e97693f6e9d": {
      "model_module": "@jupyter-widgets/controls",
      "model_module_version": "1.4.0",
      "model_name": "DescriptionStyleModel",
      "state": {
       "description_width": ""
      }
     },
     "4c7bc4748b0444e5bb469a4d6f6f4639": {
      "model_module": "@jupyter-widgets/controls",
      "model_module_version": "1.4.0",
      "model_name": "LabelModel",
      "state": {
       "layout": "IPY_MODEL_4e86808858714fa5b3f7d9973261a4e5",
       "style": "IPY_MODEL_ea6604a3a5a94da8a696be2134d9daf3",
       "value": "Azure Storage account key"
      }
     },
     "4c7cfe6459af4c428417065f3cd8e667": {
      "model_module": "@jupyter-widgets/base",
      "model_module_version": "1.1.0",
      "model_name": "LayoutModel",
      "state": {
       "width": "90%"
      }
     },
     "4ce9a216c5db4ebd87eac5801752196b": {
      "model_module": "@jupyter-widgets/controls",
      "model_module_version": "1.4.0",
      "model_name": "DescriptionStyleModel",
      "state": {
       "description_width": ""
      }
     },
     "4e86808858714fa5b3f7d9973261a4e5": {
      "model_module": "@jupyter-widgets/base",
      "model_module_version": "1.1.0",
      "model_name": "LayoutModel",
      "state": {
       "width": "25%"
      }
     },
     "4f8cbf98b4694fbcb4852f3a233eab09": {
      "model_module": "@jupyter-widgets/base",
      "model_module_version": "1.1.0",
      "model_name": "LayoutModel",
      "state": {
       "width": "65%"
      }
     },
     "50cfc0ce100a4bc282b0063e58ec7963": {
      "model_module": "@jupyter-widgets/base",
      "model_module_version": "1.1.0",
      "model_name": "LayoutModel",
      "state": {
       "width": "90%"
      }
     },
     "50d66ef791b944748b721a2288aec1a8": {
      "model_module": "@jupyter-widgets/controls",
      "model_module_version": "1.4.0",
      "model_name": "HBoxModel",
      "state": {
       "children": [
        "IPY_MODEL_8efc140d4e4a4e22bd104b16723eb334",
        "IPY_MODEL_e9e5c538a7f345a9a6836a520ededfff"
       ],
       "layout": "IPY_MODEL_08b5898dea2e46a7bbb9b21959c26a2e"
      }
     },
     "5a3c77a745444d319707ddd4aefe615b": {
      "model_module": "@jupyter-widgets/controls",
      "model_module_version": "1.4.0",
      "model_name": "DescriptionStyleModel",
      "state": {
       "description_width": ""
      }
     },
     "5b91b474a10a42a78f946d58e577e94d": {
      "model_module": "@jupyter-widgets/controls",
      "model_module_version": "1.4.0",
      "model_name": "DescriptionStyleModel",
      "state": {
       "description_width": ""
      }
     },
     "5c19a8c4426e4741843b113af1f45ac2": {
      "model_module": "@jupyter-widgets/controls",
      "model_module_version": "1.4.0",
      "model_name": "LabelModel",
      "state": {
       "_dom_classes": [
        "label-wrapped"
       ],
       "layout": "IPY_MODEL_c1e568cc276246d58614ed9e584e05db",
       "style": "IPY_MODEL_902a896d666a40a5bcac1c3204af40fb",
       "value": "The directory where the encrypted file will be output to"
      }
     },
     "5c3c6b9f547a4a859d5cf573673905d9": {
      "model_module": "@jupyter-widgets/controls",
      "model_module_version": "1.4.0",
      "model_name": "DescriptionStyleModel",
      "state": {
       "description_width": ""
      }
     },
     "5ee17b980de74004b8acceae583804f8": {
      "model_module": "@jupyter-widgets/base",
      "model_module_version": "1.1.0",
      "model_name": "LayoutModel",
      "state": {
       "width": "25%"
      }
     },
     "5efb61bffea34e85adcd2cd8a31bfead": {
      "model_module": "@jupyter-widgets/base",
      "model_module_version": "1.1.0",
      "model_name": "LayoutModel",
      "state": {
       "width": "90%"
      }
     },
     "5f0000919d804a86856570dc40af80d7": {
      "model_module": "@jupyter-widgets/base",
      "model_module_version": "1.1.0",
      "model_name": "LayoutModel",
      "state": {
       "width": "65%"
      }
     },
     "6121d182f25e402ba7175db7c49df1f5": {
      "model_module": "@jupyter-widgets/controls",
      "model_module_version": "1.4.0",
      "model_name": "LabelModel",
      "state": {
       "layout": "IPY_MODEL_276b5356be2a4373b3cdda1c83a07714",
       "style": "IPY_MODEL_739fe91b453e4a8b87763e84e8581937",
       "value": "Azure Batch account key"
      }
     },
     "625c34469ac24897bbea1d5e29bd3a31": {
      "model_module": "@jupyter-widgets/controls",
      "model_module_version": "1.4.0",
      "model_name": "DescriptionStyleModel",
      "state": {
       "description_width": ""
      }
     },
     "64910e3e295c4ea89e987802f534c127": {
      "model_module": "@jupyter-widgets/controls",
      "model_module_version": "1.4.0",
      "model_name": "LabelModel",
      "state": {
       "layout": "IPY_MODEL_5ee17b980de74004b8acceae583804f8",
       "style": "IPY_MODEL_02bb72dea11243c4b8f46ee6aeec2a36",
       "value": "Passcode"
      }
     },
     "654b20bc0b254c02b3f07775a8d9e998": {
      "model_module": "@jupyter-widgets/controls",
      "model_module_version": "1.4.0",
      "model_name": "HBoxModel",
      "state": {
       "children": [
        "IPY_MODEL_9f677bd019d7405e886f63d1db31f83a",
        "IPY_MODEL_0577c7fc217d43f496375869c781cade"
       ],
       "layout": "IPY_MODEL_1e20c2c23a6844fcbe26b2bf8a2b7ab8"
      }
     },
     "674c4b39cfb44042b71b48b67c5d47bc": {
      "model_module": "@jupyter-widgets/controls",
      "model_module_version": "1.4.0",
      "model_name": "ButtonStyleModel",
      "state": {}
     },
     "6760ce98527446a88729869984894e2a": {
      "model_module": "@jupyter-widgets/controls",
      "model_module_version": "1.4.0",
      "model_name": "DescriptionStyleModel",
      "state": {
       "description_width": ""
      }
     },
     "69bfe5f487c44518bc59d4692d831add": {
      "model_module": "@jupyter-widgets/base",
      "model_module_version": "1.1.0",
      "model_name": "LayoutModel",
      "state": {
       "width": "65%"
      }
     },
     "6aeb5148304e4391ad0a053b7efad138": {
      "model_module": "@jupyter-widgets/controls",
      "model_module_version": "1.4.0",
      "model_name": "DescriptionStyleModel",
      "state": {
       "description_width": ""
      }
     },
     "6b7f3bec09f74dc5b5de43b8dbd57435": {
      "model_module": "@jupyter-widgets/controls",
      "model_module_version": "1.4.0",
      "model_name": "DescriptionStyleModel",
      "state": {
       "description_width": ""
      }
     },
     "6c6913346c044595a7e144e2d306c3a8": {
      "model_module": "@jupyter-widgets/base",
      "model_module_version": "1.1.0",
      "model_name": "LayoutModel",
      "state": {
       "width": "65%"
      }
     },
     "739fe91b453e4a8b87763e84e8581937": {
      "model_module": "@jupyter-widgets/controls",
      "model_module_version": "1.4.0",
      "model_name": "DescriptionStyleModel",
      "state": {
       "description_width": ""
      }
     },
     "7539efb477674b28ad28971761472eb3": {
      "model_module": "@jupyter-widgets/controls",
      "model_module_version": "1.4.0",
      "model_name": "HBoxModel",
      "state": {
       "children": [
        "IPY_MODEL_9d63ce84e6834d64b79c7ab7d5895dcd",
        "IPY_MODEL_133da20d425143ef80a1bc4ab34ebf81"
       ],
       "layout": "IPY_MODEL_d74c4efa02f747f3913cd8daf59f52e3"
      }
     },
     "77784d1bd11247d58b508022f6438285": {
      "model_module": "@jupyter-widgets/base",
      "model_module_version": "1.1.0",
      "model_name": "LayoutModel",
      "state": {
       "width": "25%"
      }
     },
     "79293d5673f04752b6318add3da80693": {
      "model_module": "@jupyter-widgets/controls",
      "model_module_version": "1.4.0",
      "model_name": "PasswordModel",
      "state": {
       "layout": "IPY_MODEL_3b248dbf1a574a71b495413a639f5420",
       "placeholder": "Azure Storage account name",
       "style": "IPY_MODEL_e4c531820c6c48438149d40228e03212"
      }
     },
     "793842b08fd942f7bf4954a837f48351": {
      "model_module": "@jupyter-widgets/controls",
      "model_module_version": "1.4.0",
      "model_name": "HBoxModel",
      "state": {
       "children": [
        "IPY_MODEL_d7c0032933ac48fdb4a36452e16da139",
        "IPY_MODEL_8751ca853f07478d814f7a90c7532d2f"
       ],
       "layout": "IPY_MODEL_50cfc0ce100a4bc282b0063e58ec7963"
      }
     },
     "7ac22c3c74e74a929cce5420d0c7519f": {
      "model_module": "@jupyter-widgets/base",
      "model_module_version": "1.1.0",
      "model_name": "LayoutModel",
      "state": {
       "width": "65%"
      }
     },
     "7b0be9993aac4a589bc28d6b390c178a": {
      "model_module": "@jupyter-widgets/controls",
      "model_module_version": "1.4.0",
      "model_name": "HBoxModel",
      "state": {
       "children": [
        "IPY_MODEL_23c28caa5ecd4ae4b98a2a25a2a4e8ed",
        "IPY_MODEL_a4a1cc2d402a4a8f8bf50dd9b179d0a4"
       ],
       "layout": "IPY_MODEL_8fffb64179da4122905bdc4106814ba5"
      }
     },
     "7e7b78e9c0ea41888f5ec25544fe5d80": {
      "model_module": "@jupyter-widgets/controls",
      "model_module_version": "1.4.0",
      "model_name": "DescriptionStyleModel",
      "state": {
       "description_width": ""
      }
     },
     "7e9da2923c3049d0b4019c37d83695a2": {
      "model_module": "@jupyter-widgets/base",
      "model_module_version": "1.1.0",
      "model_name": "LayoutModel",
      "state": {
       "width": "90%"
      }
     },
     "8177ff4c335b4804a5f49f3b3445ed3d": {
      "model_module": "@jupyter-widgets/base",
      "model_module_version": "1.1.0",
      "model_name": "LayoutModel",
      "state": {
       "width": "90%"
      }
     },
     "866326ee8cef43279c18a8ec459b516c": {
      "model_module": "@jupyter-widgets/controls",
      "model_module_version": "1.4.0",
      "model_name": "ButtonModel",
      "state": {
       "description": "Click to select",
       "layout": "IPY_MODEL_4123b21b00424488a27fc1123339b906",
       "style": "IPY_MODEL_f2299690ce194fe181ab2e0cb8266d41",
       "tooltip": "The directory where the encrypted file will be output to."
      }
     },
     "866eb4551e454f16b6d50f0efcc71166": {
      "model_module": "@jupyter-widgets/base",
      "model_module_version": "1.1.0",
      "model_name": "LayoutModel",
      "state": {
       "width": "90%"
      }
     },
     "869d73473c1547178b4500b5d6d878ac": {
      "model_module": "@jupyter-widgets/base",
      "model_module_version": "1.1.0",
      "model_name": "LayoutModel",
      "state": {
       "width": "25%"
      }
     },
     "8751ca853f07478d814f7a90c7532d2f": {
      "model_module": "@jupyter-widgets/controls",
      "model_module_version": "1.4.0",
      "model_name": "PasswordModel",
      "state": {
       "layout": "IPY_MODEL_b24b63adb29542f489c18c11c346672e",
       "placeholder": "Azure Batch account URL",
       "style": "IPY_MODEL_4595b9e268f54f869fea5e97693f6e9d"
      }
     },
     "89ffadec18fb4373adf46d666b68eeb4": {
      "model_module": "@jupyter-widgets/controls",
      "model_module_version": "1.4.0",
      "model_name": "PasswordModel",
      "state": {
       "layout": "IPY_MODEL_4f8cbf98b4694fbcb4852f3a233eab09",
       "placeholder": "Azure Storage account key",
       "style": "IPY_MODEL_5b91b474a10a42a78f946d58e577e94d"
      }
     },
     "8a619c8c9ea24277a5b672a28ae95598": {
      "model_module": "@jupyter-widgets/controls",
      "model_module_version": "1.4.0",
      "model_name": "HBoxModel",
      "state": {
       "children": [
        "IPY_MODEL_e264edfc42bb499680f4cb7fb4bedf29",
        "IPY_MODEL_360a06a4e78646deb39454b8597a75a7"
       ],
       "layout": "IPY_MODEL_44e48369f58b49b9894f9ffebafa0608"
      }
     },
     "8b48246fd8b24bae8ba54e2fd9345183": {
      "model_module": "@jupyter-widgets/controls",
      "model_module_version": "1.4.0",
      "model_name": "TextModel",
      "state": {
       "layout": "IPY_MODEL_fa28c7c3a312498aa3c3b3021901fb65",
       "placeholder": "The name of the resulting encrypted credential file",
       "style": "IPY_MODEL_bf6402ac770e4843b70498b03905a399"
      }
     },
     "8bcdba60a082450b96b4b698b5a705a5": {
      "model_module": "@jupyter-widgets/controls",
      "model_module_version": "1.4.0",
      "model_name": "TextModel",
      "state": {
       "layout": "IPY_MODEL_ecb664e75d8c4974bbbcdf0721b344dc",
       "placeholder": "The path to the output directory",
       "style": "IPY_MODEL_6b7f3bec09f74dc5b5de43b8dbd57435"
      }
     },
     "8bd8f8e8948243d29846850e92888a18": {
      "model_module": "@jupyter-widgets/controls",
      "model_module_version": "1.4.0",
      "model_name": "DescriptionStyleModel",
      "state": {
       "description_width": ""
      }
     },
     "8d5e42e65ae34831b018f108b4c9aa47": {
      "model_module": "@jupyter-widgets/base",
      "model_module_version": "1.1.0",
      "model_name": "LayoutModel",
      "state": {
       "width": "90%"
      }
     },
     "8efc140d4e4a4e22bd104b16723eb334": {
      "model_module": "@jupyter-widgets/controls",
      "model_module_version": "1.4.0",
      "model_name": "LabelModel",
      "state": {
       "layout": "IPY_MODEL_c0f06ba319a3493fbe2077ca2efdf406",
       "style": "IPY_MODEL_4ce9a216c5db4ebd87eac5801752196b",
       "value": "Azure Batch account name"
      }
     },
     "8fffb64179da4122905bdc4106814ba5": {
      "model_module": "@jupyter-widgets/base",
      "model_module_version": "1.1.0",
      "model_name": "LayoutModel",
      "state": {
       "width": "90%"
      }
     },
     "902a896d666a40a5bcac1c3204af40fb": {
      "model_module": "@jupyter-widgets/controls",
      "model_module_version": "1.4.0",
      "model_name": "DescriptionStyleModel",
      "state": {
       "description_width": ""
      }
     },
     "90d549646e5b4d96a86c12a72dfdce67": {
      "model_module": "@jupyter-widgets/controls",
      "model_module_version": "1.4.0",
      "model_name": "ButtonModel",
      "state": {
       "description": "Run",
       "layout": "IPY_MODEL_393ea4d974b84aa6a5974b5bf51ff13a",
       "style": "IPY_MODEL_f87892ef185e41e59051ddf9c4cfffb6",
       "tooltip": "Execute the tool"
      }
     },
     "94be64401cd64351b0beaa26eabe7080": {
      "model_module": "@jupyter-widgets/base",
      "model_module_version": "1.1.0",
      "model_name": "LayoutModel",
      "state": {
       "width": "25%"
      }
     },
     "963efc247fe34d9286981587db4d27e3": {
      "model_module": "@jupyter-widgets/controls",
      "model_module_version": "1.4.0",
      "model_name": "PasswordModel",
      "state": {
       "layout": "IPY_MODEL_69bfe5f487c44518bc59d4692d831add",
       "placeholder": "Azure Storage account key",
       "style": "IPY_MODEL_6aeb5148304e4391ad0a053b7efad138"
      }
     },
     "974cbfe21f3646f0bc26b0e6e95fc60a": {
      "model_module": "@jupyter-widgets/controls",
      "model_module_version": "1.4.0",
      "model_name": "DescriptionStyleModel",
      "state": {
       "description_width": ""
      }
     },
     "97704a6b8eb04ff698d7bdb8ead064af": {
      "model_module": "@jupyter-widgets/controls",
      "model_module_version": "1.4.0",
      "model_name": "LabelModel",
      "state": {
       "_dom_classes": [
        "label-wrapped"
       ],
       "layout": "IPY_MODEL_3a10bc8a17a34d36807ba3142093901a",
       "style": "IPY_MODEL_625c34469ac24897bbea1d5e29bd3a31",
       "value": "The directory where the encrypted file will be output to"
      }
     },
     "986cc604c9a84271be5c28d6fb066ccb": {
      "model_module": "@jupyter-widgets/base",
      "model_module_version": "1.1.0",
      "model_name": "LayoutModel",
      "state": {
       "width": "65%"
      }
     },
     "9d63ce84e6834d64b79c7ab7d5895dcd": {
      "model_module": "@jupyter-widgets/controls",
      "model_module_version": "1.4.0",
      "model_name": "LabelModel",
      "state": {
       "layout": "IPY_MODEL_c93d6d2d39f74150aea8c63144e88a67",
       "style": "IPY_MODEL_dc2b5ffc232d41969b14e834fe549fd6",
       "value": "Azure Batch account key"
      }
     },
     "9f677bd019d7405e886f63d1db31f83a": {
      "model_module": "@jupyter-widgets/controls",
      "model_module_version": "1.4.0",
      "model_name": "LabelModel",
      "state": {
       "layout": "IPY_MODEL_1bcfd23d7e6d4c689901687e4e92a051",
       "style": "IPY_MODEL_bdf0320633fe4a07b3d29af34fd44569",
       "value": "Confirm passcode"
      }
     },
     "a05534c691634c47b1e0a3c9a02a0963": {
      "model_module": "@jupyter-widgets/controls",
      "model_module_version": "1.4.0",
      "model_name": "LabelModel",
      "state": {
       "_dom_classes": [
        "label-wrapped"
       ],
       "layout": "IPY_MODEL_12497c254aea4b8fabf3d81e2ec0160f",
       "style": "IPY_MODEL_b5bc616b321b44ca9bb035e1abd636a3",
       "value": "The name of the resulting encrypted credential file"
      }
     },
     "a07d4559be9b4dae8f9dd8f67d42299e": {
      "model_module": "@jupyter-widgets/controls",
      "model_module_version": "1.4.0",
      "model_name": "HBoxModel",
      "state": {
       "children": [
        "IPY_MODEL_ef6c0c8d4b39498b93660f684e9b168e",
        "IPY_MODEL_1e4562cda24749479ca16d3e89b322a2"
       ],
       "layout": "IPY_MODEL_b7b0b10da01b490098162772675aec0b"
      }
     },
     "a228899dc0604f52a8a56ce33f700816": {
      "model_module": "@jupyter-widgets/base",
      "model_module_version": "1.1.0",
      "model_name": "LayoutModel",
      "state": {
       "width": "65%"
      }
     },
     "a4a1cc2d402a4a8f8bf50dd9b179d0a4": {
      "model_module": "@jupyter-widgets/controls",
      "model_module_version": "1.4.0",
      "model_name": "PasswordModel",
      "state": {
       "layout": "IPY_MODEL_e2ae027e17b041159eaeebd728712498",
       "placeholder": "Passcode",
       "style": "IPY_MODEL_e15fc1a5c3814ba58b57375975d700a8"
      }
     },
     "a5282df2ec034c9aa6e6589871ec7c9a": {
      "model_module": "@jupyter-widgets/controls",
      "model_module_version": "1.4.0",
      "model_name": "DescriptionStyleModel",
      "state": {
       "description_width": ""
      }
     },
     "aa9e0bccded049c69a1b6a8d9c1f38ce": {
      "model_module": "@jupyter-widgets/base",
      "model_module_version": "1.1.0",
      "model_name": "LayoutModel",
      "state": {
       "width": "25%"
      }
     },
     "abc076deade84336bc9a256fddd9940d": {
      "model_module": "@jupyter-widgets/controls",
      "model_module_version": "1.4.0",
      "model_name": "HBoxModel",
      "state": {
       "children": [
        "IPY_MODEL_31d6a8a13dce43e78ad44a7c47c11813",
        "IPY_MODEL_79293d5673f04752b6318add3da80693"
       ],
       "layout": "IPY_MODEL_ddecdc4d33c2436c9e8c19b99fcd5a97"
      }
     },
     "b137161213584b0eb2acc6278419a384": {
      "model_module": "@jupyter-widgets/controls",
      "model_module_version": "1.4.0",
      "model_name": "DescriptionStyleModel",
      "state": {
       "description_width": ""
      }
     },
     "b21c020c059a43a1bb6527c77ededfd5": {
      "model_module": "@jupyter-widgets/base",
      "model_module_version": "1.1.0",
      "model_name": "LayoutModel",
      "state": {
       "width": "45%"
      }
     },
     "b24b63adb29542f489c18c11c346672e": {
      "model_module": "@jupyter-widgets/base",
      "model_module_version": "1.1.0",
      "model_name": "LayoutModel",
      "state": {
       "width": "65%"
      }
     },
     "b28aa021f8e34adf9ed1f0c1146ebe26": {
      "model_module": "@jupyter-widgets/controls",
      "model_module_version": "1.4.0",
      "model_name": "HBoxModel",
      "state": {
       "children": [
        "IPY_MODEL_5c19a8c4426e4741843b113af1f45ac2",
        "IPY_MODEL_3e935b5cd5b94acfb77feafe62dd0a63",
        "IPY_MODEL_8bcdba60a082450b96b4b698b5a705a5"
       ],
       "layout": "IPY_MODEL_d121464ebf01491d95901288701190e0"
      }
     },
     "b5bc616b321b44ca9bb035e1abd636a3": {
      "model_module": "@jupyter-widgets/controls",
      "model_module_version": "1.4.0",
      "model_name": "DescriptionStyleModel",
      "state": {
       "description_width": ""
      }
     },
     "b738c199534849fe971d286ec41d5817": {
      "model_module": "@jupyter-widgets/controls",
      "model_module_version": "1.4.0",
      "model_name": "DescriptionStyleModel",
      "state": {
       "description_width": ""
      }
     },
     "b7b0b10da01b490098162772675aec0b": {
      "model_module": "@jupyter-widgets/base",
      "model_module_version": "1.1.0",
      "model_name": "LayoutModel",
      "state": {
       "width": "90%"
      }
     },
     "bdf0320633fe4a07b3d29af34fd44569": {
      "model_module": "@jupyter-widgets/controls",
      "model_module_version": "1.4.0",
      "model_name": "DescriptionStyleModel",
      "state": {
       "description_width": ""
      }
     },
     "bf6402ac770e4843b70498b03905a399": {
      "model_module": "@jupyter-widgets/controls",
      "model_module_version": "1.4.0",
      "model_name": "DescriptionStyleModel",
      "state": {
       "description_width": ""
      }
     },
     "bfa7051f63b84841866cddb7bd0ac379": {
      "model_module": "@jupyter-widgets/base",
      "model_module_version": "1.1.0",
      "model_name": "LayoutModel",
      "state": {
       "width": "25%"
      }
     },
     "c0f06ba319a3493fbe2077ca2efdf406": {
      "model_module": "@jupyter-widgets/base",
      "model_module_version": "1.1.0",
      "model_name": "LayoutModel",
      "state": {
       "width": "25%"
      }
     },
     "c0f8089fc5ea4238b9ee81a74897de19": {
      "model_module": "@jupyter-widgets/controls",
      "model_module_version": "1.4.0",
      "model_name": "DescriptionStyleModel",
      "state": {
       "description_width": ""
      }
     },
     "c1e568cc276246d58614ed9e584e05db": {
      "model_module": "@jupyter-widgets/base",
      "model_module_version": "1.1.0",
      "model_name": "LayoutModel",
      "state": {
       "width": "25%"
      }
     },
     "c63791137ca640b1b9d62b10b0d20118": {
      "model_module": "@jupyter-widgets/controls",
      "model_module_version": "1.4.0",
      "model_name": "HBoxModel",
      "state": {
       "children": [
        "IPY_MODEL_64910e3e295c4ea89e987802f534c127",
        "IPY_MODEL_effa2f9194a347458db822a0703aae81"
       ],
       "layout": "IPY_MODEL_866eb4551e454f16b6d50f0efcc71166"
      }
     },
     "c8f75dba24af4af9a3a6ec63fc99167c": {
      "model_module": "@jupyter-widgets/controls",
      "model_module_version": "1.4.0",
      "model_name": "DescriptionStyleModel",
      "state": {
       "description_width": ""
      }
     },
     "c93b6ee5741744ea8c87e97926ec43cf": {
      "model_module": "@jupyter-widgets/controls",
      "model_module_version": "1.4.0",
      "model_name": "HBoxModel",
      "state": {
       "children": [
        "IPY_MODEL_a05534c691634c47b1e0a3c9a02a0963",
        "IPY_MODEL_01630de85f434e18ad2cbcc6072b4469"
       ],
       "layout": "IPY_MODEL_faab7c6fda314e1bbf11201b0a7572e3"
      }
     },
     "c93d6d2d39f74150aea8c63144e88a67": {
      "model_module": "@jupyter-widgets/base",
      "model_module_version": "1.1.0",
      "model_name": "LayoutModel",
      "state": {
       "width": "25%"
      }
     },
     "d018d70fa46d4a249e44e00ce9c777b9": {
      "model_module": "@jupyter-widgets/base",
      "model_module_version": "1.1.0",
      "model_name": "LayoutModel",
      "state": {
       "width": "100%"
      }
     },
     "d0c26df7e377489681e63369f46e4564": {
      "model_module": "@jupyter-widgets/controls",
      "model_module_version": "1.4.0",
      "model_name": "DescriptionStyleModel",
      "state": {
       "description_width": ""
      }
     },
     "d121464ebf01491d95901288701190e0": {
      "model_module": "@jupyter-widgets/base",
      "model_module_version": "1.1.0",
      "model_name": "LayoutModel",
      "state": {
       "width": "90%"
      }
     },
     "d512f668613540fca84d3381b2307975": {
      "model_module": "@jupyter-widgets/controls",
      "model_module_version": "1.4.0",
      "model_name": "LabelModel",
      "state": {
       "layout": "IPY_MODEL_1e2cb0ccc6164a699233888dc47f2461",
       "style": "IPY_MODEL_c8f75dba24af4af9a3a6ec63fc99167c",
       "value": "Confirm passcode"
      }
     },
     "d74c4efa02f747f3913cd8daf59f52e3": {
      "model_module": "@jupyter-widgets/base",
      "model_module_version": "1.1.0",
      "model_name": "LayoutModel",
      "state": {
       "width": "90%"
      }
     },
     "d79c4a98ef134f60bc95aba68154759e": {
      "model_module": "@jupyter-widgets/base",
      "model_module_version": "1.1.0",
      "model_name": "LayoutModel",
      "state": {
       "width": "65%"
      }
     },
     "d7bf0f7abf4b492b8e95fa4505f91dfa": {
      "model_module": "@jupyter-widgets/base",
      "model_module_version": "1.1.0",
      "model_name": "LayoutModel",
      "state": {
       "width": "65%"
      }
     },
     "d7c0032933ac48fdb4a36452e16da139": {
      "model_module": "@jupyter-widgets/controls",
      "model_module_version": "1.4.0",
      "model_name": "LabelModel",
      "state": {
       "layout": "IPY_MODEL_aa9e0bccded049c69a1b6a8d9c1f38ce",
       "style": "IPY_MODEL_4112b0dbd3554d39a69de765d87aa59f",
       "value": "Azure Batch account URL"
      }
     },
     "dc2b5ffc232d41969b14e834fe549fd6": {
      "model_module": "@jupyter-widgets/controls",
      "model_module_version": "1.4.0",
      "model_name": "DescriptionStyleModel",
      "state": {
       "description_width": ""
      }
     },
     "dcb5eb41c42949ac9cb8725ced665830": {
      "model_module": "@jupyter-widgets/controls",
      "model_module_version": "1.4.0",
      "model_name": "HBoxModel",
      "state": {
       "children": [
        "IPY_MODEL_115c669eeb0a4e5381532066d0d1d89a",
        "IPY_MODEL_25ad691746654a52a561201be69f9479"
       ],
       "layout": "IPY_MODEL_14cb7f20b1124a3ca356dce300c0b282"
      }
     },
     "dd7274a67aee425885b7c241286674dc": {
      "model_module": "@jupyter-widgets/base",
      "model_module_version": "1.1.0",
      "model_name": "LayoutModel",
      "state": {
       "width": "25%"
      }
     },
     "ddecdc4d33c2436c9e8c19b99fcd5a97": {
      "model_module": "@jupyter-widgets/base",
      "model_module_version": "1.1.0",
      "model_name": "LayoutModel",
      "state": {
       "width": "90%"
      }
     },
     "e031e524f35e4ef7871a7d35fd526d8d": {
      "model_module": "@jupyter-widgets/controls",
      "model_module_version": "1.4.0",
      "model_name": "HBoxModel",
      "state": {
       "children": [
        "IPY_MODEL_97704a6b8eb04ff698d7bdb8ead064af",
        "IPY_MODEL_866326ee8cef43279c18a8ec459b516c",
        "IPY_MODEL_25fca15bafeb46f79b2dc6c1a6657b56"
       ],
       "layout": "IPY_MODEL_31c3142069cb421896539da5589e71a4"
      }
     },
     "e15fc1a5c3814ba58b57375975d700a8": {
      "model_module": "@jupyter-widgets/controls",
      "model_module_version": "1.4.0",
      "model_name": "DescriptionStyleModel",
      "state": {
       "description_width": ""
      }
     },
     "e1c59433e17a4b269e6c60e87cd84643": {
      "model_module": "@jupyter-widgets/controls",
      "model_module_version": "1.4.0",
      "model_name": "VBoxModel",
      "state": {
       "children": [
        "IPY_MODEL_8a619c8c9ea24277a5b672a28ae95598",
        "IPY_MODEL_1d835fdda5914b20a5c35e2b22b7ffaa",
        "IPY_MODEL_793842b08fd942f7bf4954a837f48351",
        "IPY_MODEL_abc076deade84336bc9a256fddd9940d",
        "IPY_MODEL_19c242ac7fb24cdbbcc618f561507694",
        "IPY_MODEL_c63791137ca640b1b9d62b10b0d20118",
        "IPY_MODEL_654b20bc0b254c02b3f07775a8d9e998",
        "IPY_MODEL_e031e524f35e4ef7871a7d35fd526d8d",
        "IPY_MODEL_c93b6ee5741744ea8c87e97926ec43cf",
        "IPY_MODEL_1ddb18ac6f234f6f9cf48998f66b9d76",
        "IPY_MODEL_e8d0011ae7b7425682a2b2a2ca74d6b8"
       ],
       "layout": "IPY_MODEL_eed9220413b94c3387b8eff4fcc6f7a3"
      }
     },
     "e264edfc42bb499680f4cb7fb4bedf29": {
      "model_module": "@jupyter-widgets/controls",
      "model_module_version": "1.4.0",
      "model_name": "LabelModel",
      "state": {
       "layout": "IPY_MODEL_271f9328a0954a44878a2ab693e06cd3",
       "style": "IPY_MODEL_a5282df2ec034c9aa6e6589871ec7c9a",
       "value": "Azure Batch account name"
      }
     },
     "e2ae027e17b041159eaeebd728712498": {
      "model_module": "@jupyter-widgets/base",
      "model_module_version": "1.1.0",
      "model_name": "LayoutModel",
      "state": {
       "width": "65%"
      }
     },
     "e4c531820c6c48438149d40228e03212": {
      "model_module": "@jupyter-widgets/controls",
      "model_module_version": "1.4.0",
      "model_name": "DescriptionStyleModel",
      "state": {
       "description_width": ""
      }
     },
     "e8d0011ae7b7425682a2b2a2ca74d6b8": {
      "model_module": "@jupyter-widgets/output",
      "model_module_version": "1.0.0",
      "model_name": "OutputModel",
      "state": {
       "layout": "IPY_MODEL_8d5e42e65ae34831b018f108b4c9aa47"
      }
     },
     "e96fdeef44e546f88ee3c1536144f970": {
      "model_module": "@jupyter-widgets/controls",
      "model_module_version": "1.4.0",
      "model_name": "HBoxModel",
      "state": {
       "children": [
        "IPY_MODEL_d512f668613540fca84d3381b2307975",
        "IPY_MODEL_45459e9d30fd4c1abda07ea5a3081671"
       ],
       "layout": "IPY_MODEL_4c7cfe6459af4c428417065f3cd8e667"
      }
     },
     "e9e5c538a7f345a9a6836a520ededfff": {
      "model_module": "@jupyter-widgets/controls",
      "model_module_version": "1.4.0",
      "model_name": "PasswordModel",
      "state": {
       "layout": "IPY_MODEL_1e3a1ee862ce4bca9b4a99b9cbeb8a15",
       "placeholder": "Azure Batch account name",
       "style": "IPY_MODEL_2a424e0aba3546039767a496f87bc337"
      }
     },
     "e9e7ee8f3aba485d92852a2a4fbfd126": {
      "model_module": "@jupyter-widgets/base",
      "model_module_version": "1.1.0",
      "model_name": "LayoutModel",
      "state": {
       "width": "20%"
      }
     },
     "ea6604a3a5a94da8a696be2134d9daf3": {
      "model_module": "@jupyter-widgets/controls",
      "model_module_version": "1.4.0",
      "model_name": "DescriptionStyleModel",
      "state": {
       "description_width": ""
      }
     },
     "ecb664e75d8c4974bbbcdf0721b344dc": {
      "model_module": "@jupyter-widgets/base",
      "model_module_version": "1.1.0",
      "model_name": "LayoutModel",
      "state": {
       "width": "45%"
      }
     },
     "eed9220413b94c3387b8eff4fcc6f7a3": {
      "model_module": "@jupyter-widgets/base",
      "model_module_version": "1.1.0",
      "model_name": "LayoutModel",
      "state": {
       "width": "100%"
      }
     },
     "ef6c0c8d4b39498b93660f684e9b168e": {
      "model_module": "@jupyter-widgets/controls",
      "model_module_version": "1.4.0",
      "model_name": "LabelModel",
      "state": {
       "layout": "IPY_MODEL_dd7274a67aee425885b7c241286674dc",
       "style": "IPY_MODEL_974cbfe21f3646f0bc26b0e6e95fc60a",
       "value": "Azure Batch account URL"
      }
     },
     "effa2f9194a347458db822a0703aae81": {
      "model_module": "@jupyter-widgets/controls",
      "model_module_version": "1.4.0",
      "model_name": "PasswordModel",
      "state": {
       "layout": "IPY_MODEL_6c6913346c044595a7e144e2d306c3a8",
       "placeholder": "Passcode",
       "style": "IPY_MODEL_6760ce98527446a88729869984894e2a"
      }
     },
     "f2299690ce194fe181ab2e0cb8266d41": {
      "model_module": "@jupyter-widgets/controls",
      "model_module_version": "1.4.0",
      "model_name": "ButtonStyleModel",
      "state": {}
     },
     "f2c0382e21c04748a3421687a28c4d72": {
      "model_module": "@jupyter-widgets/base",
      "model_module_version": "1.1.0",
      "model_name": "LayoutModel",
      "state": {
       "width": "30%"
      }
     },
     "f7223f409b7f49abb0f2b32d53e08f84": {
      "model_module": "@jupyter-widgets/base",
      "model_module_version": "1.1.0",
      "model_name": "LayoutModel",
      "state": {
       "width": "90%"
      }
     },
     "f87892ef185e41e59051ddf9c4cfffb6": {
      "model_module": "@jupyter-widgets/controls",
      "model_module_version": "1.4.0",
      "model_name": "ButtonStyleModel",
      "state": {}
     },
     "f988392795454bfca505ed11accea5ee": {
      "model_module": "@jupyter-widgets/controls",
      "model_module_version": "1.4.0",
      "model_name": "DescriptionStyleModel",
      "state": {
       "description_width": ""
      }
     },
     "fa28c7c3a312498aa3c3b3021901fb65": {
      "model_module": "@jupyter-widgets/base",
      "model_module_version": "1.1.0",
      "model_name": "LayoutModel",
      "state": {
       "width": "65%"
      }
     },
     "faab7c6fda314e1bbf11201b0a7572e3": {
      "model_module": "@jupyter-widgets/base",
      "model_module_version": "1.1.0",
      "model_name": "LayoutModel",
      "state": {
       "width": "90%"
      }
     },
     "fdb5a2fa004848a3ab5903f5488d828a": {
      "model_module": "@jupyter-widgets/controls",
      "model_module_version": "1.4.0",
      "model_name": "ButtonStyleModel",
      "state": {}
     }
    },
    "version_major": 2,
    "version_minor": 0
   }
  }
 },
 "nbformat": 4,
 "nbformat_minor": 2
}
