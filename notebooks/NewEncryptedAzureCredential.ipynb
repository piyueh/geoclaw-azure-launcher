{
 "cells": [
  {
   "cell_type": "markdown",
   "metadata": {},
   "source": [
    "# Create a new encrypted file for Azure credentials"
   ]
  },
  {
   "cell_type": "markdown",
   "metadata": {},
   "source": [
    "We'll need several user credentials to access Azure Batch and Storage resources:\n",
    "\n",
    "1. Batch account name, \n",
    "2. Batch account URL,\n",
    "3. Batch account key,\n",
    "4. Storage account name, and\n",
    "5. Storage account key.\n",
    "\n",
    "It'll be bothersome to copy and paste these credentials every time they are required. So the purpose of this tool is to create an encrypted file that contains all credential information. The file will be encrypted with an user-provide passcode. Whenever a user is asked to provide his/her Azure credentials, he/she can just give the path to the encrypted file and the passcode."
   ]
  },
  {
   "cell_type": "code",
   "execution_count": 1,
   "metadata": {},
   "outputs": [
    {
     "data": {
      "text/html": [
       "<link href='http://fonts.googleapis.com/css?family=Alegreya+Sans:100,300,400,500,700,800,900,100italic,300italic,400italic,500italic,700italic,800italic,900italic' rel='stylesheet' type='text/css'>\n",
       "<link href='http://fonts.googleapis.com/css?family=Arvo:400,700,400italic' rel='stylesheet' type='text/css'>\n",
       "<link href='http://fonts.googleapis.com/css?family=PT+Mono' rel='stylesheet' type='text/css'>\n",
       "<link href='https://fonts.googleapis.com/css?family=Droid+Sans+Mono' rel='stylesheet' type='text/css'>\n",
       "<link href='http://fonts.googleapis.com/css?family=Shadows+Into+Light' rel='stylesheet' type='text/css'>\n",
       "<link href='http://fonts.googleapis.com/css?family=Nixie+One' rel='stylesheet' type='text/css'>\n",
       "<link href='https://fonts.googleapis.com/css?family=Source+Code+Pro' rel='stylesheet' type='text/css'>\n",
       "<link href='https://fonts.googleapis.com/css?family=Source+Sans+Pro:400,300italic,300,200italic,200,400italic,600,600italic,700,700italic,900,900italic' rel='stylesheet' type='text/css'>\n",
       "<link href='https://fonts.googleapis.com/css?family=Roboto+Slab:400,100,300,700' rel='stylesheet' type='text/css'>\n",
       "<style>\n",
       "\n",
       "@font-face {\n",
       "    font-family: \"Computer Modern\";\n",
       "    src: url('http://mirrors.ctan.org/fonts/cm-unicode/fonts/otf/cmunss.otf');\n",
       "}\n",
       "\n",
       "#notebook_panel { /* main background */\n",
       "    background: rgb(245,245,245);\n",
       "}\n",
       "\n",
       ".widget-text input[type=\"password\"] {\n",
       "    box-sizing: border-box;\n",
       "    border: 1px solid #9E9E9E;\n",
       "    background-color: white;\n",
       "    color: rgba(0, 0, 0, .8);\n",
       "    font-size: 13px;\n",
       "    padding: 4px 8px;\n",
       "    -webkit-box-flex: 1;\n",
       "    flex-grow: 1;\n",
       "    min-width: 0;\n",
       "    flex-shrink: 1;\n",
       "    outline: none;\n",
       "    height: 28px;\n",
       "    line-height: 28px;\n",
       "}\n",
       "\n",
       "div.cell { /* set cell width */\n",
       "    width: 90%;\n",
       "}\n",
       "\n",
       "div #notebook { /* centre the content */\n",
       "    background: #fff; /* white background for content */\n",
       "    width: 100%;\n",
       "    margin: auto;\n",
       "    padding-left: 0em;\n",
       "}\n",
       "\n",
       "#notebook li { /* More space between bullet points */\n",
       "    margin-top:0.5em;\n",
       "}\n",
       "\n",
       "/* draw border around running cells */\n",
       "div.cell.border-box-sizing.code_cell.running { \n",
       "    border: 1px solid #111;\n",
       "}\n",
       "\n",
       "/* Put a solid color box around each cell and its output, visually linking them*/\n",
       "div.cell.code_cell {\n",
       "    background-color: rgb(256,256,256); \n",
       "    border-radius: 0px; \n",
       "    padding: 0.5em;\n",
       "    margin-left:1em;\n",
       "    margin-top: 1em;\n",
       "}\n",
       "\n",
       "div.text_cell_render{\n",
       "    font-family: 'Source Sans Pro' sans-serif;\n",
       "    line-height: 18pt;\n",
       "    font-size: 12pt;\n",
       "    font-weight: normal;\n",
       "    width: 90%;\n",
       "    margin-left:auto;\n",
       "    margin-right:auto;\n",
       "}\n",
       "\n",
       "\n",
       "/* Formatting for header cells */\n",
       ".text_cell_render h1 {\n",
       "    font-family: 'Roboto Slab', serif;\n",
       "    font-style:regular;\n",
       "    font-weight: 400;    \n",
       "    font-size: 26pt;\n",
       "    line-height: 110%;\n",
       "    color: rgb(17,102,172);\n",
       "    margin-bottom: 0.5em;\n",
       "    margin-top: 1.0em;\n",
       "    display: block;\n",
       "}\n",
       "\n",
       ".text_cell_render h2 {\n",
       "    font-family: 'Roboto Slab', serif;\n",
       "    font-weight: 400;\n",
       "    font-size: 22pt;\n",
       "    line-height: 110%;\n",
       "    color: rgb(102,172,17);\n",
       "    margin-bottom: 0.1em;\n",
       "    margin-top: 0.3em;\n",
       "    display: block;\n",
       "}\t\n",
       "\n",
       ".text_cell_render h3 {\n",
       "    font-family: 'Roboto Slab', serif;\n",
       "    margin-top:16px;\n",
       "    font-size: 18pt;\n",
       "    font-weight: 300;\n",
       "    line-height: 110%;\n",
       "    margin-bottom: 3px;\n",
       "    color: rgb(172,164,17);\n",
       "}\n",
       "\n",
       ".text_cell_render h4 {    /*Use this for small titles*/\n",
       "    font-family: 'Roboto Slab', sans-serif;\n",
       "    font-weight: 300;\n",
       "    font-size: 14pt;\n",
       "    line-height: 110%;\n",
       "    color: rgb(172,87,17);\n",
       "    margin-bottom: .1em;\n",
       "    margin-top: 1em;\n",
       "    display: block;\n",
       "}\n",
       "\n",
       ".text_cell_render h5 {  /*Use this for captions*/\n",
       "    font-family: 'Roboto Slab', serif;\n",
       "    font-size: 14pt;\n",
       "    font-weight: 200;\n",
       "    font-style: italic;\n",
       "    text-align: center;\n",
       "    margin-top: 3em;\n",
       "    margin-bottom: 2em;\n",
       "\n",
       "}\n",
       "\n",
       ".text_cell_render h6 { /*use this for copyright note*/\n",
       "    font-family: 'PT Mono', sans-serif;\n",
       "    font-weight: 300;\n",
       "    font-size: 9pt;\n",
       "    line-height: 100%;\n",
       "    color: grey;\n",
       "    margin-bottom: 1px;\n",
       "    margin-top: 1px;\n",
       "}\n",
       "\n",
       ".CodeMirror{\n",
       "    font-family: \"Source Code Pro\";\n",
       "    font-size: 12pt;\n",
       "}\n",
       "\n",
       ".alert-box {\n",
       "    padding:10px 10px 10px 36px;\n",
       "    margin:5px;\n",
       "}\n",
       "\n",
       ".success {\n",
       "    color:#666600;\n",
       "    background:rgb(240,242,229);\n",
       "}\n",
       "</style>\n",
       "<script>\n",
       "    MathJax.Hub.Config({\n",
       "                        TeX: {\n",
       "                           extensions: [\"AMSmath.js\"],\n",
       "                           equationNumbers: { autoNumber: \"AMS\", useLabelIds: true}\n",
       "                           },\n",
       "                tex2jax: {\n",
       "                    inlineMath: [ ['$','$'], [\"\\\\(\",\"\\\\)\"] ],\n",
       "                    displayMath: [ ['$$','$$'], [\"\\\\[\",\"\\\\]\"] ]\n",
       "                },\n",
       "                displayAlign: 'center', // Change this to 'center' to center equations.\n",
       "                \"HTML-CSS\": {\n",
       "                    styles: {'.MathJax_Display': {\"margin\": 4}}\n",
       "                }\n",
       "        });\n",
       "</script>\n"
      ],
      "text/plain": [
       "<IPython.core.display.HTML object>"
      ]
     },
     "metadata": {},
     "output_type": "display_data"
    },
    {
     "data": {
      "application/vnd.jupyter.widget-view+json": {
       "model_id": "1ee55fe0399a40f9938731a8303437d8",
       "version_major": 2,
       "version_minor": 0
      },
      "text/plain": [
       "VBox(children=(HBox(children=(Label(value='Azure Batch account name', layout=Layout(flex='1 1 35%')), Password…"
      ]
     },
     "metadata": {},
     "output_type": "display_data"
    }
   ],
   "source": [
    "import scripts.NewEncryptedAzureCredential\n",
    "scripts.NewEncryptedAzureCredential.display_tool_gui()"
   ]
  }
 ],
 "metadata": {
  "kernelspec": {
   "display_name": "Python 3",
   "language": "python",
   "name": "python3"
  },
  "language_info": {
   "codemirror_mode": {
    "name": "ipython",
    "version": 3
   },
   "file_extension": ".py",
   "mimetype": "text/x-python",
   "name": "python",
   "nbconvert_exporter": "python",
   "pygments_lexer": "ipython3",
   "version": "3.6.8"
  },
  "toc": {
   "base_numbering": 1,
   "nav_menu": {},
   "number_sections": true,
   "sideBar": true,
   "skip_h1_title": true,
   "title_cell": "Table of Contents",
   "title_sidebar": "Contents",
   "toc_cell": false,
   "toc_position": {
    "height": "calc(100% - 180px)",
    "left": "10px",
    "top": "150px",
    "width": "282px"
   },
   "toc_section_display": true,
   "toc_window_display": true
  },
  "varInspector": {
   "cols": {
    "lenName": 16,
    "lenType": 16,
    "lenVar": 40
   },
   "kernels_config": {
    "python": {
     "delete_cmd_postfix": "",
     "delete_cmd_prefix": "del ",
     "library": "var_list.py",
     "varRefreshCmd": "print(var_dic_list())"
    },
    "r": {
     "delete_cmd_postfix": ") ",
     "delete_cmd_prefix": "rm(",
     "library": "var_list.r",
     "varRefreshCmd": "cat(var_dic_list()) "
    }
   },
   "types_to_exclude": [
    "module",
    "function",
    "builtin_function_or_method",
    "instance",
    "_Feature"
   ],
   "window_display": false
  },
  "widgets": {
   "application/vnd.jupyter.widget-state+json": {
    "state": {
     "005b4258752f43258bc1e65d233a7eee": {
      "model_module": "@jupyter-widgets/base",
      "model_module_version": "1.1.0",
      "model_name": "LayoutModel",
      "state": {
       "flex": "1 1 65%"
      }
     },
     "010d49a048b940399668c52c3c791d60": {
      "model_module": "@jupyter-widgets/base",
      "model_module_version": "1.1.0",
      "model_name": "LayoutModel",
      "state": {
       "width": "65%"
      }
     },
     "012f361aff0f43679c32d1a5689d8a12": {
      "model_module": "@jupyter-widgets/base",
      "model_module_version": "1.1.0",
      "model_name": "LayoutModel",
      "state": {
       "width": "65%"
      }
     },
     "01630de85f434e18ad2cbcc6072b4469": {
      "model_module": "@jupyter-widgets/controls",
      "model_module_version": "1.4.0",
      "model_name": "TextModel",
      "state": {
       "layout": "IPY_MODEL_7ac22c3c74e74a929cce5420d0c7519f",
       "placeholder": "The name of the resulting encrypted credential file",
       "style": "IPY_MODEL_5c3c6b9f547a4a859d5cf573673905d9"
      }
     },
     "02bb72dea11243c4b8f46ee6aeec2a36": {
      "model_module": "@jupyter-widgets/controls",
      "model_module_version": "1.4.0",
      "model_name": "DescriptionStyleModel",
      "state": {
       "description_width": ""
      }
     },
     "02e997baada24347b30b884cbad821fd": {
      "model_module": "@jupyter-widgets/base",
      "model_module_version": "1.1.0",
      "model_name": "LayoutModel",
      "state": {
       "flex": "1 1 35%"
      }
     },
     "044e6bc6d7844eefbf54c15346e5238f": {
      "model_module": "@jupyter-widgets/controls",
      "model_module_version": "1.4.0",
      "model_name": "DescriptionStyleModel",
      "state": {
       "description_width": ""
      }
     },
     "048c99b5da28406abe8beb18975ddf14": {
      "model_module": "@jupyter-widgets/controls",
      "model_module_version": "1.4.0",
      "model_name": "DescriptionStyleModel",
      "state": {
       "description_width": ""
      }
     },
     "0577c7fc217d43f496375869c781cade": {
      "model_module": "@jupyter-widgets/controls",
      "model_module_version": "1.4.0",
      "model_name": "PasswordModel",
      "state": {
       "layout": "IPY_MODEL_d7bf0f7abf4b492b8e95fa4505f91dfa",
       "placeholder": "Confirm passcode",
       "style": "IPY_MODEL_f988392795454bfca505ed11accea5ee"
      }
     },
     "080abf17bfe340b1b0631cd918ffc805": {
      "model_module": "@jupyter-widgets/base",
      "model_module_version": "1.1.0",
      "model_name": "LayoutModel",
      "state": {
       "flex": "1 1 65%"
      }
     },
     "083f4cbcd5144c3ba9127a2a25fdc1d9": {
      "model_module": "@jupyter-widgets/controls",
      "model_module_version": "1.4.0",
      "model_name": "ButtonStyleModel",
      "state": {}
     },
     "085f122b8cef4c028771fc8bc6a4b041": {
      "model_module": "@jupyter-widgets/controls",
      "model_module_version": "1.4.0",
      "model_name": "LabelModel",
      "state": {
       "layout": "IPY_MODEL_aeda77d6dfce493a94ed29556ccda218",
       "style": "IPY_MODEL_4b9c26f67114457cab0d3e55341ac416",
       "value": "Azure Storage account key"
      }
     },
     "08b5898dea2e46a7bbb9b21959c26a2e": {
      "model_module": "@jupyter-widgets/base",
      "model_module_version": "1.1.0",
      "model_name": "LayoutModel",
      "state": {
       "width": "90%"
      }
     },
     "08e3e591c5d34e64aab7797c100c1c1e": {
      "model_module": "@jupyter-widgets/controls",
      "model_module_version": "1.4.0",
      "model_name": "LabelModel",
      "state": {
       "layout": "IPY_MODEL_626cd58b995346fca8e71db2a99339f4",
       "style": "IPY_MODEL_e40d70f01bb54c0abf6009544566d352",
       "value": "Azure Batch account key"
      }
     },
     "08fa0d87042447c597484c949b7437f2": {
      "model_module": "@jupyter-widgets/controls",
      "model_module_version": "1.4.0",
      "model_name": "DescriptionStyleModel",
      "state": {
       "description_width": ""
      }
     },
     "0b82bcca10e74651857b9eb9ac8d0c2f": {
      "model_module": "@jupyter-widgets/controls",
      "model_module_version": "1.4.0",
      "model_name": "ButtonStyleModel",
      "state": {
       "font_weight": "bold"
      }
     },
     "0c3fb20259744602ad2a35af25bf0367": {
      "model_module": "@jupyter-widgets/base",
      "model_module_version": "1.1.0",
      "model_name": "LayoutModel",
      "state": {
       "width": "25%"
      }
     },
     "0d928b6ace424a22925ac72bcccccd8a": {
      "model_module": "@jupyter-widgets/controls",
      "model_module_version": "1.4.0",
      "model_name": "DescriptionStyleModel",
      "state": {
       "description_width": ""
      }
     },
     "0e458cd8c8184b9ea9812987f0392eba": {
      "model_module": "@jupyter-widgets/output",
      "model_module_version": "1.0.0",
      "model_name": "OutputModel",
      "state": {
       "layout": "IPY_MODEL_d72266816967464ea44e04fb1fb47153"
      }
     },
     "0e65c58468734d53bf5556a098467fd3": {
      "model_module": "@jupyter-widgets/controls",
      "model_module_version": "1.4.0",
      "model_name": "VBoxModel",
      "state": {
       "children": [
        "IPY_MODEL_50d66ef791b944748b721a2288aec1a8",
        "IPY_MODEL_7539efb477674b28ad28971761472eb3",
        "IPY_MODEL_a07d4559be9b4dae8f9dd8f67d42299e",
        "IPY_MODEL_dcb5eb41c42949ac9cb8725ced665830",
        "IPY_MODEL_1bc38ba3cfee4c84861ca5c7b434a854",
        "IPY_MODEL_7b0be9993aac4a589bc28d6b390c178a",
        "IPY_MODEL_e96fdeef44e546f88ee3c1536144f970",
        "IPY_MODEL_b28aa021f8e34adf9ed1f0c1146ebe26",
        "IPY_MODEL_436f60b4941440bc9cbb602410d36026",
        "IPY_MODEL_90d549646e5b4d96a86c12a72dfdce67",
        "IPY_MODEL_40a2f549c67b451b8d91d5d4ce5e0bc7"
       ],
       "layout": "IPY_MODEL_d018d70fa46d4a249e44e00ce9c777b9"
      }
     },
     "0f1f7f8cea934572bfb0077b29881cfb": {
      "model_module": "@jupyter-widgets/controls",
      "model_module_version": "1.4.0",
      "model_name": "VBoxModel",
      "state": {
       "children": [
        "IPY_MODEL_edd3f98a09a14365ba2a5cd3b68d1f1f",
        "IPY_MODEL_6e4c6259822a4712b19512bbb7827da1",
        "IPY_MODEL_150c33bc8c0a4e088a739b608c3be723",
        "IPY_MODEL_5a58a136023140debdcd029e702e8804",
        "IPY_MODEL_4978fe93569b4b8086b3dd4528602cc9",
        "IPY_MODEL_cdcc5b4e91a64e1dabbd56c00e3adc92",
        "IPY_MODEL_441f6f93c9fa463c9536629063a01cc9",
        "IPY_MODEL_403c0233a7cb4fe7b9489c7f858805e6",
        "IPY_MODEL_6fcfd346bc9143ff9ba84bd465a18463",
        "IPY_MODEL_51b14b0ec8bf4f61a767d9aa8178ac53",
        "IPY_MODEL_0e458cd8c8184b9ea9812987f0392eba"
       ],
       "layout": "IPY_MODEL_50b542a950944ee8b2e6997bcb2f0828"
      }
     },
     "1024d474323a4ba1b56e487dba40339a": {
      "model_module": "@jupyter-widgets/controls",
      "model_module_version": "1.4.0",
      "model_name": "DescriptionStyleModel",
      "state": {
       "description_width": ""
      }
     },
     "106f187740c84c838c297aa18cd1c475": {
      "model_module": "@jupyter-widgets/controls",
      "model_module_version": "1.4.0",
      "model_name": "LabelModel",
      "state": {
       "layout": "IPY_MODEL_41b7514895c74277a7b41ee12276f594",
       "style": "IPY_MODEL_7c75b35711a14416adfecf6bc08979ea",
       "value": "Azure Batch account key"
      }
     },
     "115c669eeb0a4e5381532066d0d1d89a": {
      "model_module": "@jupyter-widgets/controls",
      "model_module_version": "1.4.0",
      "model_name": "LabelModel",
      "state": {
       "layout": "IPY_MODEL_869d73473c1547178b4500b5d6d878ac",
       "style": "IPY_MODEL_c0f8089fc5ea4238b9ee81a74897de19",
       "value": "Azure Storage account name"
      }
     },
     "12497c254aea4b8fabf3d81e2ec0160f": {
      "model_module": "@jupyter-widgets/base",
      "model_module_version": "1.1.0",
      "model_name": "LayoutModel",
      "state": {
       "width": "25%"
      }
     },
     "1255cfd559794ade9066d5df91eac168": {
      "model_module": "@jupyter-widgets/controls",
      "model_module_version": "1.4.0",
      "model_name": "LabelModel",
      "state": {
       "layout": "IPY_MODEL_bfa7051f63b84841866cddb7bd0ac379",
       "style": "IPY_MODEL_1a3d00c939e348a2ab73ec9c8ddb460e",
       "value": "Azure Storage account key"
      }
     },
     "12b4a1484a674c4f8658228f76d5acb4": {
      "model_module": "@jupyter-widgets/base",
      "model_module_version": "1.1.0",
      "model_name": "LayoutModel",
      "state": {
       "flex": "1 1 35%"
      }
     },
     "133da20d425143ef80a1bc4ab34ebf81": {
      "model_module": "@jupyter-widgets/controls",
      "model_module_version": "1.4.0",
      "model_name": "PasswordModel",
      "state": {
       "layout": "IPY_MODEL_986cc604c9a84271be5c28d6fb066ccb",
       "placeholder": "Azure Batch account key",
       "style": "IPY_MODEL_b738c199534849fe971d286ec41d5817"
      }
     },
     "1413209292744ac3b35b128791d008d1": {
      "model_module": "@jupyter-widgets/base",
      "model_module_version": "1.1.0",
      "model_name": "LayoutModel",
      "state": {
       "flex": "1 1 65%"
      }
     },
     "14658b55f5b8407796695561db6edf39": {
      "model_module": "@jupyter-widgets/controls",
      "model_module_version": "1.4.0",
      "model_name": "LabelModel",
      "state": {
       "layout": "IPY_MODEL_9b99af29e6224f6c9ddf4243857945c6",
       "style": "IPY_MODEL_39ecd021a4fd474aaf7936693f764df4",
       "value": "Passcode"
      }
     },
     "14cb7f20b1124a3ca356dce300c0b282": {
      "model_module": "@jupyter-widgets/base",
      "model_module_version": "1.1.0",
      "model_name": "LayoutModel",
      "state": {
       "width": "90%"
      }
     },
     "14cc03efc41c48eea68f6625d02fced7": {
      "model_module": "@jupyter-widgets/controls",
      "model_module_version": "1.4.0",
      "model_name": "PasswordModel",
      "state": {
       "layout": "IPY_MODEL_5df21e6f6a644402b9a50e6530f6f762",
       "placeholder": "Azure Batch account key",
       "style": "IPY_MODEL_08fa0d87042447c597484c949b7437f2"
      }
     },
     "150c33bc8c0a4e088a739b608c3be723": {
      "model_module": "@jupyter-widgets/controls",
      "model_module_version": "1.4.0",
      "model_name": "HBoxModel",
      "state": {
       "children": [
        "IPY_MODEL_4d5906f97e254aa78cee884e03fcd12c",
        "IPY_MODEL_ec8d712dcbf04acbb3709565a4d2c36b"
       ],
       "layout": "IPY_MODEL_6802550756d144b69c97462534030d55"
      }
     },
     "17b90f217cda4aad97152ea6cba8dc34": {
      "model_module": "@jupyter-widgets/controls",
      "model_module_version": "1.4.0",
      "model_name": "HBoxModel",
      "state": {
       "children": [
        "IPY_MODEL_8c862332eb114d3591c3dc51f447f5ba",
        "IPY_MODEL_208eaf7b0e3f44278c1468f377939375"
       ],
       "layout": "IPY_MODEL_aeafdbd1607346ef9dfeeee7b214e5d9"
      }
     },
     "18ad26aa3db94679b3c90a926841d9a0": {
      "model_module": "@jupyter-widgets/base",
      "model_module_version": "1.1.0",
      "model_name": "LayoutModel",
      "state": {
       "flex": "1 1 65%"
      }
     },
     "19c242ac7fb24cdbbcc618f561507694": {
      "model_module": "@jupyter-widgets/controls",
      "model_module_version": "1.4.0",
      "model_name": "HBoxModel",
      "state": {
       "children": [
        "IPY_MODEL_4c7bc4748b0444e5bb469a4d6f6f4639",
        "IPY_MODEL_963efc247fe34d9286981587db4d27e3"
       ],
       "layout": "IPY_MODEL_8177ff4c335b4804a5f49f3b3445ed3d"
      }
     },
     "1a3d00c939e348a2ab73ec9c8ddb460e": {
      "model_module": "@jupyter-widgets/controls",
      "model_module_version": "1.4.0",
      "model_name": "DescriptionStyleModel",
      "state": {
       "description_width": ""
      }
     },
     "1afc6cebbea94832a8dc0602f52366ca": {
      "model_module": "@jupyter-widgets/controls",
      "model_module_version": "1.4.0",
      "model_name": "LabelModel",
      "state": {
       "layout": "IPY_MODEL_6b56bc3f987e425e8397ff324ab7394f",
       "style": "IPY_MODEL_696c11de2fdd46479dc87f6453f9cd59",
       "value": "Azure Batch account name"
      }
     },
     "1b9b23052f2942998405b62bc035c341": {
      "model_module": "@jupyter-widgets/controls",
      "model_module_version": "1.4.0",
      "model_name": "DescriptionStyleModel",
      "state": {
       "description_width": ""
      }
     },
     "1bc38ba3cfee4c84861ca5c7b434a854": {
      "model_module": "@jupyter-widgets/controls",
      "model_module_version": "1.4.0",
      "model_name": "HBoxModel",
      "state": {
       "children": [
        "IPY_MODEL_1255cfd559794ade9066d5df91eac168",
        "IPY_MODEL_89ffadec18fb4373adf46d666b68eeb4"
       ],
       "layout": "IPY_MODEL_37a2824e6d4c45bf985b928d55b0bc01"
      }
     },
     "1bcfd23d7e6d4c689901687e4e92a051": {
      "model_module": "@jupyter-widgets/base",
      "model_module_version": "1.1.0",
      "model_name": "LayoutModel",
      "state": {
       "width": "25%"
      }
     },
     "1d653fa5307a4b0b906351f924c0c1fd": {
      "model_module": "@jupyter-widgets/controls",
      "model_module_version": "1.4.0",
      "model_name": "DescriptionStyleModel",
      "state": {
       "description_width": ""
      }
     },
     "1d835fdda5914b20a5c35e2b22b7ffaa": {
      "model_module": "@jupyter-widgets/controls",
      "model_module_version": "1.4.0",
      "model_name": "HBoxModel",
      "state": {
       "children": [
        "IPY_MODEL_6121d182f25e402ba7175db7c49df1f5",
        "IPY_MODEL_3fd4d62e78a242a8b6955929c2976c2d"
       ],
       "layout": "IPY_MODEL_7e9da2923c3049d0b4019c37d83695a2"
      }
     },
     "1ddb18ac6f234f6f9cf48998f66b9d76": {
      "model_module": "@jupyter-widgets/controls",
      "model_module_version": "1.4.0",
      "model_name": "ButtonModel",
      "state": {
       "description": "Run",
       "layout": "IPY_MODEL_f2c0382e21c04748a3421687a28c4d72",
       "style": "IPY_MODEL_674c4b39cfb44042b71b48b67c5d47bc",
       "tooltip": "Execute the tool"
      }
     },
     "1e20c2c23a6844fcbe26b2bf8a2b7ab8": {
      "model_module": "@jupyter-widgets/base",
      "model_module_version": "1.1.0",
      "model_name": "LayoutModel",
      "state": {
       "width": "90%"
      }
     },
     "1e2cb0ccc6164a699233888dc47f2461": {
      "model_module": "@jupyter-widgets/base",
      "model_module_version": "1.1.0",
      "model_name": "LayoutModel",
      "state": {
       "width": "25%"
      }
     },
     "1e3a1ee862ce4bca9b4a99b9cbeb8a15": {
      "model_module": "@jupyter-widgets/base",
      "model_module_version": "1.1.0",
      "model_name": "LayoutModel",
      "state": {
       "width": "65%"
      }
     },
     "1e4562cda24749479ca16d3e89b322a2": {
      "model_module": "@jupyter-widgets/controls",
      "model_module_version": "1.4.0",
      "model_name": "PasswordModel",
      "state": {
       "layout": "IPY_MODEL_012f361aff0f43679c32d1a5689d8a12",
       "placeholder": "Azure Batch account URL",
       "style": "IPY_MODEL_b137161213584b0eb2acc6278419a384"
      }
     },
     "1ee55fe0399a40f9938731a8303437d8": {
      "model_module": "@jupyter-widgets/controls",
      "model_module_version": "1.4.0",
      "model_name": "VBoxModel",
      "state": {
       "children": [
        "IPY_MODEL_275d3c96b59e4868890550f6d12f453c",
        "IPY_MODEL_622dfeb7c17d4befbb8cccd208170f91",
        "IPY_MODEL_e5b4ec76eb1a4110825ce8114e066b81",
        "IPY_MODEL_257b5866a2084ffa98e6a063aa512196",
        "IPY_MODEL_b89b7c2ed4434dd1aae8865a7bfc5974",
        "IPY_MODEL_ed9a0c6753b64f769687e944faba67a7",
        "IPY_MODEL_17b90f217cda4aad97152ea6cba8dc34",
        "IPY_MODEL_b466ce3112ea4fabae554822a10eba4f",
        "IPY_MODEL_988c1ed507254650aa1c4bef1a142175",
        "IPY_MODEL_f1a2c509945f4059b18d98f57ff68397",
        "IPY_MODEL_47b83aa8a1e74ae9b15088a4ccb66e1e"
       ],
       "layout": "IPY_MODEL_99893640d07e48d1ab8b61ccf10ef145"
      }
     },
     "1eeec9b15b8747788008ec0a0ccc49d0": {
      "model_module": "@jupyter-widgets/controls",
      "model_module_version": "1.4.0",
      "model_name": "PasswordModel",
      "state": {
       "layout": "IPY_MODEL_90a1f5c1a47242689eef5be929b69da8",
       "placeholder": "Passcode",
       "style": "IPY_MODEL_b2db72cbd7024c3e9a66c2c2a3212008"
      }
     },
     "1f9cc1a15ac04963be607668f09e9c4d": {
      "model_module": "@jupyter-widgets/controls",
      "model_module_version": "1.4.0",
      "model_name": "VBoxModel",
      "state": {
       "children": [
        "IPY_MODEL_4243f67198a743f7a2ccf0275fec5780",
        "IPY_MODEL_92eac88602484b809ce36a7e6c141a5e",
        "IPY_MODEL_3ab44b04902a4d639ba5afdfc909a4fc",
        "IPY_MODEL_738ebb8000154c0596eb6d48b8f28aff",
        "IPY_MODEL_95950578a98f4e2a986b0f9bec6bcf55",
        "IPY_MODEL_29062905497c4e65b00a0a69e6f1acc5",
        "IPY_MODEL_df0991fd230049e9ab61db755d398dc0",
        "IPY_MODEL_532d0957e8fd450f827f45961807f6b8",
        "IPY_MODEL_c58ded33ee8b49cdac4b7bbf209be2e0",
        "IPY_MODEL_759371f5f5e14e33a107f988044a76d8",
        "IPY_MODEL_74bf157b36b746558496e29bd041eed9"
       ],
       "layout": "IPY_MODEL_719f3b26e8d54117ab887fce9278c593"
      }
     },
     "2015cc9e4a4244ff81819c3c2120eaff": {
      "model_module": "@jupyter-widgets/controls",
      "model_module_version": "1.4.0",
      "model_name": "DescriptionStyleModel",
      "state": {
       "description_width": ""
      }
     },
     "208eaf7b0e3f44278c1468f377939375": {
      "model_module": "@jupyter-widgets/controls",
      "model_module_version": "1.4.0",
      "model_name": "PasswordModel",
      "state": {
       "layout": "IPY_MODEL_56094e261f394fd7bc6c20e3e4a9f0f9",
       "placeholder": "Confirm passcode",
       "style": "IPY_MODEL_8335225bd2314f1bb307a70bffe56ce3"
      }
     },
     "20fa414a394346dd81673ad5bdb53f67": {
      "model_module": "@jupyter-widgets/controls",
      "model_module_version": "1.4.0",
      "model_name": "PasswordModel",
      "state": {
       "layout": "IPY_MODEL_ad804b9b718d4d3098443e9f371f257d",
       "placeholder": "Azure Batch account URL",
       "style": "IPY_MODEL_1024d474323a4ba1b56e487dba40339a"
      }
     },
     "222843e7210c40c18612773f45c826e6": {
      "model_module": "@jupyter-widgets/base",
      "model_module_version": "1.1.0",
      "model_name": "LayoutModel",
      "state": {
       "width": "100%"
      }
     },
     "23c28caa5ecd4ae4b98a2a25a2a4e8ed": {
      "model_module": "@jupyter-widgets/controls",
      "model_module_version": "1.4.0",
      "model_name": "LabelModel",
      "state": {
       "layout": "IPY_MODEL_77784d1bd11247d58b508022f6438285",
       "style": "IPY_MODEL_35bf3ea91dd445e191e9958288ffd6ae",
       "value": "Passcode"
      }
     },
     "257b5866a2084ffa98e6a063aa512196": {
      "model_module": "@jupyter-widgets/controls",
      "model_module_version": "1.4.0",
      "model_name": "HBoxModel",
      "state": {
       "children": [
        "IPY_MODEL_6857d50e4f7647f2ad5a830bb202d931",
        "IPY_MODEL_6164443d1d6144b19e5a667fe9d32f7f"
       ],
       "layout": "IPY_MODEL_bcf7dcbf4a3a4ed5b66c08273dc073e4"
      }
     },
     "25ad691746654a52a561201be69f9479": {
      "model_module": "@jupyter-widgets/controls",
      "model_module_version": "1.4.0",
      "model_name": "PasswordModel",
      "state": {
       "layout": "IPY_MODEL_d79c4a98ef134f60bc95aba68154759e",
       "placeholder": "Azure Storage account name",
       "style": "IPY_MODEL_d0c26df7e377489681e63369f46e4564"
      }
     },
     "25fca15bafeb46f79b2dc6c1a6657b56": {
      "model_module": "@jupyter-widgets/controls",
      "model_module_version": "1.4.0",
      "model_name": "TextModel",
      "state": {
       "layout": "IPY_MODEL_b21c020c059a43a1bb6527c77ededfd5",
       "placeholder": "The path to the output directory",
       "style": "IPY_MODEL_8bd8f8e8948243d29846850e92888a18"
      }
     },
     "271f9328a0954a44878a2ab693e06cd3": {
      "model_module": "@jupyter-widgets/base",
      "model_module_version": "1.1.0",
      "model_name": "LayoutModel",
      "state": {
       "width": "25%"
      }
     },
     "275d3c96b59e4868890550f6d12f453c": {
      "model_module": "@jupyter-widgets/controls",
      "model_module_version": "1.4.0",
      "model_name": "HBoxModel",
      "state": {
       "children": [
        "IPY_MODEL_1afc6cebbea94832a8dc0602f52366ca",
        "IPY_MODEL_4b0ad2d283474566b50312f56ffbac13"
       ],
       "layout": "IPY_MODEL_cafcd5a6f0b844a98b5511616831418b"
      }
     },
     "276b5356be2a4373b3cdda1c83a07714": {
      "model_module": "@jupyter-widgets/base",
      "model_module_version": "1.1.0",
      "model_name": "LayoutModel",
      "state": {
       "width": "25%"
      }
     },
     "27df6413306b435199f9c33636acbf05": {
      "model_module": "@jupyter-widgets/base",
      "model_module_version": "1.1.0",
      "model_name": "LayoutModel",
      "state": {
       "flex": "1 1 65%"
      }
     },
     "29062905497c4e65b00a0a69e6f1acc5": {
      "model_module": "@jupyter-widgets/controls",
      "model_module_version": "1.4.0",
      "model_name": "HBoxModel",
      "state": {
       "children": [
        "IPY_MODEL_f686b0011c47454da3cf18915e14fec3",
        "IPY_MODEL_e19bebb3e98744aa9e1d6780433bcdd7"
       ],
       "layout": "IPY_MODEL_4f62a108c2ac4a988b18378c2d668034"
      }
     },
     "29b74691a5664fd8802af009d0d16e28": {
      "model_module": "@jupyter-widgets/controls",
      "model_module_version": "1.4.0",
      "model_name": "DescriptionStyleModel",
      "state": {
       "description_width": ""
      }
     },
     "2a424e0aba3546039767a496f87bc337": {
      "model_module": "@jupyter-widgets/controls",
      "model_module_version": "1.4.0",
      "model_name": "DescriptionStyleModel",
      "state": {
       "description_width": ""
      }
     },
     "2ade9a4cf88e484284de2a8b0b9508af": {
      "model_module": "@jupyter-widgets/base",
      "model_module_version": "1.1.0",
      "model_name": "LayoutModel",
      "state": {
       "flex": "1 1 65%"
      }
     },
     "2b25a8c838324ee581db2c96b8e950c3": {
      "model_module": "@jupyter-widgets/controls",
      "model_module_version": "1.4.0",
      "model_name": "LabelModel",
      "state": {
       "layout": "IPY_MODEL_af12443497234a0db71d331685ad1994",
       "style": "IPY_MODEL_36cdb92103e74aeb8b961523d2e0a6bf",
       "value": "Confirm passcode"
      }
     },
     "2b433dba81844ea4a3768e9d1edaeb4c": {
      "model_module": "@jupyter-widgets/controls",
      "model_module_version": "1.4.0",
      "model_name": "DescriptionStyleModel",
      "state": {
       "description_width": ""
      }
     },
     "2bcf88c62a924efea0d35bbe4c2a5b28": {
      "model_module": "@jupyter-widgets/controls",
      "model_module_version": "1.4.0",
      "model_name": "DescriptionStyleModel",
      "state": {
       "description_width": ""
      }
     },
     "2bf675a41c414570bc6efabfbac7aa30": {
      "model_module": "@jupyter-widgets/base",
      "model_module_version": "1.1.0",
      "model_name": "LayoutModel",
      "state": {
       "width": "100%"
      }
     },
     "2c267829768d4d138833f3851e663c2c": {
      "model_module": "@jupyter-widgets/controls",
      "model_module_version": "1.4.0",
      "model_name": "DescriptionStyleModel",
      "state": {
       "description_width": ""
      }
     },
     "2c3fed39abc143669abd7cf3cfaf2d19": {
      "model_module": "@jupyter-widgets/controls",
      "model_module_version": "1.4.0",
      "model_name": "DescriptionStyleModel",
      "state": {
       "description_width": ""
      }
     },
     "2ca7123761d14ce99ad8534572a2f080": {
      "model_module": "@jupyter-widgets/controls",
      "model_module_version": "1.4.0",
      "model_name": "DescriptionStyleModel",
      "state": {
       "description_width": ""
      }
     },
     "2d1868efac7640adb5c2a346c90be879": {
      "model_module": "@jupyter-widgets/base",
      "model_module_version": "1.1.0",
      "model_name": "LayoutModel",
      "state": {
       "width": "100%"
      }
     },
     "2d57bab8234247a39b74acbdfe6734b5": {
      "model_module": "@jupyter-widgets/controls",
      "model_module_version": "1.4.0",
      "model_name": "ButtonStyleModel",
      "state": {
       "font_weight": "bold"
      }
     },
     "2d95db7e738943a1a39176e34da86098": {
      "model_module": "@jupyter-widgets/controls",
      "model_module_version": "1.4.0",
      "model_name": "DescriptionStyleModel",
      "state": {
       "description_width": ""
      }
     },
     "2eed22911080468087cf70ca22e7d01f": {
      "model_module": "@jupyter-widgets/controls",
      "model_module_version": "1.4.0",
      "model_name": "LabelModel",
      "state": {
       "_dom_classes": [
        "label-wrapped"
       ],
       "layout": "IPY_MODEL_94be64401cd64351b0beaa26eabe7080",
       "style": "IPY_MODEL_2b433dba81844ea4a3768e9d1edaeb4c",
       "value": "The name of the resulting encrypted credential file"
      }
     },
     "2fc19a0743a54caf819d897cd25288d2": {
      "model_module": "@jupyter-widgets/controls",
      "model_module_version": "1.4.0",
      "model_name": "DescriptionStyleModel",
      "state": {
       "description_width": ""
      }
     },
     "302c6b4875254f50884230c8b6f7ff33": {
      "model_module": "@jupyter-widgets/controls",
      "model_module_version": "1.4.0",
      "model_name": "DescriptionStyleModel",
      "state": {
       "description_width": ""
      }
     },
     "308c5cce266243e8a7297ef7cf7a2ada": {
      "model_module": "@jupyter-widgets/controls",
      "model_module_version": "1.4.0",
      "model_name": "PasswordModel",
      "state": {
       "layout": "IPY_MODEL_5a28509c12ea4a4299ba26d0ee5c0f81",
       "placeholder": "Confirm passcode",
       "style": "IPY_MODEL_fb772235ec8946fdb63a71f89e05241b"
      }
     },
     "30c41f8d5cf6418ab0b09c5731afb8ef": {
      "model_module": "@jupyter-widgets/controls",
      "model_module_version": "1.4.0",
      "model_name": "TextModel",
      "state": {
       "layout": "IPY_MODEL_79d5cb0ee0fa4e31a7a73780797f6b9f",
       "placeholder": "The name of the resulting encrypted credential file",
       "style": "IPY_MODEL_9849f70fd1f547c183528192e6daa9cf"
      }
     },
     "31c3142069cb421896539da5589e71a4": {
      "model_module": "@jupyter-widgets/base",
      "model_module_version": "1.1.0",
      "model_name": "LayoutModel",
      "state": {
       "width": "90%"
      }
     },
     "31d6a8a13dce43e78ad44a7c47c11813": {
      "model_module": "@jupyter-widgets/controls",
      "model_module_version": "1.4.0",
      "model_name": "LabelModel",
      "state": {
       "layout": "IPY_MODEL_0c3fb20259744602ad2a35af25bf0367",
       "style": "IPY_MODEL_5a3c77a745444d319707ddd4aefe615b",
       "value": "Azure Storage account name"
      }
     },
     "31dc6fda864b4db0baf341d6cdb95cef": {
      "model_module": "@jupyter-widgets/controls",
      "model_module_version": "1.4.0",
      "model_name": "PasswordModel",
      "state": {
       "layout": "IPY_MODEL_27df6413306b435199f9c33636acbf05",
       "placeholder": "Azure Batch account URL",
       "style": "IPY_MODEL_1b9b23052f2942998405b62bc035c341"
      }
     },
     "35ab2692cddf4a2291e0177dc0027fe5": {
      "model_module": "@jupyter-widgets/controls",
      "model_module_version": "1.4.0",
      "model_name": "DescriptionStyleModel",
      "state": {
       "description_width": ""
      }
     },
     "35bf3ea91dd445e191e9958288ffd6ae": {
      "model_module": "@jupyter-widgets/controls",
      "model_module_version": "1.4.0",
      "model_name": "DescriptionStyleModel",
      "state": {
       "description_width": ""
      }
     },
     "360a06a4e78646deb39454b8597a75a7": {
      "model_module": "@jupyter-widgets/controls",
      "model_module_version": "1.4.0",
      "model_name": "PasswordModel",
      "state": {
       "layout": "IPY_MODEL_010d49a048b940399668c52c3c791d60",
       "placeholder": "Azure Batch account name",
       "style": "IPY_MODEL_2c3fed39abc143669abd7cf3cfaf2d19"
      }
     },
     "36cdb92103e74aeb8b961523d2e0a6bf": {
      "model_module": "@jupyter-widgets/controls",
      "model_module_version": "1.4.0",
      "model_name": "DescriptionStyleModel",
      "state": {
       "description_width": ""
      }
     },
     "37170640400b446b83423fbf40cfc407": {
      "model_module": "@jupyter-widgets/base",
      "model_module_version": "1.1.0",
      "model_name": "LayoutModel",
      "state": {
       "flex": "1 1 45%"
      }
     },
     "37a2824e6d4c45bf985b928d55b0bc01": {
      "model_module": "@jupyter-widgets/base",
      "model_module_version": "1.1.0",
      "model_name": "LayoutModel",
      "state": {
       "width": "90%"
      }
     },
     "37b1ab5b917043a5b76029dde00f22e1": {
      "model_module": "@jupyter-widgets/base",
      "model_module_version": "1.1.0",
      "model_name": "LayoutModel",
      "state": {
       "width": "100%"
      }
     },
     "38fda9a2159647c18945db2fd79b7f46": {
      "model_module": "@jupyter-widgets/base",
      "model_module_version": "1.1.0",
      "model_name": "LayoutModel",
      "state": {
       "flex": "1 1 35%"
      }
     },
     "393ea4d974b84aa6a5974b5bf51ff13a": {
      "model_module": "@jupyter-widgets/base",
      "model_module_version": "1.1.0",
      "model_name": "LayoutModel",
      "state": {
       "width": "30%"
      }
     },
     "39d55f6eafee40f3abc6d2946568cc10": {
      "model_module": "@jupyter-widgets/base",
      "model_module_version": "1.1.0",
      "model_name": "LayoutModel",
      "state": {
       "flex": "1 1 20%"
      }
     },
     "39ecd021a4fd474aaf7936693f764df4": {
      "model_module": "@jupyter-widgets/controls",
      "model_module_version": "1.4.0",
      "model_name": "DescriptionStyleModel",
      "state": {
       "description_width": ""
      }
     },
     "3a10bc8a17a34d36807ba3142093901a": {
      "model_module": "@jupyter-widgets/base",
      "model_module_version": "1.1.0",
      "model_name": "LayoutModel",
      "state": {
       "width": "25%"
      }
     },
     "3ab44b04902a4d639ba5afdfc909a4fc": {
      "model_module": "@jupyter-widgets/controls",
      "model_module_version": "1.4.0",
      "model_name": "HBoxModel",
      "state": {
       "children": [
        "IPY_MODEL_76a3d5de360247b99de9227ee0fd97ee",
        "IPY_MODEL_20fa414a394346dd81673ad5bdb53f67"
       ],
       "layout": "IPY_MODEL_74bfc63cacb544f895e2e2b52d9c6192"
      }
     },
     "3b248dbf1a574a71b495413a639f5420": {
      "model_module": "@jupyter-widgets/base",
      "model_module_version": "1.1.0",
      "model_name": "LayoutModel",
      "state": {
       "width": "65%"
      }
     },
     "3cbd84c45c714188bd122ffe945d6a96": {
      "model_module": "@jupyter-widgets/controls",
      "model_module_version": "1.4.0",
      "model_name": "PasswordModel",
      "state": {
       "layout": "IPY_MODEL_b96bde7cf42946ada1be9351d352469a",
       "placeholder": "Azure Storage account key",
       "style": "IPY_MODEL_2fc19a0743a54caf819d897cd25288d2"
      }
     },
     "3e41459744704876828760974566ba4d": {
      "model_module": "@jupyter-widgets/base",
      "model_module_version": "1.1.0",
      "model_name": "LayoutModel",
      "state": {
       "width": "100%"
      }
     },
     "3e935b5cd5b94acfb77feafe62dd0a63": {
      "model_module": "@jupyter-widgets/controls",
      "model_module_version": "1.4.0",
      "model_name": "ButtonModel",
      "state": {
       "description": "Click to select",
       "layout": "IPY_MODEL_e9e7ee8f3aba485d92852a2a4fbfd126",
       "style": "IPY_MODEL_fdb5a2fa004848a3ab5903f5488d828a",
       "tooltip": "The directory where the encrypted file will be output to."
      }
     },
     "3fd4d62e78a242a8b6955929c2976c2d": {
      "model_module": "@jupyter-widgets/controls",
      "model_module_version": "1.4.0",
      "model_name": "PasswordModel",
      "state": {
       "layout": "IPY_MODEL_a228899dc0604f52a8a56ce33f700816",
       "placeholder": "Azure Batch account key",
       "style": "IPY_MODEL_048c99b5da28406abe8beb18975ddf14"
      }
     },
     "401813460d014d1cba055d55a16d1cc3": {
      "model_module": "@jupyter-widgets/base",
      "model_module_version": "1.1.0",
      "model_name": "LayoutModel",
      "state": {
       "flex": "1 1 45%"
      }
     },
     "403c0233a7cb4fe7b9489c7f858805e6": {
      "model_module": "@jupyter-widgets/controls",
      "model_module_version": "1.4.0",
      "model_name": "HBoxModel",
      "state": {
       "children": [
        "IPY_MODEL_5103abd6b8074e89a403c9504ff4fea9",
        "IPY_MODEL_b5c115ddaaac4d2f8f00210100c2de0e",
        "IPY_MODEL_b04491637bb74a3b93675d57e64bda28"
       ],
       "layout": "IPY_MODEL_72d3291995994a41ae3433de07272ba6"
      }
     },
     "40a2f549c67b451b8d91d5d4ce5e0bc7": {
      "model_module": "@jupyter-widgets/output",
      "model_module_version": "1.0.0",
      "model_name": "OutputModel",
      "state": {
       "layout": "IPY_MODEL_f7223f409b7f49abb0f2b32d53e08f84"
      }
     },
     "4112b0dbd3554d39a69de765d87aa59f": {
      "model_module": "@jupyter-widgets/controls",
      "model_module_version": "1.4.0",
      "model_name": "DescriptionStyleModel",
      "state": {
       "description_width": ""
      }
     },
     "4123b21b00424488a27fc1123339b906": {
      "model_module": "@jupyter-widgets/base",
      "model_module_version": "1.1.0",
      "model_name": "LayoutModel",
      "state": {
       "width": "20%"
      }
     },
     "41b7514895c74277a7b41ee12276f594": {
      "model_module": "@jupyter-widgets/base",
      "model_module_version": "1.1.0",
      "model_name": "LayoutModel",
      "state": {
       "flex": "1 1 35%"
      }
     },
     "4243f67198a743f7a2ccf0275fec5780": {
      "model_module": "@jupyter-widgets/controls",
      "model_module_version": "1.4.0",
      "model_name": "HBoxModel",
      "state": {
       "children": [
        "IPY_MODEL_a5896e4916ca40c28cfcc75174597bb9",
        "IPY_MODEL_82d2148cf2a9486281cc2ef95d301292"
       ],
       "layout": "IPY_MODEL_a543929eeb434dbfb183028e99b26ee8"
      }
     },
     "42471f4df3fd47869609df20716f82a2": {
      "model_module": "@jupyter-widgets/controls",
      "model_module_version": "1.4.0",
      "model_name": "DescriptionStyleModel",
      "state": {
       "description_width": ""
      }
     },
     "436f60b4941440bc9cbb602410d36026": {
      "model_module": "@jupyter-widgets/controls",
      "model_module_version": "1.4.0",
      "model_name": "HBoxModel",
      "state": {
       "children": [
        "IPY_MODEL_2eed22911080468087cf70ca22e7d01f",
        "IPY_MODEL_8b48246fd8b24bae8ba54e2fd9345183"
       ],
       "layout": "IPY_MODEL_5efb61bffea34e85adcd2cd8a31bfead"
      }
     },
     "441f6f93c9fa463c9536629063a01cc9": {
      "model_module": "@jupyter-widgets/controls",
      "model_module_version": "1.4.0",
      "model_name": "HBoxModel",
      "state": {
       "children": [
        "IPY_MODEL_2b25a8c838324ee581db2c96b8e950c3",
        "IPY_MODEL_308c5cce266243e8a7297ef7cf7a2ada"
       ],
       "layout": "IPY_MODEL_37b1ab5b917043a5b76029dde00f22e1"
      }
     },
     "44b02e80503a43548f82134d70845904": {
      "model_module": "@jupyter-widgets/base",
      "model_module_version": "1.1.0",
      "model_name": "LayoutModel",
      "state": {
       "flex": "1 1 65%"
      }
     },
     "44e48369f58b49b9894f9ffebafa0608": {
      "model_module": "@jupyter-widgets/base",
      "model_module_version": "1.1.0",
      "model_name": "LayoutModel",
      "state": {
       "width": "90%"
      }
     },
     "45459e9d30fd4c1abda07ea5a3081671": {
      "model_module": "@jupyter-widgets/controls",
      "model_module_version": "1.4.0",
      "model_name": "PasswordModel",
      "state": {
       "layout": "IPY_MODEL_5f0000919d804a86856570dc40af80d7",
       "placeholder": "Confirm passcode",
       "style": "IPY_MODEL_7e7b78e9c0ea41888f5ec25544fe5d80"
      }
     },
     "4595b9e268f54f869fea5e97693f6e9d": {
      "model_module": "@jupyter-widgets/controls",
      "model_module_version": "1.4.0",
      "model_name": "DescriptionStyleModel",
      "state": {
       "description_width": ""
      }
     },
     "47b83aa8a1e74ae9b15088a4ccb66e1e": {
      "model_module": "@jupyter-widgets/output",
      "model_module_version": "1.0.0",
      "model_name": "OutputModel",
      "state": {
       "layout": "IPY_MODEL_cd9e0064f6404040b2b21ec44d46fcc9"
      }
     },
     "48bd8976c4ba4d688b2ecac6509710de": {
      "model_module": "@jupyter-widgets/base",
      "model_module_version": "1.1.0",
      "model_name": "LayoutModel",
      "state": {
       "flex": "1 1 65%"
      }
     },
     "4978fe93569b4b8086b3dd4528602cc9": {
      "model_module": "@jupyter-widgets/controls",
      "model_module_version": "1.4.0",
      "model_name": "HBoxModel",
      "state": {
       "children": [
        "IPY_MODEL_085f122b8cef4c028771fc8bc6a4b041",
        "IPY_MODEL_3cbd84c45c714188bd122ffe945d6a96"
       ],
       "layout": "IPY_MODEL_2bf675a41c414570bc6efabfbac7aa30"
      }
     },
     "4a685f70fa0b485c9943408215c662aa": {
      "model_module": "@jupyter-widgets/controls",
      "model_module_version": "1.4.0",
      "model_name": "DescriptionStyleModel",
      "state": {
       "description_width": ""
      }
     },
     "4aee0dee16af445c8f8deb8bb94c46ad": {
      "model_module": "@jupyter-widgets/controls",
      "model_module_version": "1.4.0",
      "model_name": "DescriptionStyleModel",
      "state": {
       "description_width": ""
      }
     },
     "4b0ad2d283474566b50312f56ffbac13": {
      "model_module": "@jupyter-widgets/controls",
      "model_module_version": "1.4.0",
      "model_name": "PasswordModel",
      "state": {
       "layout": "IPY_MODEL_005b4258752f43258bc1e65d233a7eee",
       "placeholder": "Azure Batch account name",
       "style": "IPY_MODEL_d59454b704cc45c6b169ffce7f2202c8"
      }
     },
     "4b9c26f67114457cab0d3e55341ac416": {
      "model_module": "@jupyter-widgets/controls",
      "model_module_version": "1.4.0",
      "model_name": "DescriptionStyleModel",
      "state": {
       "description_width": ""
      }
     },
     "4c1ad94af6b7432ead6c5ba5095bc4b6": {
      "model_module": "@jupyter-widgets/base",
      "model_module_version": "1.1.0",
      "model_name": "LayoutModel",
      "state": {
       "flex": "1 1 35%"
      }
     },
     "4c7bc4748b0444e5bb469a4d6f6f4639": {
      "model_module": "@jupyter-widgets/controls",
      "model_module_version": "1.4.0",
      "model_name": "LabelModel",
      "state": {
       "layout": "IPY_MODEL_4e86808858714fa5b3f7d9973261a4e5",
       "style": "IPY_MODEL_ea6604a3a5a94da8a696be2134d9daf3",
       "value": "Azure Storage account key"
      }
     },
     "4c7cfe6459af4c428417065f3cd8e667": {
      "model_module": "@jupyter-widgets/base",
      "model_module_version": "1.1.0",
      "model_name": "LayoutModel",
      "state": {
       "width": "90%"
      }
     },
     "4ce9a216c5db4ebd87eac5801752196b": {
      "model_module": "@jupyter-widgets/controls",
      "model_module_version": "1.4.0",
      "model_name": "DescriptionStyleModel",
      "state": {
       "description_width": ""
      }
     },
     "4d5906f97e254aa78cee884e03fcd12c": {
      "model_module": "@jupyter-widgets/controls",
      "model_module_version": "1.4.0",
      "model_name": "LabelModel",
      "state": {
       "layout": "IPY_MODEL_5137ca6b112d4a8ea58b84b8c1bfc77e",
       "style": "IPY_MODEL_eec8be8aeb6c4dde92055d2b95dfe7e5",
       "value": "Azure Batch account URL"
      }
     },
     "4d5c239eac3a494f9b17b930c285634d": {
      "model_module": "@jupyter-widgets/controls",
      "model_module_version": "1.4.0",
      "model_name": "DescriptionStyleModel",
      "state": {
       "description_width": ""
      }
     },
     "4e86808858714fa5b3f7d9973261a4e5": {
      "model_module": "@jupyter-widgets/base",
      "model_module_version": "1.1.0",
      "model_name": "LayoutModel",
      "state": {
       "width": "25%"
      }
     },
     "4f62a108c2ac4a988b18378c2d668034": {
      "model_module": "@jupyter-widgets/base",
      "model_module_version": "1.1.0",
      "model_name": "LayoutModel",
      "state": {
       "width": "100%"
      }
     },
     "4f8cbf98b4694fbcb4852f3a233eab09": {
      "model_module": "@jupyter-widgets/base",
      "model_module_version": "1.1.0",
      "model_name": "LayoutModel",
      "state": {
       "width": "65%"
      }
     },
     "5073efe67b2c4fdd9c28983de9fd796e": {
      "model_module": "@jupyter-widgets/controls",
      "model_module_version": "1.4.0",
      "model_name": "PasswordModel",
      "state": {
       "layout": "IPY_MODEL_6ebb32bbbac8431c97d8518748d55c06",
       "placeholder": "Azure Batch account key",
       "style": "IPY_MODEL_d15f1ac4fb9a43848073caf268bcf06f"
      }
     },
     "50b542a950944ee8b2e6997bcb2f0828": {
      "model_module": "@jupyter-widgets/base",
      "model_module_version": "1.1.0",
      "model_name": "LayoutModel",
      "state": {
       "width": "100%"
      }
     },
     "50cfc0ce100a4bc282b0063e58ec7963": {
      "model_module": "@jupyter-widgets/base",
      "model_module_version": "1.1.0",
      "model_name": "LayoutModel",
      "state": {
       "width": "90%"
      }
     },
     "50d66ef791b944748b721a2288aec1a8": {
      "model_module": "@jupyter-widgets/controls",
      "model_module_version": "1.4.0",
      "model_name": "HBoxModel",
      "state": {
       "children": [
        "IPY_MODEL_8efc140d4e4a4e22bd104b16723eb334",
        "IPY_MODEL_e9e5c538a7f345a9a6836a520ededfff"
       ],
       "layout": "IPY_MODEL_08b5898dea2e46a7bbb9b21959c26a2e"
      }
     },
     "5103abd6b8074e89a403c9504ff4fea9": {
      "model_module": "@jupyter-widgets/controls",
      "model_module_version": "1.4.0",
      "model_name": "LabelModel",
      "state": {
       "_dom_classes": [
        "label-wrapped"
       ],
       "layout": "IPY_MODEL_e4ca91d7be5d4b95a6c7c516fe65b16a",
       "style": "IPY_MODEL_965e37a5338c432494a1bd33f570c14c",
       "value": "Output destination folder"
      }
     },
     "5137ca6b112d4a8ea58b84b8c1bfc77e": {
      "model_module": "@jupyter-widgets/base",
      "model_module_version": "1.1.0",
      "model_name": "LayoutModel",
      "state": {
       "flex": "1 1 35%"
      }
     },
     "51b14b0ec8bf4f61a767d9aa8178ac53": {
      "model_module": "@jupyter-widgets/controls",
      "model_module_version": "1.4.0",
      "model_name": "ButtonModel",
      "state": {
       "description": "Run",
       "layout": "IPY_MODEL_6847dff72bbe43bf8158bf32382c5ca0",
       "style": "IPY_MODEL_2d57bab8234247a39b74acbdfe6734b5",
       "tooltip": "Execute the tool"
      }
     },
     "52000fd35eaf473eb005899f1128c073": {
      "model_module": "@jupyter-widgets/controls",
      "model_module_version": "1.4.0",
      "model_name": "TextModel",
      "state": {
       "layout": "IPY_MODEL_f032bfea649947b68318567d78019f15",
       "placeholder": "The path to the output directory",
       "style": "IPY_MODEL_7ec768b3e3ef4aeca8f8988a963b137e"
      }
     },
     "532d0957e8fd450f827f45961807f6b8": {
      "model_module": "@jupyter-widgets/controls",
      "model_module_version": "1.4.0",
      "model_name": "HBoxModel",
      "state": {
       "children": [
        "IPY_MODEL_5964280c48164d92b5b2578683d05a23",
        "IPY_MODEL_b02d00664c1b46e3a210d8961f17122c",
        "IPY_MODEL_c161fa5f511641aca2ab50b72989f710"
       ],
       "layout": "IPY_MODEL_fa251d513ba346a6a00f3749cc191eb0"
      }
     },
     "5482137d052f408cb87d35da101aa75b": {
      "model_module": "@jupyter-widgets/base",
      "model_module_version": "1.1.0",
      "model_name": "LayoutModel",
      "state": {
       "flex": "1 1 35%"
      }
     },
     "54acdc10c6944ffea868f5521959d3fe": {
      "model_module": "@jupyter-widgets/controls",
      "model_module_version": "1.4.0",
      "model_name": "ButtonStyleModel",
      "state": {
       "font_weight": "bold"
      }
     },
     "55a09bab86d249f1b29cd96950ea0a83": {
      "model_module": "@jupyter-widgets/base",
      "model_module_version": "1.1.0",
      "model_name": "LayoutModel",
      "state": {
       "flex": "1 1 35%"
      }
     },
     "56094e261f394fd7bc6c20e3e4a9f0f9": {
      "model_module": "@jupyter-widgets/base",
      "model_module_version": "1.1.0",
      "model_name": "LayoutModel",
      "state": {
       "flex": "1 1 65%"
      }
     },
     "5964280c48164d92b5b2578683d05a23": {
      "model_module": "@jupyter-widgets/controls",
      "model_module_version": "1.4.0",
      "model_name": "LabelModel",
      "state": {
       "_dom_classes": [
        "label-wrapped"
       ],
       "layout": "IPY_MODEL_5482137d052f408cb87d35da101aa75b",
       "style": "IPY_MODEL_739ff6eb5ec14b5cacb488b2c872b930",
       "value": "Output destination folder"
      }
     },
     "5966756320c74cbe97fd11424fdbeabd": {
      "model_module": "@jupyter-widgets/base",
      "model_module_version": "1.1.0",
      "model_name": "LayoutModel",
      "state": {
       "flex": "1 1 35%"
      }
     },
     "5a28509c12ea4a4299ba26d0ee5c0f81": {
      "model_module": "@jupyter-widgets/base",
      "model_module_version": "1.1.0",
      "model_name": "LayoutModel",
      "state": {
       "flex": "1 1 65%"
      }
     },
     "5a3c77a745444d319707ddd4aefe615b": {
      "model_module": "@jupyter-widgets/controls",
      "model_module_version": "1.4.0",
      "model_name": "DescriptionStyleModel",
      "state": {
       "description_width": ""
      }
     },
     "5a58a136023140debdcd029e702e8804": {
      "model_module": "@jupyter-widgets/controls",
      "model_module_version": "1.4.0",
      "model_name": "HBoxModel",
      "state": {
       "children": [
        "IPY_MODEL_76dcf49e61f3468db647618a51d1175f",
        "IPY_MODEL_71be01ed1bdd41a5b13d9aeb13474658"
       ],
       "layout": "IPY_MODEL_f7ed801760204c828871e826373f3b94"
      }
     },
     "5ad8a3c0feca4fcf955c948cb731428f": {
      "model_module": "@jupyter-widgets/controls",
      "model_module_version": "1.4.0",
      "model_name": "PasswordModel",
      "state": {
       "layout": "IPY_MODEL_18ad26aa3db94679b3c90a926841d9a0",
       "placeholder": "Azure Storage account name",
       "style": "IPY_MODEL_cf6859507d49453183d03466662c110f"
      }
     },
     "5adb99344d7b47a4a2c7a3ee23ea32d4": {
      "model_module": "@jupyter-widgets/base",
      "model_module_version": "1.1.0",
      "model_name": "LayoutModel",
      "state": {
       "width": "100%"
      }
     },
     "5b91b474a10a42a78f946d58e577e94d": {
      "model_module": "@jupyter-widgets/controls",
      "model_module_version": "1.4.0",
      "model_name": "DescriptionStyleModel",
      "state": {
       "description_width": ""
      }
     },
     "5c19a8c4426e4741843b113af1f45ac2": {
      "model_module": "@jupyter-widgets/controls",
      "model_module_version": "1.4.0",
      "model_name": "LabelModel",
      "state": {
       "_dom_classes": [
        "label-wrapped"
       ],
       "layout": "IPY_MODEL_c1e568cc276246d58614ed9e584e05db",
       "style": "IPY_MODEL_902a896d666a40a5bcac1c3204af40fb",
       "value": "The directory where the encrypted file will be output to"
      }
     },
     "5c3c6b9f547a4a859d5cf573673905d9": {
      "model_module": "@jupyter-widgets/controls",
      "model_module_version": "1.4.0",
      "model_name": "DescriptionStyleModel",
      "state": {
       "description_width": ""
      }
     },
     "5dd986eeb3d6487195e5c2d881571b8a": {
      "model_module": "@jupyter-widgets/base",
      "model_module_version": "1.1.0",
      "model_name": "LayoutModel",
      "state": {
       "width": "100%"
      }
     },
     "5df21e6f6a644402b9a50e6530f6f762": {
      "model_module": "@jupyter-widgets/base",
      "model_module_version": "1.1.0",
      "model_name": "LayoutModel",
      "state": {
       "width": "65%"
      }
     },
     "5ee17b980de74004b8acceae583804f8": {
      "model_module": "@jupyter-widgets/base",
      "model_module_version": "1.1.0",
      "model_name": "LayoutModel",
      "state": {
       "width": "25%"
      }
     },
     "5efb61bffea34e85adcd2cd8a31bfead": {
      "model_module": "@jupyter-widgets/base",
      "model_module_version": "1.1.0",
      "model_name": "LayoutModel",
      "state": {
       "width": "90%"
      }
     },
     "5f0000919d804a86856570dc40af80d7": {
      "model_module": "@jupyter-widgets/base",
      "model_module_version": "1.1.0",
      "model_name": "LayoutModel",
      "state": {
       "width": "65%"
      }
     },
     "60f14acf6aeb4c4ba01038a7eb3055e6": {
      "model_module": "@jupyter-widgets/base",
      "model_module_version": "1.1.0",
      "model_name": "LayoutModel",
      "state": {
       "width": "100%"
      }
     },
     "6121d182f25e402ba7175db7c49df1f5": {
      "model_module": "@jupyter-widgets/controls",
      "model_module_version": "1.4.0",
      "model_name": "LabelModel",
      "state": {
       "layout": "IPY_MODEL_276b5356be2a4373b3cdda1c83a07714",
       "style": "IPY_MODEL_739fe91b453e4a8b87763e84e8581937",
       "value": "Azure Batch account key"
      }
     },
     "6164443d1d6144b19e5a667fe9d32f7f": {
      "model_module": "@jupyter-widgets/controls",
      "model_module_version": "1.4.0",
      "model_name": "PasswordModel",
      "state": {
       "layout": "IPY_MODEL_44b02e80503a43548f82134d70845904",
       "placeholder": "Azure Storage account name",
       "style": "IPY_MODEL_4aee0dee16af445c8f8deb8bb94c46ad"
      }
     },
     "622dfeb7c17d4befbb8cccd208170f91": {
      "model_module": "@jupyter-widgets/controls",
      "model_module_version": "1.4.0",
      "model_name": "HBoxModel",
      "state": {
       "children": [
        "IPY_MODEL_106f187740c84c838c297aa18cd1c475",
        "IPY_MODEL_14cc03efc41c48eea68f6625d02fced7"
       ],
       "layout": "IPY_MODEL_5adb99344d7b47a4a2c7a3ee23ea32d4"
      }
     },
     "625c34469ac24897bbea1d5e29bd3a31": {
      "model_module": "@jupyter-widgets/controls",
      "model_module_version": "1.4.0",
      "model_name": "DescriptionStyleModel",
      "state": {
       "description_width": ""
      }
     },
     "626cd58b995346fca8e71db2a99339f4": {
      "model_module": "@jupyter-widgets/base",
      "model_module_version": "1.1.0",
      "model_name": "LayoutModel",
      "state": {
       "flex": "1 1 35%"
      }
     },
     "64910e3e295c4ea89e987802f534c127": {
      "model_module": "@jupyter-widgets/controls",
      "model_module_version": "1.4.0",
      "model_name": "LabelModel",
      "state": {
       "layout": "IPY_MODEL_5ee17b980de74004b8acceae583804f8",
       "style": "IPY_MODEL_02bb72dea11243c4b8f46ee6aeec2a36",
       "value": "Passcode"
      }
     },
     "654b20bc0b254c02b3f07775a8d9e998": {
      "model_module": "@jupyter-widgets/controls",
      "model_module_version": "1.4.0",
      "model_name": "HBoxModel",
      "state": {
       "children": [
        "IPY_MODEL_9f677bd019d7405e886f63d1db31f83a",
        "IPY_MODEL_0577c7fc217d43f496375869c781cade"
       ],
       "layout": "IPY_MODEL_1e20c2c23a6844fcbe26b2bf8a2b7ab8"
      }
     },
     "674c4b39cfb44042b71b48b67c5d47bc": {
      "model_module": "@jupyter-widgets/controls",
      "model_module_version": "1.4.0",
      "model_name": "ButtonStyleModel",
      "state": {}
     },
     "6760ce98527446a88729869984894e2a": {
      "model_module": "@jupyter-widgets/controls",
      "model_module_version": "1.4.0",
      "model_name": "DescriptionStyleModel",
      "state": {
       "description_width": ""
      }
     },
     "67743bd872314d16981041184ef3c91d": {
      "model_module": "@jupyter-widgets/controls",
      "model_module_version": "1.4.0",
      "model_name": "LabelModel",
      "state": {
       "_dom_classes": [
        "label-wrapped"
       ],
       "layout": "IPY_MODEL_4c1ad94af6b7432ead6c5ba5095bc4b6",
       "style": "IPY_MODEL_d59d53ae6ef747058cc5f6d4b691e529",
       "value": "Output file name"
      }
     },
     "6802550756d144b69c97462534030d55": {
      "model_module": "@jupyter-widgets/base",
      "model_module_version": "1.1.0",
      "model_name": "LayoutModel",
      "state": {
       "width": "100%"
      }
     },
     "6847dff72bbe43bf8158bf32382c5ca0": {
      "model_module": "@jupyter-widgets/base",
      "model_module_version": "1.1.0",
      "model_name": "LayoutModel",
      "state": {
       "width": "30%"
      }
     },
     "6857d50e4f7647f2ad5a830bb202d931": {
      "model_module": "@jupyter-widgets/controls",
      "model_module_version": "1.4.0",
      "model_name": "LabelModel",
      "state": {
       "layout": "IPY_MODEL_f1a9a6e192d7406c88f40a04a97c538c",
       "style": "IPY_MODEL_a2a96d7273784216800c9a5af9f1d204",
       "value": "Azure Storage account name"
      }
     },
     "696c11de2fdd46479dc87f6453f9cd59": {
      "model_module": "@jupyter-widgets/controls",
      "model_module_version": "1.4.0",
      "model_name": "DescriptionStyleModel",
      "state": {
       "description_width": ""
      }
     },
     "6987ae8489e04ea19d1472ff08668b65": {
      "model_module": "@jupyter-widgets/controls",
      "model_module_version": "1.4.0",
      "model_name": "DescriptionStyleModel",
      "state": {
       "description_width": ""
      }
     },
     "69bfe5f487c44518bc59d4692d831add": {
      "model_module": "@jupyter-widgets/base",
      "model_module_version": "1.1.0",
      "model_name": "LayoutModel",
      "state": {
       "width": "65%"
      }
     },
     "69dc1866675b4c18aae81facc984d11c": {
      "model_module": "@jupyter-widgets/controls",
      "model_module_version": "1.4.0",
      "model_name": "DescriptionStyleModel",
      "state": {
       "description_width": ""
      }
     },
     "6aeb5148304e4391ad0a053b7efad138": {
      "model_module": "@jupyter-widgets/controls",
      "model_module_version": "1.4.0",
      "model_name": "DescriptionStyleModel",
      "state": {
       "description_width": ""
      }
     },
     "6b56bc3f987e425e8397ff324ab7394f": {
      "model_module": "@jupyter-widgets/base",
      "model_module_version": "1.1.0",
      "model_name": "LayoutModel",
      "state": {
       "flex": "1 1 35%"
      }
     },
     "6b7f3bec09f74dc5b5de43b8dbd57435": {
      "model_module": "@jupyter-widgets/controls",
      "model_module_version": "1.4.0",
      "model_name": "DescriptionStyleModel",
      "state": {
       "description_width": ""
      }
     },
     "6bb4df328f7f48bf80694e2cf778e33c": {
      "model_module": "@jupyter-widgets/controls",
      "model_module_version": "1.4.0",
      "model_name": "PasswordModel",
      "state": {
       "layout": "IPY_MODEL_1413209292744ac3b35b128791d008d1",
       "placeholder": "Azure Storage account key",
       "style": "IPY_MODEL_4a685f70fa0b485c9943408215c662aa"
      }
     },
     "6c6913346c044595a7e144e2d306c3a8": {
      "model_module": "@jupyter-widgets/base",
      "model_module_version": "1.1.0",
      "model_name": "LayoutModel",
      "state": {
       "width": "65%"
      }
     },
     "6e4c6259822a4712b19512bbb7827da1": {
      "model_module": "@jupyter-widgets/controls",
      "model_module_version": "1.4.0",
      "model_name": "HBoxModel",
      "state": {
       "children": [
        "IPY_MODEL_08e3e591c5d34e64aab7797c100c1c1e",
        "IPY_MODEL_5073efe67b2c4fdd9c28983de9fd796e"
       ],
       "layout": "IPY_MODEL_2d1868efac7640adb5c2a346c90be879"
      }
     },
     "6ebb32bbbac8431c97d8518748d55c06": {
      "model_module": "@jupyter-widgets/base",
      "model_module_version": "1.1.0",
      "model_name": "LayoutModel",
      "state": {
       "width": "65%"
      }
     },
     "6fcfd346bc9143ff9ba84bd465a18463": {
      "model_module": "@jupyter-widgets/controls",
      "model_module_version": "1.4.0",
      "model_name": "HBoxModel",
      "state": {
       "children": [
        "IPY_MODEL_67743bd872314d16981041184ef3c91d",
        "IPY_MODEL_8acc9e0db65141b4a3792402ba8af67b"
       ],
       "layout": "IPY_MODEL_8732382a362149b38ada0b131310ed8b"
      }
     },
     "70269a18c9af4f07a8c771c8a23215bf": {
      "model_module": "@jupyter-widgets/base",
      "model_module_version": "1.1.0",
      "model_name": "LayoutModel",
      "state": {
       "width": "65%"
      }
     },
     "719f3b26e8d54117ab887fce9278c593": {
      "model_module": "@jupyter-widgets/base",
      "model_module_version": "1.1.0",
      "model_name": "LayoutModel",
      "state": {
       "width": "100%"
      }
     },
     "71be01ed1bdd41a5b13d9aeb13474658": {
      "model_module": "@jupyter-widgets/controls",
      "model_module_version": "1.4.0",
      "model_name": "PasswordModel",
      "state": {
       "layout": "IPY_MODEL_b3528daf0aff4a24aa8e46c579caf374",
       "placeholder": "Azure Storage account name",
       "style": "IPY_MODEL_ba0d18ea003e42ca9f9bc6f8042bbda0"
      }
     },
     "72d3291995994a41ae3433de07272ba6": {
      "model_module": "@jupyter-widgets/base",
      "model_module_version": "1.1.0",
      "model_name": "LayoutModel",
      "state": {
       "width": "100%"
      }
     },
     "73087ad03cd440eab6829fd69253778f": {
      "model_module": "@jupyter-widgets/controls",
      "model_module_version": "1.4.0",
      "model_name": "LabelModel",
      "state": {
       "_dom_classes": [
        "label-wrapped"
       ],
       "layout": "IPY_MODEL_38fda9a2159647c18945db2fd79b7f46",
       "style": "IPY_MODEL_6987ae8489e04ea19d1472ff08668b65",
       "value": "Output file name"
      }
     },
     "738ebb8000154c0596eb6d48b8f28aff": {
      "model_module": "@jupyter-widgets/controls",
      "model_module_version": "1.4.0",
      "model_name": "HBoxModel",
      "state": {
       "children": [
        "IPY_MODEL_b399a386ff9a49e69ba439028b61719b",
        "IPY_MODEL_5ad8a3c0feca4fcf955c948cb731428f"
       ],
       "layout": "IPY_MODEL_bcc21d8060454598861c78ec505ca853"
      }
     },
     "739fe91b453e4a8b87763e84e8581937": {
      "model_module": "@jupyter-widgets/controls",
      "model_module_version": "1.4.0",
      "model_name": "DescriptionStyleModel",
      "state": {
       "description_width": ""
      }
     },
     "739ff6eb5ec14b5cacb488b2c872b930": {
      "model_module": "@jupyter-widgets/controls",
      "model_module_version": "1.4.0",
      "model_name": "DescriptionStyleModel",
      "state": {
       "description_width": ""
      }
     },
     "74bf157b36b746558496e29bd041eed9": {
      "model_module": "@jupyter-widgets/output",
      "model_module_version": "1.0.0",
      "model_name": "OutputModel",
      "state": {
       "layout": "IPY_MODEL_60f14acf6aeb4c4ba01038a7eb3055e6"
      }
     },
     "74bfc63cacb544f895e2e2b52d9c6192": {
      "model_module": "@jupyter-widgets/base",
      "model_module_version": "1.1.0",
      "model_name": "LayoutModel",
      "state": {
       "width": "100%"
      }
     },
     "7539efb477674b28ad28971761472eb3": {
      "model_module": "@jupyter-widgets/controls",
      "model_module_version": "1.4.0",
      "model_name": "HBoxModel",
      "state": {
       "children": [
        "IPY_MODEL_9d63ce84e6834d64b79c7ab7d5895dcd",
        "IPY_MODEL_133da20d425143ef80a1bc4ab34ebf81"
       ],
       "layout": "IPY_MODEL_d74c4efa02f747f3913cd8daf59f52e3"
      }
     },
     "759371f5f5e14e33a107f988044a76d8": {
      "model_module": "@jupyter-widgets/controls",
      "model_module_version": "1.4.0",
      "model_name": "ButtonModel",
      "state": {
       "description": "Run",
       "layout": "IPY_MODEL_dd40dd1563864d6e8abb7577cd53bebd",
       "style": "IPY_MODEL_0b82bcca10e74651857b9eb9ac8d0c2f",
       "tooltip": "Execute the tool"
      }
     },
     "76a3d5de360247b99de9227ee0fd97ee": {
      "model_module": "@jupyter-widgets/controls",
      "model_module_version": "1.4.0",
      "model_name": "LabelModel",
      "state": {
       "layout": "IPY_MODEL_832a2e043c0f4940be38b2bb1ccd55b8",
       "style": "IPY_MODEL_b0ec90abe13d41ac89bccc61ec72b6b6",
       "value": "Azure Batch account URL"
      }
     },
     "76dcf49e61f3468db647618a51d1175f": {
      "model_module": "@jupyter-widgets/controls",
      "model_module_version": "1.4.0",
      "model_name": "LabelModel",
      "state": {
       "layout": "IPY_MODEL_c552388ba85e41618093b0dae98bb336",
       "style": "IPY_MODEL_f76da2e35739464db52db183b29dfa66",
       "value": "Azure Storage account name"
      }
     },
     "77784d1bd11247d58b508022f6438285": {
      "model_module": "@jupyter-widgets/base",
      "model_module_version": "1.1.0",
      "model_name": "LayoutModel",
      "state": {
       "width": "25%"
      }
     },
     "79293d5673f04752b6318add3da80693": {
      "model_module": "@jupyter-widgets/controls",
      "model_module_version": "1.4.0",
      "model_name": "PasswordModel",
      "state": {
       "layout": "IPY_MODEL_3b248dbf1a574a71b495413a639f5420",
       "placeholder": "Azure Storage account name",
       "style": "IPY_MODEL_e4c531820c6c48438149d40228e03212"
      }
     },
     "793842b08fd942f7bf4954a837f48351": {
      "model_module": "@jupyter-widgets/controls",
      "model_module_version": "1.4.0",
      "model_name": "HBoxModel",
      "state": {
       "children": [
        "IPY_MODEL_d7c0032933ac48fdb4a36452e16da139",
        "IPY_MODEL_8751ca853f07478d814f7a90c7532d2f"
       ],
       "layout": "IPY_MODEL_50cfc0ce100a4bc282b0063e58ec7963"
      }
     },
     "79d5cb0ee0fa4e31a7a73780797f6b9f": {
      "model_module": "@jupyter-widgets/base",
      "model_module_version": "1.1.0",
      "model_name": "LayoutModel",
      "state": {
       "flex": "1 1 65%"
      }
     },
     "7ac22c3c74e74a929cce5420d0c7519f": {
      "model_module": "@jupyter-widgets/base",
      "model_module_version": "1.1.0",
      "model_name": "LayoutModel",
      "state": {
       "width": "65%"
      }
     },
     "7b0be9993aac4a589bc28d6b390c178a": {
      "model_module": "@jupyter-widgets/controls",
      "model_module_version": "1.4.0",
      "model_name": "HBoxModel",
      "state": {
       "children": [
        "IPY_MODEL_23c28caa5ecd4ae4b98a2a25a2a4e8ed",
        "IPY_MODEL_a4a1cc2d402a4a8f8bf50dd9b179d0a4"
       ],
       "layout": "IPY_MODEL_8fffb64179da4122905bdc4106814ba5"
      }
     },
     "7b28dec805424695bb28b2efb8c6d5b2": {
      "model_module": "@jupyter-widgets/base",
      "model_module_version": "1.1.0",
      "model_name": "LayoutModel",
      "state": {
       "flex": "1 1 65%"
      }
     },
     "7bdd7d29e0ab470bb8f99fc31fe4f00a": {
      "model_module": "@jupyter-widgets/controls",
      "model_module_version": "1.4.0",
      "model_name": "ButtonStyleModel",
      "state": {}
     },
     "7c75b35711a14416adfecf6bc08979ea": {
      "model_module": "@jupyter-widgets/controls",
      "model_module_version": "1.4.0",
      "model_name": "DescriptionStyleModel",
      "state": {
       "description_width": ""
      }
     },
     "7e7b78e9c0ea41888f5ec25544fe5d80": {
      "model_module": "@jupyter-widgets/controls",
      "model_module_version": "1.4.0",
      "model_name": "DescriptionStyleModel",
      "state": {
       "description_width": ""
      }
     },
     "7e9da2923c3049d0b4019c37d83695a2": {
      "model_module": "@jupyter-widgets/base",
      "model_module_version": "1.1.0",
      "model_name": "LayoutModel",
      "state": {
       "width": "90%"
      }
     },
     "7ec768b3e3ef4aeca8f8988a963b137e": {
      "model_module": "@jupyter-widgets/controls",
      "model_module_version": "1.4.0",
      "model_name": "DescriptionStyleModel",
      "state": {
       "description_width": ""
      }
     },
     "805ce3f908e44a7ea6e757b7d8943189": {
      "model_module": "@jupyter-widgets/controls",
      "model_module_version": "1.4.0",
      "model_name": "DescriptionStyleModel",
      "state": {
       "description_width": ""
      }
     },
     "8177ff4c335b4804a5f49f3b3445ed3d": {
      "model_module": "@jupyter-widgets/base",
      "model_module_version": "1.1.0",
      "model_name": "LayoutModel",
      "state": {
       "width": "90%"
      }
     },
     "825425a85cbe47d8a3c036ce1ed1df36": {
      "model_module": "@jupyter-widgets/base",
      "model_module_version": "1.1.0",
      "model_name": "LayoutModel",
      "state": {
       "width": "100%"
      }
     },
     "82d2148cf2a9486281cc2ef95d301292": {
      "model_module": "@jupyter-widgets/controls",
      "model_module_version": "1.4.0",
      "model_name": "PasswordModel",
      "state": {
       "layout": "IPY_MODEL_48bd8976c4ba4d688b2ecac6509710de",
       "placeholder": "Azure Batch account name",
       "style": "IPY_MODEL_b6c22261f0a04d8fa85549fcf7e1c452"
      }
     },
     "832a2e043c0f4940be38b2bb1ccd55b8": {
      "model_module": "@jupyter-widgets/base",
      "model_module_version": "1.1.0",
      "model_name": "LayoutModel",
      "state": {
       "flex": "1 1 35%"
      }
     },
     "8335225bd2314f1bb307a70bffe56ce3": {
      "model_module": "@jupyter-widgets/controls",
      "model_module_version": "1.4.0",
      "model_name": "DescriptionStyleModel",
      "state": {
       "description_width": ""
      }
     },
     "856014bd091644779fba9b5c3ea90bcb": {
      "model_module": "@jupyter-widgets/controls",
      "model_module_version": "1.4.0",
      "model_name": "TextModel",
      "state": {
       "layout": "IPY_MODEL_080abf17bfe340b1b0631cd918ffc805",
       "placeholder": "The name of the resulting encrypted credential file",
       "style": "IPY_MODEL_dd179fbec0894ee29ed5c6f86cc78022"
      }
     },
     "866326ee8cef43279c18a8ec459b516c": {
      "model_module": "@jupyter-widgets/controls",
      "model_module_version": "1.4.0",
      "model_name": "ButtonModel",
      "state": {
       "description": "Click to select",
       "layout": "IPY_MODEL_4123b21b00424488a27fc1123339b906",
       "style": "IPY_MODEL_f2299690ce194fe181ab2e0cb8266d41",
       "tooltip": "The directory where the encrypted file will be output to."
      }
     },
     "866eb4551e454f16b6d50f0efcc71166": {
      "model_module": "@jupyter-widgets/base",
      "model_module_version": "1.1.0",
      "model_name": "LayoutModel",
      "state": {
       "width": "90%"
      }
     },
     "869d73473c1547178b4500b5d6d878ac": {
      "model_module": "@jupyter-widgets/base",
      "model_module_version": "1.1.0",
      "model_name": "LayoutModel",
      "state": {
       "width": "25%"
      }
     },
     "8732382a362149b38ada0b131310ed8b": {
      "model_module": "@jupyter-widgets/base",
      "model_module_version": "1.1.0",
      "model_name": "LayoutModel",
      "state": {
       "width": "100%"
      }
     },
     "8751ca853f07478d814f7a90c7532d2f": {
      "model_module": "@jupyter-widgets/controls",
      "model_module_version": "1.4.0",
      "model_name": "PasswordModel",
      "state": {
       "layout": "IPY_MODEL_b24b63adb29542f489c18c11c346672e",
       "placeholder": "Azure Batch account URL",
       "style": "IPY_MODEL_4595b9e268f54f869fea5e97693f6e9d"
      }
     },
     "87604a1b236a409684e8c2b5fbb49949": {
      "model_module": "@jupyter-widgets/controls",
      "model_module_version": "1.4.0",
      "model_name": "LabelModel",
      "state": {
       "layout": "IPY_MODEL_dee4afc98fea49acbb714dee52742f7c",
       "style": "IPY_MODEL_044e6bc6d7844eefbf54c15346e5238f",
       "value": "Azure Storage account key"
      }
     },
     "891f258da2e54595965b7a5e51713a3d": {
      "model_module": "@jupyter-widgets/controls",
      "model_module_version": "1.4.0",
      "model_name": "ButtonStyleModel",
      "state": {}
     },
     "8924450fc0264a0095c11b84080e2423": {
      "model_module": "@jupyter-widgets/controls",
      "model_module_version": "1.4.0",
      "model_name": "DescriptionStyleModel",
      "state": {
       "description_width": ""
      }
     },
     "89ffadec18fb4373adf46d666b68eeb4": {
      "model_module": "@jupyter-widgets/controls",
      "model_module_version": "1.4.0",
      "model_name": "PasswordModel",
      "state": {
       "layout": "IPY_MODEL_4f8cbf98b4694fbcb4852f3a233eab09",
       "placeholder": "Azure Storage account key",
       "style": "IPY_MODEL_5b91b474a10a42a78f946d58e577e94d"
      }
     },
     "8a619c8c9ea24277a5b672a28ae95598": {
      "model_module": "@jupyter-widgets/controls",
      "model_module_version": "1.4.0",
      "model_name": "HBoxModel",
      "state": {
       "children": [
        "IPY_MODEL_e264edfc42bb499680f4cb7fb4bedf29",
        "IPY_MODEL_360a06a4e78646deb39454b8597a75a7"
       ],
       "layout": "IPY_MODEL_44e48369f58b49b9894f9ffebafa0608"
      }
     },
     "8acc9e0db65141b4a3792402ba8af67b": {
      "model_module": "@jupyter-widgets/controls",
      "model_module_version": "1.4.0",
      "model_name": "TextModel",
      "state": {
       "layout": "IPY_MODEL_e43d1454cd4446b7bbd0198e93a5a089",
       "placeholder": "The name of the resulting encrypted credential file",
       "style": "IPY_MODEL_e846d9f9598f4ea1a21ce3aa5f6472b9"
      }
     },
     "8b48246fd8b24bae8ba54e2fd9345183": {
      "model_module": "@jupyter-widgets/controls",
      "model_module_version": "1.4.0",
      "model_name": "TextModel",
      "state": {
       "layout": "IPY_MODEL_fa28c7c3a312498aa3c3b3021901fb65",
       "placeholder": "The name of the resulting encrypted credential file",
       "style": "IPY_MODEL_bf6402ac770e4843b70498b03905a399"
      }
     },
     "8bb7888ab0a4433d9ff4ed9e4c0baa6a": {
      "model_module": "@jupyter-widgets/controls",
      "model_module_version": "1.4.0",
      "model_name": "LabelModel",
      "state": {
       "_dom_classes": [
        "label-wrapped"
       ],
       "layout": "IPY_MODEL_5966756320c74cbe97fd11424fdbeabd",
       "style": "IPY_MODEL_1d653fa5307a4b0b906351f924c0c1fd",
       "value": "Output file name"
      }
     },
     "8bcdba60a082450b96b4b698b5a705a5": {
      "model_module": "@jupyter-widgets/controls",
      "model_module_version": "1.4.0",
      "model_name": "TextModel",
      "state": {
       "layout": "IPY_MODEL_ecb664e75d8c4974bbbcdf0721b344dc",
       "placeholder": "The path to the output directory",
       "style": "IPY_MODEL_6b7f3bec09f74dc5b5de43b8dbd57435"
      }
     },
     "8bd8f8e8948243d29846850e92888a18": {
      "model_module": "@jupyter-widgets/controls",
      "model_module_version": "1.4.0",
      "model_name": "DescriptionStyleModel",
      "state": {
       "description_width": ""
      }
     },
     "8c862332eb114d3591c3dc51f447f5ba": {
      "model_module": "@jupyter-widgets/controls",
      "model_module_version": "1.4.0",
      "model_name": "LabelModel",
      "state": {
       "layout": "IPY_MODEL_b6cf51ae58ec48dca01b7e31cadc7b50",
       "style": "IPY_MODEL_69dc1866675b4c18aae81facc984d11c",
       "value": "Confirm passcode"
      }
     },
     "8d5e42e65ae34831b018f108b4c9aa47": {
      "model_module": "@jupyter-widgets/base",
      "model_module_version": "1.1.0",
      "model_name": "LayoutModel",
      "state": {
       "width": "90%"
      }
     },
     "8e94447523ef42a09f45a64256b9fc91": {
      "model_module": "@jupyter-widgets/controls",
      "model_module_version": "1.4.0",
      "model_name": "LabelModel",
      "state": {
       "layout": "IPY_MODEL_ba02fda79f124e3bbf213793b4871f18",
       "style": "IPY_MODEL_0d928b6ace424a22925ac72bcccccd8a",
       "value": "Azure Storage account key"
      }
     },
     "8efc140d4e4a4e22bd104b16723eb334": {
      "model_module": "@jupyter-widgets/controls",
      "model_module_version": "1.4.0",
      "model_name": "LabelModel",
      "state": {
       "layout": "IPY_MODEL_c0f06ba319a3493fbe2077ca2efdf406",
       "style": "IPY_MODEL_4ce9a216c5db4ebd87eac5801752196b",
       "value": "Azure Batch account name"
      }
     },
     "8fffb64179da4122905bdc4106814ba5": {
      "model_module": "@jupyter-widgets/base",
      "model_module_version": "1.1.0",
      "model_name": "LayoutModel",
      "state": {
       "width": "90%"
      }
     },
     "902a896d666a40a5bcac1c3204af40fb": {
      "model_module": "@jupyter-widgets/controls",
      "model_module_version": "1.4.0",
      "model_name": "DescriptionStyleModel",
      "state": {
       "description_width": ""
      }
     },
     "90a1f5c1a47242689eef5be929b69da8": {
      "model_module": "@jupyter-widgets/base",
      "model_module_version": "1.1.0",
      "model_name": "LayoutModel",
      "state": {
       "flex": "1 1 65%"
      }
     },
     "90d549646e5b4d96a86c12a72dfdce67": {
      "model_module": "@jupyter-widgets/controls",
      "model_module_version": "1.4.0",
      "model_name": "ButtonModel",
      "state": {
       "description": "Run",
       "layout": "IPY_MODEL_393ea4d974b84aa6a5974b5bf51ff13a",
       "style": "IPY_MODEL_f87892ef185e41e59051ddf9c4cfffb6",
       "tooltip": "Execute the tool"
      }
     },
     "9123f29a67ef490ebb478768231846e5": {
      "model_module": "@jupyter-widgets/controls",
      "model_module_version": "1.4.0",
      "model_name": "LabelModel",
      "state": {
       "layout": "IPY_MODEL_02e997baada24347b30b884cbad821fd",
       "style": "IPY_MODEL_42471f4df3fd47869609df20716f82a2",
       "value": "Confirm passcode"
      }
     },
     "922577ebcca14711b85709f2529a1135": {
      "model_module": "@jupyter-widgets/controls",
      "model_module_version": "1.4.0",
      "model_name": "DescriptionStyleModel",
      "state": {
       "description_width": ""
      }
     },
     "92eac88602484b809ce36a7e6c141a5e": {
      "model_module": "@jupyter-widgets/controls",
      "model_module_version": "1.4.0",
      "model_name": "HBoxModel",
      "state": {
       "children": [
        "IPY_MODEL_ec27d189f5e54335990697c3c664c1fb",
        "IPY_MODEL_ffbf281205664b289ae9d81ef4bcef87"
       ],
       "layout": "IPY_MODEL_970cea5efefa40b7a366b67374eb80d2"
      }
     },
     "94be64401cd64351b0beaa26eabe7080": {
      "model_module": "@jupyter-widgets/base",
      "model_module_version": "1.1.0",
      "model_name": "LayoutModel",
      "state": {
       "width": "25%"
      }
     },
     "95950578a98f4e2a986b0f9bec6bcf55": {
      "model_module": "@jupyter-widgets/controls",
      "model_module_version": "1.4.0",
      "model_name": "HBoxModel",
      "state": {
       "children": [
        "IPY_MODEL_87604a1b236a409684e8c2b5fbb49949",
        "IPY_MODEL_b3d340847b604a088d44d0bdf3c6ce35"
       ],
       "layout": "IPY_MODEL_5dd986eeb3d6487195e5c2d881571b8a"
      }
     },
     "963efc247fe34d9286981587db4d27e3": {
      "model_module": "@jupyter-widgets/controls",
      "model_module_version": "1.4.0",
      "model_name": "PasswordModel",
      "state": {
       "layout": "IPY_MODEL_69bfe5f487c44518bc59d4692d831add",
       "placeholder": "Azure Storage account key",
       "style": "IPY_MODEL_6aeb5148304e4391ad0a053b7efad138"
      }
     },
     "965e37a5338c432494a1bd33f570c14c": {
      "model_module": "@jupyter-widgets/controls",
      "model_module_version": "1.4.0",
      "model_name": "DescriptionStyleModel",
      "state": {
       "description_width": ""
      }
     },
     "970cea5efefa40b7a366b67374eb80d2": {
      "model_module": "@jupyter-widgets/base",
      "model_module_version": "1.1.0",
      "model_name": "LayoutModel",
      "state": {
       "width": "100%"
      }
     },
     "974cbfe21f3646f0bc26b0e6e95fc60a": {
      "model_module": "@jupyter-widgets/controls",
      "model_module_version": "1.4.0",
      "model_name": "DescriptionStyleModel",
      "state": {
       "description_width": ""
      }
     },
     "97704a6b8eb04ff698d7bdb8ead064af": {
      "model_module": "@jupyter-widgets/controls",
      "model_module_version": "1.4.0",
      "model_name": "LabelModel",
      "state": {
       "_dom_classes": [
        "label-wrapped"
       ],
       "layout": "IPY_MODEL_3a10bc8a17a34d36807ba3142093901a",
       "style": "IPY_MODEL_625c34469ac24897bbea1d5e29bd3a31",
       "value": "The directory where the encrypted file will be output to"
      }
     },
     "9849f70fd1f547c183528192e6daa9cf": {
      "model_module": "@jupyter-widgets/controls",
      "model_module_version": "1.4.0",
      "model_name": "DescriptionStyleModel",
      "state": {
       "description_width": ""
      }
     },
     "986cc604c9a84271be5c28d6fb066ccb": {
      "model_module": "@jupyter-widgets/base",
      "model_module_version": "1.1.0",
      "model_name": "LayoutModel",
      "state": {
       "width": "65%"
      }
     },
     "988c1ed507254650aa1c4bef1a142175": {
      "model_module": "@jupyter-widgets/controls",
      "model_module_version": "1.4.0",
      "model_name": "HBoxModel",
      "state": {
       "children": [
        "IPY_MODEL_8bb7888ab0a4433d9ff4ed9e4c0baa6a",
        "IPY_MODEL_30c41f8d5cf6418ab0b09c5731afb8ef"
       ],
       "layout": "IPY_MODEL_cb7b154e9361460cabd9203cd5305e86"
      }
     },
     "995f36bcdb404767bbd5ddadf5253857": {
      "model_module": "@jupyter-widgets/base",
      "model_module_version": "1.1.0",
      "model_name": "LayoutModel",
      "state": {
       "flex": "1 1 65%"
      }
     },
     "99893640d07e48d1ab8b61ccf10ef145": {
      "model_module": "@jupyter-widgets/base",
      "model_module_version": "1.1.0",
      "model_name": "LayoutModel",
      "state": {
       "width": "100%"
      }
     },
     "9a8b5840da5e420ab87dedf7796d0f35": {
      "model_module": "@jupyter-widgets/base",
      "model_module_version": "1.1.0",
      "model_name": "LayoutModel",
      "state": {
       "width": "100%"
      }
     },
     "9b99af29e6224f6c9ddf4243857945c6": {
      "model_module": "@jupyter-widgets/base",
      "model_module_version": "1.1.0",
      "model_name": "LayoutModel",
      "state": {
       "flex": "1 1 35%"
      }
     },
     "9d63ce84e6834d64b79c7ab7d5895dcd": {
      "model_module": "@jupyter-widgets/controls",
      "model_module_version": "1.4.0",
      "model_name": "LabelModel",
      "state": {
       "layout": "IPY_MODEL_c93d6d2d39f74150aea8c63144e88a67",
       "style": "IPY_MODEL_dc2b5ffc232d41969b14e834fe549fd6",
       "value": "Azure Batch account key"
      }
     },
     "9f677bd019d7405e886f63d1db31f83a": {
      "model_module": "@jupyter-widgets/controls",
      "model_module_version": "1.4.0",
      "model_name": "LabelModel",
      "state": {
       "layout": "IPY_MODEL_1bcfd23d7e6d4c689901687e4e92a051",
       "style": "IPY_MODEL_bdf0320633fe4a07b3d29af34fd44569",
       "value": "Confirm passcode"
      }
     },
     "a05534c691634c47b1e0a3c9a02a0963": {
      "model_module": "@jupyter-widgets/controls",
      "model_module_version": "1.4.0",
      "model_name": "LabelModel",
      "state": {
       "_dom_classes": [
        "label-wrapped"
       ],
       "layout": "IPY_MODEL_12497c254aea4b8fabf3d81e2ec0160f",
       "style": "IPY_MODEL_b5bc616b321b44ca9bb035e1abd636a3",
       "value": "The name of the resulting encrypted credential file"
      }
     },
     "a07d4559be9b4dae8f9dd8f67d42299e": {
      "model_module": "@jupyter-widgets/controls",
      "model_module_version": "1.4.0",
      "model_name": "HBoxModel",
      "state": {
       "children": [
        "IPY_MODEL_ef6c0c8d4b39498b93660f684e9b168e",
        "IPY_MODEL_1e4562cda24749479ca16d3e89b322a2"
       ],
       "layout": "IPY_MODEL_b7b0b10da01b490098162772675aec0b"
      }
     },
     "a228899dc0604f52a8a56ce33f700816": {
      "model_module": "@jupyter-widgets/base",
      "model_module_version": "1.1.0",
      "model_name": "LayoutModel",
      "state": {
       "width": "65%"
      }
     },
     "a2a96d7273784216800c9a5af9f1d204": {
      "model_module": "@jupyter-widgets/controls",
      "model_module_version": "1.4.0",
      "model_name": "DescriptionStyleModel",
      "state": {
       "description_width": ""
      }
     },
     "a4a1cc2d402a4a8f8bf50dd9b179d0a4": {
      "model_module": "@jupyter-widgets/controls",
      "model_module_version": "1.4.0",
      "model_name": "PasswordModel",
      "state": {
       "layout": "IPY_MODEL_e2ae027e17b041159eaeebd728712498",
       "placeholder": "Passcode",
       "style": "IPY_MODEL_e15fc1a5c3814ba58b57375975d700a8"
      }
     },
     "a5282df2ec034c9aa6e6589871ec7c9a": {
      "model_module": "@jupyter-widgets/controls",
      "model_module_version": "1.4.0",
      "model_name": "DescriptionStyleModel",
      "state": {
       "description_width": ""
      }
     },
     "a543929eeb434dbfb183028e99b26ee8": {
      "model_module": "@jupyter-widgets/base",
      "model_module_version": "1.1.0",
      "model_name": "LayoutModel",
      "state": {
       "width": "100%"
      }
     },
     "a550389dbc1542d8a2056773f73b20f3": {
      "model_module": "@jupyter-widgets/base",
      "model_module_version": "1.1.0",
      "model_name": "LayoutModel",
      "state": {
       "width": "100%"
      }
     },
     "a5896e4916ca40c28cfcc75174597bb9": {
      "model_module": "@jupyter-widgets/controls",
      "model_module_version": "1.4.0",
      "model_name": "LabelModel",
      "state": {
       "layout": "IPY_MODEL_af4a4eba2310464bbbc9c3a2600bc03b",
       "style": "IPY_MODEL_c3d10a5da52a44ae8c659e304be26a27",
       "value": "Azure Batch account name"
      }
     },
     "a9a54ee439f64e3fa6b29638d0af961c": {
      "model_module": "@jupyter-widgets/base",
      "model_module_version": "1.1.0",
      "model_name": "LayoutModel",
      "state": {
       "flex": "1 1 20%"
      }
     },
     "aa9e0bccded049c69a1b6a8d9c1f38ce": {
      "model_module": "@jupyter-widgets/base",
      "model_module_version": "1.1.0",
      "model_name": "LayoutModel",
      "state": {
       "width": "25%"
      }
     },
     "ab1623d0773f44599e38e44c10bbc7eb": {
      "model_module": "@jupyter-widgets/base",
      "model_module_version": "1.1.0",
      "model_name": "LayoutModel",
      "state": {
       "flex": "1 1 35%"
      }
     },
     "abc076deade84336bc9a256fddd9940d": {
      "model_module": "@jupyter-widgets/controls",
      "model_module_version": "1.4.0",
      "model_name": "HBoxModel",
      "state": {
       "children": [
        "IPY_MODEL_31d6a8a13dce43e78ad44a7c47c11813",
        "IPY_MODEL_79293d5673f04752b6318add3da80693"
       ],
       "layout": "IPY_MODEL_ddecdc4d33c2436c9e8c19b99fcd5a97"
      }
     },
     "ad804b9b718d4d3098443e9f371f257d": {
      "model_module": "@jupyter-widgets/base",
      "model_module_version": "1.1.0",
      "model_name": "LayoutModel",
      "state": {
       "flex": "1 1 65%"
      }
     },
     "aeafdbd1607346ef9dfeeee7b214e5d9": {
      "model_module": "@jupyter-widgets/base",
      "model_module_version": "1.1.0",
      "model_name": "LayoutModel",
      "state": {
       "width": "100%"
      }
     },
     "aeda77d6dfce493a94ed29556ccda218": {
      "model_module": "@jupyter-widgets/base",
      "model_module_version": "1.1.0",
      "model_name": "LayoutModel",
      "state": {
       "flex": "1 1 35%"
      }
     },
     "af12443497234a0db71d331685ad1994": {
      "model_module": "@jupyter-widgets/base",
      "model_module_version": "1.1.0",
      "model_name": "LayoutModel",
      "state": {
       "flex": "1 1 35%"
      }
     },
     "af4a4eba2310464bbbc9c3a2600bc03b": {
      "model_module": "@jupyter-widgets/base",
      "model_module_version": "1.1.0",
      "model_name": "LayoutModel",
      "state": {
       "flex": "1 1 35%"
      }
     },
     "afe468977c754dadbb3795960692ae47": {
      "model_module": "@jupyter-widgets/controls",
      "model_module_version": "1.4.0",
      "model_name": "LabelModel",
      "state": {
       "layout": "IPY_MODEL_c247edb054ab4a0c9a5b4c5c0368f995",
       "style": "IPY_MODEL_302c6b4875254f50884230c8b6f7ff33",
       "value": "Passcode"
      }
     },
     "b02d00664c1b46e3a210d8961f17122c": {
      "model_module": "@jupyter-widgets/controls",
      "model_module_version": "1.4.0",
      "model_name": "ButtonModel",
      "state": {
       "description": "Click to select",
       "layout": "IPY_MODEL_da639abaeee145958b40d8e5af92fd30",
       "style": "IPY_MODEL_7bdd7d29e0ab470bb8f99fc31fe4f00a",
       "tooltip": "The directory where the encrypted file will be output to."
      }
     },
     "b04491637bb74a3b93675d57e64bda28": {
      "model_module": "@jupyter-widgets/controls",
      "model_module_version": "1.4.0",
      "model_name": "TextModel",
      "state": {
       "layout": "IPY_MODEL_401813460d014d1cba055d55a16d1cc3",
       "placeholder": "The path to the output directory",
       "style": "IPY_MODEL_35ab2692cddf4a2291e0177dc0027fe5"
      }
     },
     "b0ec90abe13d41ac89bccc61ec72b6b6": {
      "model_module": "@jupyter-widgets/controls",
      "model_module_version": "1.4.0",
      "model_name": "DescriptionStyleModel",
      "state": {
       "description_width": ""
      }
     },
     "b0ffa5e41c0240d192ec0ffb5da09893": {
      "model_module": "@jupyter-widgets/controls",
      "model_module_version": "1.4.0",
      "model_name": "DescriptionStyleModel",
      "state": {
       "description_width": ""
      }
     },
     "b137161213584b0eb2acc6278419a384": {
      "model_module": "@jupyter-widgets/controls",
      "model_module_version": "1.4.0",
      "model_name": "DescriptionStyleModel",
      "state": {
       "description_width": ""
      }
     },
     "b21c020c059a43a1bb6527c77ededfd5": {
      "model_module": "@jupyter-widgets/base",
      "model_module_version": "1.1.0",
      "model_name": "LayoutModel",
      "state": {
       "width": "45%"
      }
     },
     "b22267fe122b49af821b0bd1ef35b022": {
      "model_module": "@jupyter-widgets/base",
      "model_module_version": "1.1.0",
      "model_name": "LayoutModel",
      "state": {
       "width": "100%"
      }
     },
     "b24b63adb29542f489c18c11c346672e": {
      "model_module": "@jupyter-widgets/base",
      "model_module_version": "1.1.0",
      "model_name": "LayoutModel",
      "state": {
       "width": "65%"
      }
     },
     "b28aa021f8e34adf9ed1f0c1146ebe26": {
      "model_module": "@jupyter-widgets/controls",
      "model_module_version": "1.4.0",
      "model_name": "HBoxModel",
      "state": {
       "children": [
        "IPY_MODEL_5c19a8c4426e4741843b113af1f45ac2",
        "IPY_MODEL_3e935b5cd5b94acfb77feafe62dd0a63",
        "IPY_MODEL_8bcdba60a082450b96b4b698b5a705a5"
       ],
       "layout": "IPY_MODEL_d121464ebf01491d95901288701190e0"
      }
     },
     "b2db72cbd7024c3e9a66c2c2a3212008": {
      "model_module": "@jupyter-widgets/controls",
      "model_module_version": "1.4.0",
      "model_name": "DescriptionStyleModel",
      "state": {
       "description_width": ""
      }
     },
     "b3528daf0aff4a24aa8e46c579caf374": {
      "model_module": "@jupyter-widgets/base",
      "model_module_version": "1.1.0",
      "model_name": "LayoutModel",
      "state": {
       "flex": "1 1 65%"
      }
     },
     "b399a386ff9a49e69ba439028b61719b": {
      "model_module": "@jupyter-widgets/controls",
      "model_module_version": "1.4.0",
      "model_name": "LabelModel",
      "state": {
       "layout": "IPY_MODEL_12b4a1484a674c4f8658228f76d5acb4",
       "style": "IPY_MODEL_2c267829768d4d138833f3851e663c2c",
       "value": "Azure Storage account name"
      }
     },
     "b3d340847b604a088d44d0bdf3c6ce35": {
      "model_module": "@jupyter-widgets/controls",
      "model_module_version": "1.4.0",
      "model_name": "PasswordModel",
      "state": {
       "layout": "IPY_MODEL_e633f6fd5fcd4b77bf0868b5b957dfc8",
       "placeholder": "Azure Storage account key",
       "style": "IPY_MODEL_2d95db7e738943a1a39176e34da86098"
      }
     },
     "b466ce3112ea4fabae554822a10eba4f": {
      "model_module": "@jupyter-widgets/controls",
      "model_module_version": "1.4.0",
      "model_name": "HBoxModel",
      "state": {
       "children": [
        "IPY_MODEL_ece213cafa364fbe8bc48ae0a0545537",
        "IPY_MODEL_bdef3d173a594b5b8a1ba03cc9f163c5",
        "IPY_MODEL_52000fd35eaf473eb005899f1128c073"
       ],
       "layout": "IPY_MODEL_9a8b5840da5e420ab87dedf7796d0f35"
      }
     },
     "b5bc616b321b44ca9bb035e1abd636a3": {
      "model_module": "@jupyter-widgets/controls",
      "model_module_version": "1.4.0",
      "model_name": "DescriptionStyleModel",
      "state": {
       "description_width": ""
      }
     },
     "b5c115ddaaac4d2f8f00210100c2de0e": {
      "model_module": "@jupyter-widgets/controls",
      "model_module_version": "1.4.0",
      "model_name": "ButtonModel",
      "state": {
       "description": "Click to select",
       "layout": "IPY_MODEL_a9a54ee439f64e3fa6b29638d0af961c",
       "style": "IPY_MODEL_891f258da2e54595965b7a5e51713a3d",
       "tooltip": "The directory where the encrypted file will be output to."
      }
     },
     "b6c22261f0a04d8fa85549fcf7e1c452": {
      "model_module": "@jupyter-widgets/controls",
      "model_module_version": "1.4.0",
      "model_name": "DescriptionStyleModel",
      "state": {
       "description_width": ""
      }
     },
     "b6cf51ae58ec48dca01b7e31cadc7b50": {
      "model_module": "@jupyter-widgets/base",
      "model_module_version": "1.1.0",
      "model_name": "LayoutModel",
      "state": {
       "flex": "1 1 35%"
      }
     },
     "b6d075debbf147f99662844906cd405d": {
      "model_module": "@jupyter-widgets/base",
      "model_module_version": "1.1.0",
      "model_name": "LayoutModel",
      "state": {
       "flex": "1 1 65%"
      }
     },
     "b738c199534849fe971d286ec41d5817": {
      "model_module": "@jupyter-widgets/controls",
      "model_module_version": "1.4.0",
      "model_name": "DescriptionStyleModel",
      "state": {
       "description_width": ""
      }
     },
     "b7b0b10da01b490098162772675aec0b": {
      "model_module": "@jupyter-widgets/base",
      "model_module_version": "1.1.0",
      "model_name": "LayoutModel",
      "state": {
       "width": "90%"
      }
     },
     "b89b7c2ed4434dd1aae8865a7bfc5974": {
      "model_module": "@jupyter-widgets/controls",
      "model_module_version": "1.4.0",
      "model_name": "HBoxModel",
      "state": {
       "children": [
        "IPY_MODEL_8e94447523ef42a09f45a64256b9fc91",
        "IPY_MODEL_6bb4df328f7f48bf80694e2cf778e33c"
       ],
       "layout": "IPY_MODEL_c8680235742c458bb11de2c37bdfc5c9"
      }
     },
     "b96bde7cf42946ada1be9351d352469a": {
      "model_module": "@jupyter-widgets/base",
      "model_module_version": "1.1.0",
      "model_name": "LayoutModel",
      "state": {
       "flex": "1 1 65%"
      }
     },
     "ba02fda79f124e3bbf213793b4871f18": {
      "model_module": "@jupyter-widgets/base",
      "model_module_version": "1.1.0",
      "model_name": "LayoutModel",
      "state": {
       "flex": "1 1 35%"
      }
     },
     "ba0d18ea003e42ca9f9bc6f8042bbda0": {
      "model_module": "@jupyter-widgets/controls",
      "model_module_version": "1.4.0",
      "model_name": "DescriptionStyleModel",
      "state": {
       "description_width": ""
      }
     },
     "bcc21d8060454598861c78ec505ca853": {
      "model_module": "@jupyter-widgets/base",
      "model_module_version": "1.1.0",
      "model_name": "LayoutModel",
      "state": {
       "width": "100%"
      }
     },
     "bcf7dcbf4a3a4ed5b66c08273dc073e4": {
      "model_module": "@jupyter-widgets/base",
      "model_module_version": "1.1.0",
      "model_name": "LayoutModel",
      "state": {
       "width": "100%"
      }
     },
     "bdef3d173a594b5b8a1ba03cc9f163c5": {
      "model_module": "@jupyter-widgets/controls",
      "model_module_version": "1.4.0",
      "model_name": "ButtonModel",
      "state": {
       "description": "Click to select",
       "layout": "IPY_MODEL_39d55f6eafee40f3abc6d2946568cc10",
       "style": "IPY_MODEL_083f4cbcd5144c3ba9127a2a25fdc1d9",
       "tooltip": "The directory where the encrypted file will be output to."
      }
     },
     "bdf0320633fe4a07b3d29af34fd44569": {
      "model_module": "@jupyter-widgets/controls",
      "model_module_version": "1.4.0",
      "model_name": "DescriptionStyleModel",
      "state": {
       "description_width": ""
      }
     },
     "bf6402ac770e4843b70498b03905a399": {
      "model_module": "@jupyter-widgets/controls",
      "model_module_version": "1.4.0",
      "model_name": "DescriptionStyleModel",
      "state": {
       "description_width": ""
      }
     },
     "bfa7051f63b84841866cddb7bd0ac379": {
      "model_module": "@jupyter-widgets/base",
      "model_module_version": "1.1.0",
      "model_name": "LayoutModel",
      "state": {
       "width": "25%"
      }
     },
     "c0f06ba319a3493fbe2077ca2efdf406": {
      "model_module": "@jupyter-widgets/base",
      "model_module_version": "1.1.0",
      "model_name": "LayoutModel",
      "state": {
       "width": "25%"
      }
     },
     "c0f8089fc5ea4238b9ee81a74897de19": {
      "model_module": "@jupyter-widgets/controls",
      "model_module_version": "1.4.0",
      "model_name": "DescriptionStyleModel",
      "state": {
       "description_width": ""
      }
     },
     "c161fa5f511641aca2ab50b72989f710": {
      "model_module": "@jupyter-widgets/controls",
      "model_module_version": "1.4.0",
      "model_name": "TextModel",
      "state": {
       "layout": "IPY_MODEL_37170640400b446b83423fbf40cfc407",
       "placeholder": "The path to the output directory",
       "style": "IPY_MODEL_2015cc9e4a4244ff81819c3c2120eaff"
      }
     },
     "c1e568cc276246d58614ed9e584e05db": {
      "model_module": "@jupyter-widgets/base",
      "model_module_version": "1.1.0",
      "model_name": "LayoutModel",
      "state": {
       "width": "25%"
      }
     },
     "c247edb054ab4a0c9a5b4c5c0368f995": {
      "model_module": "@jupyter-widgets/base",
      "model_module_version": "1.1.0",
      "model_name": "LayoutModel",
      "state": {
       "flex": "1 1 35%"
      }
     },
     "c3d10a5da52a44ae8c659e304be26a27": {
      "model_module": "@jupyter-widgets/controls",
      "model_module_version": "1.4.0",
      "model_name": "DescriptionStyleModel",
      "state": {
       "description_width": ""
      }
     },
     "c552388ba85e41618093b0dae98bb336": {
      "model_module": "@jupyter-widgets/base",
      "model_module_version": "1.1.0",
      "model_name": "LayoutModel",
      "state": {
       "flex": "1 1 35%"
      }
     },
     "c58ded33ee8b49cdac4b7bbf209be2e0": {
      "model_module": "@jupyter-widgets/controls",
      "model_module_version": "1.4.0",
      "model_name": "HBoxModel",
      "state": {
       "children": [
        "IPY_MODEL_73087ad03cd440eab6829fd69253778f",
        "IPY_MODEL_856014bd091644779fba9b5c3ea90bcb"
       ],
       "layout": "IPY_MODEL_fb21d380869e4b4886b4e1d0023e6d58"
      }
     },
     "c63791137ca640b1b9d62b10b0d20118": {
      "model_module": "@jupyter-widgets/controls",
      "model_module_version": "1.4.0",
      "model_name": "HBoxModel",
      "state": {
       "children": [
        "IPY_MODEL_64910e3e295c4ea89e987802f534c127",
        "IPY_MODEL_effa2f9194a347458db822a0703aae81"
       ],
       "layout": "IPY_MODEL_866eb4551e454f16b6d50f0efcc71166"
      }
     },
     "c6ae8c1bb95243259cb6ca5860a0bd50": {
      "model_module": "@jupyter-widgets/controls",
      "model_module_version": "1.4.0",
      "model_name": "DescriptionStyleModel",
      "state": {
       "description_width": ""
      }
     },
     "c7fa732872654bdeb4c0c93a59b21874": {
      "model_module": "@jupyter-widgets/base",
      "model_module_version": "1.1.0",
      "model_name": "LayoutModel",
      "state": {
       "flex": "1 1 35%"
      }
     },
     "c8680235742c458bb11de2c37bdfc5c9": {
      "model_module": "@jupyter-widgets/base",
      "model_module_version": "1.1.0",
      "model_name": "LayoutModel",
      "state": {
       "width": "100%"
      }
     },
     "c8f75dba24af4af9a3a6ec63fc99167c": {
      "model_module": "@jupyter-widgets/controls",
      "model_module_version": "1.4.0",
      "model_name": "DescriptionStyleModel",
      "state": {
       "description_width": ""
      }
     },
     "c93b6ee5741744ea8c87e97926ec43cf": {
      "model_module": "@jupyter-widgets/controls",
      "model_module_version": "1.4.0",
      "model_name": "HBoxModel",
      "state": {
       "children": [
        "IPY_MODEL_a05534c691634c47b1e0a3c9a02a0963",
        "IPY_MODEL_01630de85f434e18ad2cbcc6072b4469"
       ],
       "layout": "IPY_MODEL_faab7c6fda314e1bbf11201b0a7572e3"
      }
     },
     "c93d6d2d39f74150aea8c63144e88a67": {
      "model_module": "@jupyter-widgets/base",
      "model_module_version": "1.1.0",
      "model_name": "LayoutModel",
      "state": {
       "width": "25%"
      }
     },
     "cafcd5a6f0b844a98b5511616831418b": {
      "model_module": "@jupyter-widgets/base",
      "model_module_version": "1.1.0",
      "model_name": "LayoutModel",
      "state": {
       "width": "100%"
      }
     },
     "cb7b154e9361460cabd9203cd5305e86": {
      "model_module": "@jupyter-widgets/base",
      "model_module_version": "1.1.0",
      "model_name": "LayoutModel",
      "state": {
       "width": "100%"
      }
     },
     "cd9e0064f6404040b2b21ec44d46fcc9": {
      "model_module": "@jupyter-widgets/base",
      "model_module_version": "1.1.0",
      "model_name": "LayoutModel",
      "state": {
       "width": "100%"
      }
     },
     "cdcc5b4e91a64e1dabbd56c00e3adc92": {
      "model_module": "@jupyter-widgets/controls",
      "model_module_version": "1.4.0",
      "model_name": "HBoxModel",
      "state": {
       "children": [
        "IPY_MODEL_14658b55f5b8407796695561db6edf39",
        "IPY_MODEL_d8ba5ce51bda40a79740be0ad6b87650"
       ],
       "layout": "IPY_MODEL_3e41459744704876828760974566ba4d"
      }
     },
     "cf6859507d49453183d03466662c110f": {
      "model_module": "@jupyter-widgets/controls",
      "model_module_version": "1.4.0",
      "model_name": "DescriptionStyleModel",
      "state": {
       "description_width": ""
      }
     },
     "d018d70fa46d4a249e44e00ce9c777b9": {
      "model_module": "@jupyter-widgets/base",
      "model_module_version": "1.1.0",
      "model_name": "LayoutModel",
      "state": {
       "width": "100%"
      }
     },
     "d0201d56495c459eb82b987cb4a20dbc": {
      "model_module": "@jupyter-widgets/base",
      "model_module_version": "1.1.0",
      "model_name": "LayoutModel",
      "state": {
       "flex": "1 1 65%"
      }
     },
     "d0c26df7e377489681e63369f46e4564": {
      "model_module": "@jupyter-widgets/controls",
      "model_module_version": "1.4.0",
      "model_name": "DescriptionStyleModel",
      "state": {
       "description_width": ""
      }
     },
     "d121464ebf01491d95901288701190e0": {
      "model_module": "@jupyter-widgets/base",
      "model_module_version": "1.1.0",
      "model_name": "LayoutModel",
      "state": {
       "width": "90%"
      }
     },
     "d15f1ac4fb9a43848073caf268bcf06f": {
      "model_module": "@jupyter-widgets/controls",
      "model_module_version": "1.4.0",
      "model_name": "DescriptionStyleModel",
      "state": {
       "description_width": ""
      }
     },
     "d312c8e21e024b90bdb24f8347f7114e": {
      "model_module": "@jupyter-widgets/controls",
      "model_module_version": "1.4.0",
      "model_name": "DescriptionStyleModel",
      "state": {
       "description_width": ""
      }
     },
     "d512f668613540fca84d3381b2307975": {
      "model_module": "@jupyter-widgets/controls",
      "model_module_version": "1.4.0",
      "model_name": "LabelModel",
      "state": {
       "layout": "IPY_MODEL_1e2cb0ccc6164a699233888dc47f2461",
       "style": "IPY_MODEL_c8f75dba24af4af9a3a6ec63fc99167c",
       "value": "Confirm passcode"
      }
     },
     "d59454b704cc45c6b169ffce7f2202c8": {
      "model_module": "@jupyter-widgets/controls",
      "model_module_version": "1.4.0",
      "model_name": "DescriptionStyleModel",
      "state": {
       "description_width": ""
      }
     },
     "d59d53ae6ef747058cc5f6d4b691e529": {
      "model_module": "@jupyter-widgets/controls",
      "model_module_version": "1.4.0",
      "model_name": "DescriptionStyleModel",
      "state": {
       "description_width": ""
      }
     },
     "d72266816967464ea44e04fb1fb47153": {
      "model_module": "@jupyter-widgets/base",
      "model_module_version": "1.1.0",
      "model_name": "LayoutModel",
      "state": {
       "width": "100%"
      }
     },
     "d74c4efa02f747f3913cd8daf59f52e3": {
      "model_module": "@jupyter-widgets/base",
      "model_module_version": "1.1.0",
      "model_name": "LayoutModel",
      "state": {
       "width": "90%"
      }
     },
     "d79c4a98ef134f60bc95aba68154759e": {
      "model_module": "@jupyter-widgets/base",
      "model_module_version": "1.1.0",
      "model_name": "LayoutModel",
      "state": {
       "width": "65%"
      }
     },
     "d7bf0f7abf4b492b8e95fa4505f91dfa": {
      "model_module": "@jupyter-widgets/base",
      "model_module_version": "1.1.0",
      "model_name": "LayoutModel",
      "state": {
       "width": "65%"
      }
     },
     "d7c0032933ac48fdb4a36452e16da139": {
      "model_module": "@jupyter-widgets/controls",
      "model_module_version": "1.4.0",
      "model_name": "LabelModel",
      "state": {
       "layout": "IPY_MODEL_aa9e0bccded049c69a1b6a8d9c1f38ce",
       "style": "IPY_MODEL_4112b0dbd3554d39a69de765d87aa59f",
       "value": "Azure Batch account URL"
      }
     },
     "d8ba5ce51bda40a79740be0ad6b87650": {
      "model_module": "@jupyter-widgets/controls",
      "model_module_version": "1.4.0",
      "model_name": "PasswordModel",
      "state": {
       "layout": "IPY_MODEL_2ade9a4cf88e484284de2a8b0b9508af",
       "placeholder": "Passcode",
       "style": "IPY_MODEL_805ce3f908e44a7ea6e757b7d8943189"
      }
     },
     "da639abaeee145958b40d8e5af92fd30": {
      "model_module": "@jupyter-widgets/base",
      "model_module_version": "1.1.0",
      "model_name": "LayoutModel",
      "state": {
       "flex": "1 1 20%"
      }
     },
     "dc2b5ffc232d41969b14e834fe549fd6": {
      "model_module": "@jupyter-widgets/controls",
      "model_module_version": "1.4.0",
      "model_name": "DescriptionStyleModel",
      "state": {
       "description_width": ""
      }
     },
     "dcb5eb41c42949ac9cb8725ced665830": {
      "model_module": "@jupyter-widgets/controls",
      "model_module_version": "1.4.0",
      "model_name": "HBoxModel",
      "state": {
       "children": [
        "IPY_MODEL_115c669eeb0a4e5381532066d0d1d89a",
        "IPY_MODEL_25ad691746654a52a561201be69f9479"
       ],
       "layout": "IPY_MODEL_14cb7f20b1124a3ca356dce300c0b282"
      }
     },
     "dd179fbec0894ee29ed5c6f86cc78022": {
      "model_module": "@jupyter-widgets/controls",
      "model_module_version": "1.4.0",
      "model_name": "DescriptionStyleModel",
      "state": {
       "description_width": ""
      }
     },
     "dd40dd1563864d6e8abb7577cd53bebd": {
      "model_module": "@jupyter-widgets/base",
      "model_module_version": "1.1.0",
      "model_name": "LayoutModel",
      "state": {
       "width": "30%"
      }
     },
     "dd7274a67aee425885b7c241286674dc": {
      "model_module": "@jupyter-widgets/base",
      "model_module_version": "1.1.0",
      "model_name": "LayoutModel",
      "state": {
       "width": "25%"
      }
     },
     "ddecdc4d33c2436c9e8c19b99fcd5a97": {
      "model_module": "@jupyter-widgets/base",
      "model_module_version": "1.1.0",
      "model_name": "LayoutModel",
      "state": {
       "width": "90%"
      }
     },
     "dee4afc98fea49acbb714dee52742f7c": {
      "model_module": "@jupyter-widgets/base",
      "model_module_version": "1.1.0",
      "model_name": "LayoutModel",
      "state": {
       "flex": "1 1 35%"
      }
     },
     "df0991fd230049e9ab61db755d398dc0": {
      "model_module": "@jupyter-widgets/controls",
      "model_module_version": "1.4.0",
      "model_name": "HBoxModel",
      "state": {
       "children": [
        "IPY_MODEL_9123f29a67ef490ebb478768231846e5",
        "IPY_MODEL_e677e26e973546cb8e85e41c3a459393"
       ],
       "layout": "IPY_MODEL_222843e7210c40c18612773f45c826e6"
      }
     },
     "dfdc2a2f023e45a8bc163d192021c346": {
      "model_module": "@jupyter-widgets/controls",
      "model_module_version": "1.4.0",
      "model_name": "DescriptionStyleModel",
      "state": {
       "description_width": ""
      }
     },
     "e031e524f35e4ef7871a7d35fd526d8d": {
      "model_module": "@jupyter-widgets/controls",
      "model_module_version": "1.4.0",
      "model_name": "HBoxModel",
      "state": {
       "children": [
        "IPY_MODEL_97704a6b8eb04ff698d7bdb8ead064af",
        "IPY_MODEL_866326ee8cef43279c18a8ec459b516c",
        "IPY_MODEL_25fca15bafeb46f79b2dc6c1a6657b56"
       ],
       "layout": "IPY_MODEL_31c3142069cb421896539da5589e71a4"
      }
     },
     "e15fc1a5c3814ba58b57375975d700a8": {
      "model_module": "@jupyter-widgets/controls",
      "model_module_version": "1.4.0",
      "model_name": "DescriptionStyleModel",
      "state": {
       "description_width": ""
      }
     },
     "e19bebb3e98744aa9e1d6780433bcdd7": {
      "model_module": "@jupyter-widgets/controls",
      "model_module_version": "1.4.0",
      "model_name": "PasswordModel",
      "state": {
       "layout": "IPY_MODEL_b6d075debbf147f99662844906cd405d",
       "placeholder": "Passcode",
       "style": "IPY_MODEL_dfdc2a2f023e45a8bc163d192021c346"
      }
     },
     "e1c59433e17a4b269e6c60e87cd84643": {
      "model_module": "@jupyter-widgets/controls",
      "model_module_version": "1.4.0",
      "model_name": "VBoxModel",
      "state": {
       "children": [
        "IPY_MODEL_8a619c8c9ea24277a5b672a28ae95598",
        "IPY_MODEL_1d835fdda5914b20a5c35e2b22b7ffaa",
        "IPY_MODEL_793842b08fd942f7bf4954a837f48351",
        "IPY_MODEL_abc076deade84336bc9a256fddd9940d",
        "IPY_MODEL_19c242ac7fb24cdbbcc618f561507694",
        "IPY_MODEL_c63791137ca640b1b9d62b10b0d20118",
        "IPY_MODEL_654b20bc0b254c02b3f07775a8d9e998",
        "IPY_MODEL_e031e524f35e4ef7871a7d35fd526d8d",
        "IPY_MODEL_c93b6ee5741744ea8c87e97926ec43cf",
        "IPY_MODEL_1ddb18ac6f234f6f9cf48998f66b9d76",
        "IPY_MODEL_e8d0011ae7b7425682a2b2a2ca74d6b8"
       ],
       "layout": "IPY_MODEL_eed9220413b94c3387b8eff4fcc6f7a3"
      }
     },
     "e264edfc42bb499680f4cb7fb4bedf29": {
      "model_module": "@jupyter-widgets/controls",
      "model_module_version": "1.4.0",
      "model_name": "LabelModel",
      "state": {
       "layout": "IPY_MODEL_271f9328a0954a44878a2ab693e06cd3",
       "style": "IPY_MODEL_a5282df2ec034c9aa6e6589871ec7c9a",
       "value": "Azure Batch account name"
      }
     },
     "e2ae027e17b041159eaeebd728712498": {
      "model_module": "@jupyter-widgets/base",
      "model_module_version": "1.1.0",
      "model_name": "LayoutModel",
      "state": {
       "width": "65%"
      }
     },
     "e40d70f01bb54c0abf6009544566d352": {
      "model_module": "@jupyter-widgets/controls",
      "model_module_version": "1.4.0",
      "model_name": "DescriptionStyleModel",
      "state": {
       "description_width": ""
      }
     },
     "e43d1454cd4446b7bbd0198e93a5a089": {
      "model_module": "@jupyter-widgets/base",
      "model_module_version": "1.1.0",
      "model_name": "LayoutModel",
      "state": {
       "flex": "1 1 65%"
      }
     },
     "e4c531820c6c48438149d40228e03212": {
      "model_module": "@jupyter-widgets/controls",
      "model_module_version": "1.4.0",
      "model_name": "DescriptionStyleModel",
      "state": {
       "description_width": ""
      }
     },
     "e4ca91d7be5d4b95a6c7c516fe65b16a": {
      "model_module": "@jupyter-widgets/base",
      "model_module_version": "1.1.0",
      "model_name": "LayoutModel",
      "state": {
       "flex": "1 1 35%"
      }
     },
     "e5b4ec76eb1a4110825ce8114e066b81": {
      "model_module": "@jupyter-widgets/controls",
      "model_module_version": "1.4.0",
      "model_name": "HBoxModel",
      "state": {
       "children": [
        "IPY_MODEL_fa31003b8e1c4fe4ae836b1050f73044",
        "IPY_MODEL_31dc6fda864b4db0baf341d6cdb95cef"
       ],
       "layout": "IPY_MODEL_a550389dbc1542d8a2056773f73b20f3"
      }
     },
     "e633f6fd5fcd4b77bf0868b5b957dfc8": {
      "model_module": "@jupyter-widgets/base",
      "model_module_version": "1.1.0",
      "model_name": "LayoutModel",
      "state": {
       "flex": "1 1 65%"
      }
     },
     "e677e26e973546cb8e85e41c3a459393": {
      "model_module": "@jupyter-widgets/controls",
      "model_module_version": "1.4.0",
      "model_name": "PasswordModel",
      "state": {
       "layout": "IPY_MODEL_7b28dec805424695bb28b2efb8c6d5b2",
       "placeholder": "Confirm passcode",
       "style": "IPY_MODEL_2ca7123761d14ce99ad8534572a2f080"
      }
     },
     "e846d9f9598f4ea1a21ce3aa5f6472b9": {
      "model_module": "@jupyter-widgets/controls",
      "model_module_version": "1.4.0",
      "model_name": "DescriptionStyleModel",
      "state": {
       "description_width": ""
      }
     },
     "e84b97b00c78446da02e6c9adfb272ef": {
      "model_module": "@jupyter-widgets/base",
      "model_module_version": "1.1.0",
      "model_name": "LayoutModel",
      "state": {
       "flex": "1 1 35%"
      }
     },
     "e8d0011ae7b7425682a2b2a2ca74d6b8": {
      "model_module": "@jupyter-widgets/output",
      "model_module_version": "1.0.0",
      "model_name": "OutputModel",
      "state": {
       "layout": "IPY_MODEL_8d5e42e65ae34831b018f108b4c9aa47"
      }
     },
     "e96fdeef44e546f88ee3c1536144f970": {
      "model_module": "@jupyter-widgets/controls",
      "model_module_version": "1.4.0",
      "model_name": "HBoxModel",
      "state": {
       "children": [
        "IPY_MODEL_d512f668613540fca84d3381b2307975",
        "IPY_MODEL_45459e9d30fd4c1abda07ea5a3081671"
       ],
       "layout": "IPY_MODEL_4c7cfe6459af4c428417065f3cd8e667"
      }
     },
     "e982871b6d65451d8a2fe484c23eada4": {
      "model_module": "@jupyter-widgets/controls",
      "model_module_version": "1.4.0",
      "model_name": "LabelModel",
      "state": {
       "layout": "IPY_MODEL_e84b97b00c78446da02e6c9adfb272ef",
       "style": "IPY_MODEL_b0ffa5e41c0240d192ec0ffb5da09893",
       "value": "Azure Batch account name"
      }
     },
     "e9e5c538a7f345a9a6836a520ededfff": {
      "model_module": "@jupyter-widgets/controls",
      "model_module_version": "1.4.0",
      "model_name": "PasswordModel",
      "state": {
       "layout": "IPY_MODEL_1e3a1ee862ce4bca9b4a99b9cbeb8a15",
       "placeholder": "Azure Batch account name",
       "style": "IPY_MODEL_2a424e0aba3546039767a496f87bc337"
      }
     },
     "e9e7ee8f3aba485d92852a2a4fbfd126": {
      "model_module": "@jupyter-widgets/base",
      "model_module_version": "1.1.0",
      "model_name": "LayoutModel",
      "state": {
       "width": "20%"
      }
     },
     "ea6604a3a5a94da8a696be2134d9daf3": {
      "model_module": "@jupyter-widgets/controls",
      "model_module_version": "1.4.0",
      "model_name": "DescriptionStyleModel",
      "state": {
       "description_width": ""
      }
     },
     "ec27d189f5e54335990697c3c664c1fb": {
      "model_module": "@jupyter-widgets/controls",
      "model_module_version": "1.4.0",
      "model_name": "LabelModel",
      "state": {
       "layout": "IPY_MODEL_c7fa732872654bdeb4c0c93a59b21874",
       "style": "IPY_MODEL_8924450fc0264a0095c11b84080e2423",
       "value": "Azure Batch account key"
      }
     },
     "ec8d712dcbf04acbb3709565a4d2c36b": {
      "model_module": "@jupyter-widgets/controls",
      "model_module_version": "1.4.0",
      "model_name": "PasswordModel",
      "state": {
       "layout": "IPY_MODEL_995f36bcdb404767bbd5ddadf5253857",
       "placeholder": "Azure Batch account URL",
       "style": "IPY_MODEL_4d5c239eac3a494f9b17b930c285634d"
      }
     },
     "ecb664e75d8c4974bbbcdf0721b344dc": {
      "model_module": "@jupyter-widgets/base",
      "model_module_version": "1.1.0",
      "model_name": "LayoutModel",
      "state": {
       "width": "45%"
      }
     },
     "ece213cafa364fbe8bc48ae0a0545537": {
      "model_module": "@jupyter-widgets/controls",
      "model_module_version": "1.4.0",
      "model_name": "LabelModel",
      "state": {
       "_dom_classes": [
        "label-wrapped"
       ],
       "layout": "IPY_MODEL_ab1623d0773f44599e38e44c10bbc7eb",
       "style": "IPY_MODEL_2bcf88c62a924efea0d35bbe4c2a5b28",
       "value": "Output destination folder"
      }
     },
     "ed9a0c6753b64f769687e944faba67a7": {
      "model_module": "@jupyter-widgets/controls",
      "model_module_version": "1.4.0",
      "model_name": "HBoxModel",
      "state": {
       "children": [
        "IPY_MODEL_afe468977c754dadbb3795960692ae47",
        "IPY_MODEL_1eeec9b15b8747788008ec0a0ccc49d0"
       ],
       "layout": "IPY_MODEL_825425a85cbe47d8a3c036ce1ed1df36"
      }
     },
     "edd3f98a09a14365ba2a5cd3b68d1f1f": {
      "model_module": "@jupyter-widgets/controls",
      "model_module_version": "1.4.0",
      "model_name": "HBoxModel",
      "state": {
       "children": [
        "IPY_MODEL_e982871b6d65451d8a2fe484c23eada4",
        "IPY_MODEL_f463520e98a942558b7557e63048a0b2"
       ],
       "layout": "IPY_MODEL_b22267fe122b49af821b0bd1ef35b022"
      }
     },
     "eec8be8aeb6c4dde92055d2b95dfe7e5": {
      "model_module": "@jupyter-widgets/controls",
      "model_module_version": "1.4.0",
      "model_name": "DescriptionStyleModel",
      "state": {
       "description_width": ""
      }
     },
     "eed9220413b94c3387b8eff4fcc6f7a3": {
      "model_module": "@jupyter-widgets/base",
      "model_module_version": "1.1.0",
      "model_name": "LayoutModel",
      "state": {
       "width": "100%"
      }
     },
     "ef6c0c8d4b39498b93660f684e9b168e": {
      "model_module": "@jupyter-widgets/controls",
      "model_module_version": "1.4.0",
      "model_name": "LabelModel",
      "state": {
       "layout": "IPY_MODEL_dd7274a67aee425885b7c241286674dc",
       "style": "IPY_MODEL_974cbfe21f3646f0bc26b0e6e95fc60a",
       "value": "Azure Batch account URL"
      }
     },
     "effa2f9194a347458db822a0703aae81": {
      "model_module": "@jupyter-widgets/controls",
      "model_module_version": "1.4.0",
      "model_name": "PasswordModel",
      "state": {
       "layout": "IPY_MODEL_6c6913346c044595a7e144e2d306c3a8",
       "placeholder": "Passcode",
       "style": "IPY_MODEL_6760ce98527446a88729869984894e2a"
      }
     },
     "f032bfea649947b68318567d78019f15": {
      "model_module": "@jupyter-widgets/base",
      "model_module_version": "1.1.0",
      "model_name": "LayoutModel",
      "state": {
       "flex": "1 1 45%"
      }
     },
     "f1a2c509945f4059b18d98f57ff68397": {
      "model_module": "@jupyter-widgets/controls",
      "model_module_version": "1.4.0",
      "model_name": "ButtonModel",
      "state": {
       "description": "Run",
       "layout": "IPY_MODEL_f222fe9a488646d9a5caecba237a1bd9",
       "style": "IPY_MODEL_54acdc10c6944ffea868f5521959d3fe",
       "tooltip": "Execute the tool"
      }
     },
     "f1a9a6e192d7406c88f40a04a97c538c": {
      "model_module": "@jupyter-widgets/base",
      "model_module_version": "1.1.0",
      "model_name": "LayoutModel",
      "state": {
       "flex": "1 1 35%"
      }
     },
     "f222fe9a488646d9a5caecba237a1bd9": {
      "model_module": "@jupyter-widgets/base",
      "model_module_version": "1.1.0",
      "model_name": "LayoutModel",
      "state": {
       "width": "30%"
      }
     },
     "f2299690ce194fe181ab2e0cb8266d41": {
      "model_module": "@jupyter-widgets/controls",
      "model_module_version": "1.4.0",
      "model_name": "ButtonStyleModel",
      "state": {}
     },
     "f2c0382e21c04748a3421687a28c4d72": {
      "model_module": "@jupyter-widgets/base",
      "model_module_version": "1.1.0",
      "model_name": "LayoutModel",
      "state": {
       "width": "30%"
      }
     },
     "f463520e98a942558b7557e63048a0b2": {
      "model_module": "@jupyter-widgets/controls",
      "model_module_version": "1.4.0",
      "model_name": "PasswordModel",
      "state": {
       "layout": "IPY_MODEL_d0201d56495c459eb82b987cb4a20dbc",
       "placeholder": "Azure Batch account name",
       "style": "IPY_MODEL_d312c8e21e024b90bdb24f8347f7114e"
      }
     },
     "f4753f0bb44c4303887be73453574aa7": {
      "model_module": "@jupyter-widgets/base",
      "model_module_version": "1.1.0",
      "model_name": "LayoutModel",
      "state": {
       "flex": "1 1 35%"
      }
     },
     "f686b0011c47454da3cf18915e14fec3": {
      "model_module": "@jupyter-widgets/controls",
      "model_module_version": "1.4.0",
      "model_name": "LabelModel",
      "state": {
       "layout": "IPY_MODEL_f4753f0bb44c4303887be73453574aa7",
       "style": "IPY_MODEL_922577ebcca14711b85709f2529a1135",
       "value": "Passcode"
      }
     },
     "f7223f409b7f49abb0f2b32d53e08f84": {
      "model_module": "@jupyter-widgets/base",
      "model_module_version": "1.1.0",
      "model_name": "LayoutModel",
      "state": {
       "width": "90%"
      }
     },
     "f76da2e35739464db52db183b29dfa66": {
      "model_module": "@jupyter-widgets/controls",
      "model_module_version": "1.4.0",
      "model_name": "DescriptionStyleModel",
      "state": {
       "description_width": ""
      }
     },
     "f7ed801760204c828871e826373f3b94": {
      "model_module": "@jupyter-widgets/base",
      "model_module_version": "1.1.0",
      "model_name": "LayoutModel",
      "state": {
       "width": "100%"
      }
     },
     "f87892ef185e41e59051ddf9c4cfffb6": {
      "model_module": "@jupyter-widgets/controls",
      "model_module_version": "1.4.0",
      "model_name": "ButtonStyleModel",
      "state": {}
     },
     "f988392795454bfca505ed11accea5ee": {
      "model_module": "@jupyter-widgets/controls",
      "model_module_version": "1.4.0",
      "model_name": "DescriptionStyleModel",
      "state": {
       "description_width": ""
      }
     },
     "fa251d513ba346a6a00f3749cc191eb0": {
      "model_module": "@jupyter-widgets/base",
      "model_module_version": "1.1.0",
      "model_name": "LayoutModel",
      "state": {
       "width": "100%"
      }
     },
     "fa28c7c3a312498aa3c3b3021901fb65": {
      "model_module": "@jupyter-widgets/base",
      "model_module_version": "1.1.0",
      "model_name": "LayoutModel",
      "state": {
       "width": "65%"
      }
     },
     "fa31003b8e1c4fe4ae836b1050f73044": {
      "model_module": "@jupyter-widgets/controls",
      "model_module_version": "1.4.0",
      "model_name": "LabelModel",
      "state": {
       "layout": "IPY_MODEL_55a09bab86d249f1b29cd96950ea0a83",
       "style": "IPY_MODEL_c6ae8c1bb95243259cb6ca5860a0bd50",
       "value": "Azure Batch account URL"
      }
     },
     "faab7c6fda314e1bbf11201b0a7572e3": {
      "model_module": "@jupyter-widgets/base",
      "model_module_version": "1.1.0",
      "model_name": "LayoutModel",
      "state": {
       "width": "90%"
      }
     },
     "fb21d380869e4b4886b4e1d0023e6d58": {
      "model_module": "@jupyter-widgets/base",
      "model_module_version": "1.1.0",
      "model_name": "LayoutModel",
      "state": {
       "width": "100%"
      }
     },
     "fb772235ec8946fdb63a71f89e05241b": {
      "model_module": "@jupyter-widgets/controls",
      "model_module_version": "1.4.0",
      "model_name": "DescriptionStyleModel",
      "state": {
       "description_width": ""
      }
     },
     "fdb5a2fa004848a3ab5903f5488d828a": {
      "model_module": "@jupyter-widgets/controls",
      "model_module_version": "1.4.0",
      "model_name": "ButtonStyleModel",
      "state": {}
     },
     "ffbf281205664b289ae9d81ef4bcef87": {
      "model_module": "@jupyter-widgets/controls",
      "model_module_version": "1.4.0",
      "model_name": "PasswordModel",
      "state": {
       "layout": "IPY_MODEL_70269a18c9af4f07a8c771c8a23215bf",
       "placeholder": "Azure Batch account key",
       "style": "IPY_MODEL_29b74691a5664fd8802af009d0d16e28"
      }
     }
    },
    "version_major": 2,
    "version_minor": 0
   }
  }
 },
 "nbformat": 4,
 "nbformat_minor": 2
}
